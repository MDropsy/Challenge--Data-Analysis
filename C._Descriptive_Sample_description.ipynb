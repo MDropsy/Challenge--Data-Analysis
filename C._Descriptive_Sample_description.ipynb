{
 "cells": [
  {
   "cell_type": "markdown",
   "metadata": {},
   "source": [
    "# C. Descriptive : sample description "
   ]
  },
  {
   "cell_type": "code",
   "execution_count": 89,
   "metadata": {},
   "outputs": [],
   "source": [
    "import pandas as pd\n",
    "import numpy as np\n",
    "import matplotlib.pyplot as plt"
   ]
  },
  {
   "cell_type": "code",
   "execution_count": 90,
   "metadata": {},
   "outputs": [],
   "source": [
    "to_keep = pd.read_csv('DEF_IMMO.csv', sep=',', na_values='None')\n"
   ]
  },
  {
   "cell_type": "code",
   "execution_count": 20,
   "metadata": {},
   "outputs": [
    {
     "data": {
      "text/plain": [
       "Index(['Unnamed: 0', 'type_of_property', 'subtype_of_property', 'locality',\n",
       "       'province', 'région', 'price', 'number_of_facades', 'house_area',\n",
       "       'house_area_cat', 'number_of_rooms', 'number_of_rooms_cat',\n",
       "       'surface_of_the_land', 'surface_of_the_land_cat',\n",
       "       'fully_equipped_kitchen', 'garden', 'garden_area', 'terrace',\n",
       "       'terrace_area', 'open_fire', 'swimming_pool', 'state_of_the_building',\n",
       "       'construction_year', 'construction_year_cat'],\n",
       "      dtype='object')"
      ]
     },
     "execution_count": 20,
     "metadata": {},
     "output_type": "execute_result"
    }
   ],
   "source": [
    "to_keep.columns"
   ]
  },
  {
   "cell_type": "code",
   "execution_count": 21,
   "metadata": {},
   "outputs": [
    {
     "data": {
      "text/html": [
       "<div>\n",
       "<style scoped>\n",
       "    .dataframe tbody tr th:only-of-type {\n",
       "        vertical-align: middle;\n",
       "    }\n",
       "\n",
       "    .dataframe tbody tr th {\n",
       "        vertical-align: top;\n",
       "    }\n",
       "\n",
       "    .dataframe thead th {\n",
       "        text-align: right;\n",
       "    }\n",
       "</style>\n",
       "<table border=\"1\" class=\"dataframe\">\n",
       "  <thead>\n",
       "    <tr style=\"text-align: right;\">\n",
       "      <th></th>\n",
       "      <th>Unnamed: 0</th>\n",
       "      <th>type_of_property</th>\n",
       "      <th>subtype_of_property</th>\n",
       "      <th>locality</th>\n",
       "      <th>province</th>\n",
       "      <th>région</th>\n",
       "      <th>price</th>\n",
       "      <th>number_of_facades</th>\n",
       "      <th>house_area</th>\n",
       "      <th>house_area_cat</th>\n",
       "      <th>...</th>\n",
       "      <th>fully_equipped_kitchen</th>\n",
       "      <th>garden</th>\n",
       "      <th>garden_area</th>\n",
       "      <th>terrace</th>\n",
       "      <th>terrace_area</th>\n",
       "      <th>open_fire</th>\n",
       "      <th>swimming_pool</th>\n",
       "      <th>state_of_the_building</th>\n",
       "      <th>construction_year</th>\n",
       "      <th>construction_year_cat</th>\n",
       "    </tr>\n",
       "  </thead>\n",
       "  <tbody>\n",
       "    <tr>\n",
       "      <th>0</th>\n",
       "      <td>0</td>\n",
       "      <td>house</td>\n",
       "      <td>house</td>\n",
       "      <td>1050</td>\n",
       "      <td>Bruxelles-Capitale</td>\n",
       "      <td>Région Bruxelles-capitale</td>\n",
       "      <td>340000</td>\n",
       "      <td>2.0</td>\n",
       "      <td>203.0</td>\n",
       "      <td>]180-240 m²]</td>\n",
       "      <td>...</td>\n",
       "      <td>1</td>\n",
       "      <td>0</td>\n",
       "      <td>NaN</td>\n",
       "      <td>1</td>\n",
       "      <td>NaN</td>\n",
       "      <td>0</td>\n",
       "      <td>0</td>\n",
       "      <td>to be done up</td>\n",
       "      <td>1901.0</td>\n",
       "      <td>1900-1919</td>\n",
       "    </tr>\n",
       "    <tr>\n",
       "      <th>1</th>\n",
       "      <td>1</td>\n",
       "      <td>house</td>\n",
       "      <td>villa</td>\n",
       "      <td>1880</td>\n",
       "      <td>Brabant flamand</td>\n",
       "      <td>Région flamande</td>\n",
       "      <td>525000</td>\n",
       "      <td>4.0</td>\n",
       "      <td>250.0</td>\n",
       "      <td>]240m²- ]</td>\n",
       "      <td>...</td>\n",
       "      <td>1</td>\n",
       "      <td>1</td>\n",
       "      <td>430.0</td>\n",
       "      <td>1</td>\n",
       "      <td>40.0</td>\n",
       "      <td>0</td>\n",
       "      <td>0</td>\n",
       "      <td>as new</td>\n",
       "      <td>1992.0</td>\n",
       "      <td>1980-1999</td>\n",
       "    </tr>\n",
       "    <tr>\n",
       "      <th>2</th>\n",
       "      <td>2</td>\n",
       "      <td>house</td>\n",
       "      <td>exceptional property</td>\n",
       "      <td>4900</td>\n",
       "      <td>Liège</td>\n",
       "      <td>Région wallonne</td>\n",
       "      <td>550000</td>\n",
       "      <td>4.0</td>\n",
       "      <td>475.0</td>\n",
       "      <td>]240m²- ]</td>\n",
       "      <td>...</td>\n",
       "      <td>1</td>\n",
       "      <td>1</td>\n",
       "      <td>1400.0</td>\n",
       "      <td>1</td>\n",
       "      <td>NaN</td>\n",
       "      <td>0</td>\n",
       "      <td>0</td>\n",
       "      <td>good</td>\n",
       "      <td>1853.0</td>\n",
       "      <td>older than 1900</td>\n",
       "    </tr>\n",
       "  </tbody>\n",
       "</table>\n",
       "<p>3 rows × 24 columns</p>\n",
       "</div>"
      ],
      "text/plain": [
       "   Unnamed: 0 type_of_property   subtype_of_property  locality  \\\n",
       "0           0            house                 house      1050   \n",
       "1           1            house                 villa      1880   \n",
       "2           2            house  exceptional property      4900   \n",
       "\n",
       "             province                     région   price  number_of_facades  \\\n",
       "0  Bruxelles-Capitale  Région Bruxelles-capitale  340000                2.0   \n",
       "1     Brabant flamand            Région flamande  525000                4.0   \n",
       "2               Liège            Région wallonne  550000                4.0   \n",
       "\n",
       "   house_area house_area_cat  ...  fully_equipped_kitchen garden  garden_area  \\\n",
       "0       203.0   ]180-240 m²]  ...                       1      0          NaN   \n",
       "1       250.0      ]240m²- ]  ...                       1      1        430.0   \n",
       "2       475.0      ]240m²- ]  ...                       1      1       1400.0   \n",
       "\n",
       "  terrace  terrace_area  open_fire  swimming_pool  state_of_the_building  \\\n",
       "0       1           NaN          0              0          to be done up   \n",
       "1       1          40.0          0              0                 as new   \n",
       "2       1           NaN          0              0                   good   \n",
       "\n",
       "   construction_year  construction_year_cat  \n",
       "0             1901.0              1900-1919  \n",
       "1             1992.0              1980-1999  \n",
       "2             1853.0        older than 1900  \n",
       "\n",
       "[3 rows x 24 columns]"
      ]
     },
     "execution_count": 21,
     "metadata": {},
     "output_type": "execute_result"
    }
   ],
   "source": [
    "to_keep.head(3)"
   ]
  },
  {
   "cell_type": "markdown",
   "metadata": {},
   "source": [
    "## Missing data "
   ]
  },
  {
   "cell_type": "code",
   "execution_count": 22,
   "metadata": {},
   "outputs": [
    {
     "data": {
      "text/plain": [
       "Unnamed: 0                     0\n",
       "type_of_property               0\n",
       "subtype_of_property            0\n",
       "locality                       0\n",
       "province                       0\n",
       "région                         0\n",
       "price                          0\n",
       "number_of_facades          10644\n",
       "house_area                   127\n",
       "house_area_cat               127\n",
       "number_of_rooms                0\n",
       "number_of_rooms_cat            0\n",
       "surface_of_the_land        19987\n",
       "surface_of_the_land_cat    19987\n",
       "fully_equipped_kitchen         0\n",
       "garden                         0\n",
       "garden_area                34488\n",
       "terrace                        0\n",
       "terrace_area               26057\n",
       "open_fire                      0\n",
       "swimming_pool                  0\n",
       "state_of_the_building      10256\n",
       "construction_year          16216\n",
       "construction_year_cat      16216\n",
       "dtype: int64"
      ]
     },
     "execution_count": 22,
     "metadata": {},
     "output_type": "execute_result"
    }
   ],
   "source": [
    "to_keep.isnull().sum()"
   ]
  },
  {
   "cell_type": "markdown",
   "metadata": {},
   "source": [
    "## 1. Type & subtype of properties"
   ]
  },
  {
   "cell_type": "code",
   "execution_count": 23,
   "metadata": {},
   "outputs": [
    {
     "data": {
      "text/plain": [
       "type_of_property\n",
       "apartment    19852\n",
       "house        22500\n",
       "Name: subtype_of_property, dtype: int64"
      ]
     },
     "execution_count": 23,
     "metadata": {},
     "output_type": "execute_result"
    }
   ],
   "source": [
    "to_keep.groupby(['type_of_property']).subtype_of_property.count()"
   ]
  },
  {
   "cell_type": "code",
   "execution_count": 24,
   "metadata": {
    "scrolled": true
   },
   "outputs": [
    {
     "data": {
      "text/plain": [
       "type_of_property  subtype_of_property \n",
       "apartment         apartment               15329\n",
       "                  duplex                   1278\n",
       "                  flat studio               724\n",
       "                  ground floor             1098\n",
       "                  kot                        67\n",
       "                  loft                      199\n",
       "                  penthouse                 830\n",
       "                  service flat              255\n",
       "                  triplex                    72\n",
       "house             apartment block           794\n",
       "                  bungalow                  226\n",
       "                  castle                      7\n",
       "                  chalet                    112\n",
       "                  country cottage           236\n",
       "                  exceptional property      381\n",
       "                  farmhouse                  98\n",
       "                  house                   16651\n",
       "                  manor house                68\n",
       "                  mansion                   394\n",
       "                  mixed use building        741\n",
       "                  other property             58\n",
       "                  pavilion                    1\n",
       "                  town house                356\n",
       "                  villa                    2377\n",
       "Name: subtype_of_property, dtype: int64"
      ]
     },
     "execution_count": 24,
     "metadata": {},
     "output_type": "execute_result"
    }
   ],
   "source": [
    "to_keep.groupby(['type_of_property', 'subtype_of_property']).subtype_of_property.count()"
   ]
  },
  {
   "cell_type": "markdown",
   "metadata": {},
   "source": [
    "## 2. Provinces & régions "
   ]
  },
  {
   "cell_type": "code",
   "execution_count": 25,
   "metadata": {},
   "outputs": [
    {
     "data": {
      "text/plain": [
       "province\n",
       "Anvers                 5510\n",
       "Brabant flamand        3888\n",
       "Brabant wallon         1806\n",
       "Bruxelles-Capitale     4260\n",
       "Flandre-Occidentale    7670\n",
       "Flandre-Orientale      5234\n",
       "Hainaut                4348\n",
       "Limbourg               2625\n",
       "Liège                  4179\n",
       "Luxembourg             1182\n",
       "Namur                  1650\n",
       "Name: province, dtype: int64"
      ]
     },
     "execution_count": 25,
     "metadata": {},
     "output_type": "execute_result"
    }
   ],
   "source": [
    "to_keep.groupby(['province']).province.count()"
   ]
  },
  {
   "cell_type": "code",
   "execution_count": 26,
   "metadata": {},
   "outputs": [
    {
     "data": {
      "text/plain": [
       "région\n",
       "Région Bruxelles-capitale     4260\n",
       "Région flamande              24927\n",
       "Région wallonne              13165\n",
       "Name: région, dtype: int64"
      ]
     },
     "execution_count": 26,
     "metadata": {},
     "output_type": "execute_result"
    }
   ],
   "source": [
    "to_keep.groupby(['région']).région.count()"
   ]
  },
  {
   "cell_type": "markdown",
   "metadata": {},
   "source": [
    "## 3. number_of_facades"
   ]
  },
  {
   "cell_type": "code",
   "execution_count": 27,
   "metadata": {},
   "outputs": [
    {
     "data": {
      "text/plain": [
       "number_of_facades\n",
       "1.0      460\n",
       "2.0    15374\n",
       "3.0     7616\n",
       "4.0     8258\n",
       "Name: province, dtype: int64"
      ]
     },
     "execution_count": 27,
     "metadata": {},
     "output_type": "execute_result"
    }
   ],
   "source": [
    "to_keep.groupby(['number_of_facades']).province.count()"
   ]
  },
  {
   "cell_type": "code",
   "execution_count": 37,
   "metadata": {},
   "outputs": [
    {
     "name": "stdout",
     "output_type": "stream",
     "text": [
      "type_of_property\n",
      "apartment    19852\n",
      "house        22500\n",
      "Name: subtype_of_property, dtype: int64\n",
      "Check for Nan values number of facades in houses\n",
      "False    19626\n",
      "True      2874\n",
      "Name: number_of_facades, dtype: int64\n",
      "Check for Nan values number of facades in appartments\n",
      "False    12082\n",
      "True      7770\n",
      "Name: number_of_facades, dtype: int64\n"
     ]
    }
   ],
   "source": [
    "# % of missing values \n",
    "mask_appartment = to_keep['type_of_property'] == 'apartment'\n",
    "mask_house = to_keep['type_of_property'] == 'house'\n",
    "print(to_keep.groupby(['type_of_property']).subtype_of_property.count())\n",
    "print('Check for Nan values number of facades in houses')\n",
    "print(to_keep[mask_house].number_of_facades.isna().value_counts())\n",
    "print('Check for Nan values number of facades in appartments')\n",
    "print(to_keep[mask_appartment].number_of_facades.isna().value_counts())"
   ]
  },
  {
   "cell_type": "code",
   "execution_count": 40,
   "metadata": {},
   "outputs": [
    {
     "name": "stdout",
     "output_type": "stream",
     "text": [
      "12.8% missing values in  \"number_of_facades\" for houses\n",
      "39.6% missing values in \"number_of_facades\" for appartments\n"
     ]
    }
   ],
   "source": [
    "print('{}% missing values in  \"number_of_facades\" for houses'.format(round((2874/22500)*100, 1)))\n",
    "print('{}% missing values in \"number_of_facades\" for appartments'.format(round((7770/19626)*100, 1)))"
   ]
  },
  {
   "cell_type": "markdown",
   "metadata": {},
   "source": [
    "## 4. house_area_cat"
   ]
  },
  {
   "cell_type": "code",
   "execution_count": 28,
   "metadata": {},
   "outputs": [
    {
     "data": {
      "text/plain": [
       "house_area_cat\n",
       "[0-60 m²]        2699\n",
       "]120-180 m²]    11653\n",
       "]180-240 m²]     5803\n",
       "]240m²- ]        5245\n",
       "]60-120 m²]     16825\n",
       "Name: province, dtype: int64"
      ]
     },
     "execution_count": 28,
     "metadata": {},
     "output_type": "execute_result"
    }
   ],
   "source": [
    "to_keep.groupby(['house_area_cat']).province.count()"
   ]
  },
  {
   "cell_type": "code",
   "execution_count": 79,
   "metadata": {},
   "outputs": [
    {
     "data": {
      "text/plain": [
       "False    42225\n",
       "True       127\n",
       "Name: house_area, dtype: int64"
      ]
     },
     "execution_count": 79,
     "metadata": {},
     "output_type": "execute_result"
    }
   ],
   "source": [
    "# % of missing values for house_area\n",
    "to_keep['house_area'].isna().value_counts()"
   ]
  },
  {
   "cell_type": "code",
   "execution_count": 91,
   "metadata": {},
   "outputs": [
    {
     "name": "stdout",
     "output_type": "stream",
     "text": [
      "0.3% missing house_area values\n"
     ]
    }
   ],
   "source": [
    "print('{}% missing house_area values'.format(round((127/42351)*100, 1)))"
   ]
  },
  {
   "cell_type": "markdown",
   "metadata": {},
   "source": [
    "## 5. number_of_rooms_cat"
   ]
  },
  {
   "cell_type": "code",
   "execution_count": 29,
   "metadata": {},
   "outputs": [
    {
     "data": {
      "text/plain": [
       "number_of_rooms_cat\n",
       "0 chambre(s)      817\n",
       "1 chambre(s)     4313\n",
       "2 chambre(s)    14063\n",
       "3 chambre(s)    13564\n",
       "4 chambre(s)     5936\n",
       "5 et plus        3659\n",
       "Name: province, dtype: int64"
      ]
     },
     "execution_count": 29,
     "metadata": {},
     "output_type": "execute_result"
    }
   ],
   "source": [
    "to_keep.groupby(['number_of_rooms_cat']).province.count()"
   ]
  },
  {
   "cell_type": "markdown",
   "metadata": {},
   "source": [
    "## 6. surface_of_the_land"
   ]
  },
  {
   "cell_type": "code",
   "execution_count": 82,
   "metadata": {},
   "outputs": [
    {
     "name": "stdout",
     "output_type": "stream",
     "text": [
      "type_of_property\n",
      "apartment    19852\n",
      "house        22500\n",
      "Name: subtype_of_property, dtype: int64\n",
      "False    22365\n",
      "True     19987\n",
      "Name: surface_of_the_land, dtype: int64\n"
     ]
    }
   ],
   "source": [
    "print(to_keep.groupby(['type_of_property']).subtype_of_property.count())\n",
    "print(to_keep['surface_of_the_land'].isna().value_counts())"
   ]
  },
  {
   "cell_type": "code",
   "execution_count": 84,
   "metadata": {},
   "outputs": [
    {
     "name": "stdout",
     "output_type": "stream",
     "text": [
      "0.6% missing surface_of_the_land values for houses\n"
     ]
    }
   ],
   "source": [
    "# % of missing values for surface_of_the_land\n",
    "print('{}% missing surface_of_the_land values for houses'.format(round(((19987-19852)/22500)*100, 1)))"
   ]
  },
  {
   "cell_type": "markdown",
   "metadata": {},
   "source": [
    "## 7. garden"
   ]
  },
  {
   "cell_type": "code",
   "execution_count": 30,
   "metadata": {},
   "outputs": [
    {
     "data": {
      "text/plain": [
       "garden\n",
       "0    28990\n",
       "1    13362\n",
       "Name: province, dtype: int64"
      ]
     },
     "execution_count": 30,
     "metadata": {},
     "output_type": "execute_result"
    }
   ],
   "source": [
    "to_keep.groupby(['garden']).province.count()"
   ]
  },
  {
   "cell_type": "code",
   "execution_count": 81,
   "metadata": {},
   "outputs": [
    {
     "name": "stdout",
     "output_type": "stream",
     "text": [
      "True     34488\n",
      "False     7864\n",
      "Name: garden_area, dtype: int64\n"
     ]
    }
   ],
   "source": [
    "# % of missing values for garden_area \n",
    "print(to_keep['garden_area'].isna().value_counts())"
   ]
  },
  {
   "cell_type": "code",
   "execution_count": 87,
   "metadata": {},
   "outputs": [
    {
     "name": "stdout",
     "output_type": "stream",
     "text": [
      "41.1% missing garden_area values\n"
     ]
    }
   ],
   "source": [
    "# subtract the no garden number before making the percentage \n",
    "print('{}% missing garden_area values'.format(round(((34488-28990)/13362)*100, 1)))"
   ]
  },
  {
   "cell_type": "markdown",
   "metadata": {},
   "source": [
    "## 8. terrace"
   ]
  },
  {
   "cell_type": "code",
   "execution_count": 31,
   "metadata": {},
   "outputs": [
    {
     "data": {
      "text/plain": [
       "terrace\n",
       "0    16497\n",
       "1    25855\n",
       "Name: province, dtype: int64"
      ]
     },
     "execution_count": 31,
     "metadata": {},
     "output_type": "execute_result"
    }
   ],
   "source": [
    "to_keep.groupby(['terrace']).province.count()"
   ]
  },
  {
   "cell_type": "code",
   "execution_count": 56,
   "metadata": {},
   "outputs": [
    {
     "data": {
      "text/plain": [
       "True     26057\n",
       "False    16295\n",
       "Name: terrace_area, dtype: int64"
      ]
     },
     "execution_count": 56,
     "metadata": {},
     "output_type": "execute_result"
    }
   ],
   "source": [
    "# % of missing values for terrace_area \n",
    "to_keep['terrace_area'].isna().value_counts()"
   ]
  },
  {
   "cell_type": "code",
   "execution_count": 58,
   "metadata": {},
   "outputs": [
    {
     "name": "stdout",
     "output_type": "stream",
     "text": [
      "37.0% missing terrace_area values\n"
     ]
    }
   ],
   "source": [
    "# subtract the no terrace number before making the percentage \n",
    "print('{}% missing terrace_area values'.format(round(((26057-16497)/25855)*100, 1)))"
   ]
  },
  {
   "cell_type": "markdown",
   "metadata": {},
   "source": [
    "## 9. open_fire"
   ]
  },
  {
   "cell_type": "code",
   "execution_count": 32,
   "metadata": {},
   "outputs": [
    {
     "data": {
      "text/plain": [
       "open_fire\n",
       "0    40153\n",
       "1     2199\n",
       "Name: province, dtype: int64"
      ]
     },
     "execution_count": 32,
     "metadata": {},
     "output_type": "execute_result"
    }
   ],
   "source": [
    "to_keep.groupby(['open_fire']).province.count()"
   ]
  },
  {
   "cell_type": "markdown",
   "metadata": {},
   "source": [
    "## 10. state_of_the_building"
   ]
  },
  {
   "cell_type": "code",
   "execution_count": 33,
   "metadata": {},
   "outputs": [
    {
     "data": {
      "text/plain": [
       "state_of_the_building\n",
       "as new            12489\n",
       "good              11601\n",
       "just renovated     2271\n",
       "to be done up      2987\n",
       "to renovate        2591\n",
       "to restore          157\n",
       "Name: province, dtype: int64"
      ]
     },
     "execution_count": 33,
     "metadata": {},
     "output_type": "execute_result"
    }
   ],
   "source": [
    "to_keep.groupby(['state_of_the_building']).province.count()"
   ]
  },
  {
   "cell_type": "code",
   "execution_count": 60,
   "metadata": {},
   "outputs": [
    {
     "data": {
      "text/plain": [
       "False    32096\n",
       "True     10256\n",
       "Name: state_of_the_building, dtype: int64"
      ]
     },
     "execution_count": 60,
     "metadata": {},
     "output_type": "execute_result"
    }
   ],
   "source": [
    "# % of missing values for state_of_the_building\n",
    "to_keep['state_of_the_building'].isna().value_counts()"
   ]
  },
  {
   "cell_type": "code",
   "execution_count": 92,
   "metadata": {},
   "outputs": [
    {
     "name": "stdout",
     "output_type": "stream",
     "text": [
      "24.2% missing state_of_the_building values\n"
     ]
    }
   ],
   "source": [
    "print('{}% missing state_of_the_building values'.format(round((10256/42351)*100, 1)))"
   ]
  },
  {
   "cell_type": "markdown",
   "metadata": {},
   "source": [
    "## 11. construction_year_cat"
   ]
  },
  {
   "cell_type": "code",
   "execution_count": 34,
   "metadata": {},
   "outputs": [
    {
     "data": {
      "text/plain": [
       "construction_year_cat\n",
       "1900-1919            801\n",
       "1920-1939           1719\n",
       "1940-1959           2173\n",
       "1960-1979           5673\n",
       "1980-1999           3248\n",
       "2000-              11813\n",
       "older than 1900      709\n",
       "Name: province, dtype: int64"
      ]
     },
     "execution_count": 34,
     "metadata": {},
     "output_type": "execute_result"
    }
   ],
   "source": [
    "to_keep.groupby(['construction_year_cat']).province.count()"
   ]
  },
  {
   "cell_type": "code",
   "execution_count": 62,
   "metadata": {},
   "outputs": [
    {
     "data": {
      "text/plain": [
       "False    26136\n",
       "True     16216\n",
       "Name: construction_year, dtype: int64"
      ]
     },
     "execution_count": 62,
     "metadata": {},
     "output_type": "execute_result"
    }
   ],
   "source": [
    "# % of missing values for construction_year\n",
    "to_keep['construction_year'].isna().value_counts()"
   ]
  },
  {
   "cell_type": "code",
   "execution_count": 93,
   "metadata": {},
   "outputs": [
    {
     "name": "stdout",
     "output_type": "stream",
     "text": [
      "38.3% missing constructuion_year values\n"
     ]
    }
   ],
   "source": [
    "print('{}% missing constructuion_year values'.format(round((16216/42351)*100, 1)))"
   ]
  },
  {
   "cell_type": "code",
   "execution_count": null,
   "metadata": {},
   "outputs": [],
   "source": []
  }
 ],
 "metadata": {
  "kernelspec": {
   "display_name": "Python 3",
   "language": "python",
   "name": "python3"
  },
  "language_info": {
   "codemirror_mode": {
    "name": "ipython",
    "version": 3
   },
   "file_extension": ".py",
   "mimetype": "text/x-python",
   "name": "python",
   "nbconvert_exporter": "python",
   "pygments_lexer": "ipython3",
   "version": "3.8.3"
  }
 },
 "nbformat": 4,
 "nbformat_minor": 4
}
