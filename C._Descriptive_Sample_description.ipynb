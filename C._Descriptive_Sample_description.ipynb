{
 "cells": [
  {
   "cell_type": "markdown",
   "metadata": {},
   "source": [
    "# C. Descriptive : sample description "
   ]
  },
  {
   "cell_type": "code",
   "execution_count": 1,
   "metadata": {},
   "outputs": [],
   "source": [
    "import pandas as pd\n",
    "import numpy as np\n",
    "import matplotlib.pyplot as plt"
   ]
  },
  {
   "cell_type": "code",
   "execution_count": 2,
   "metadata": {},
   "outputs": [],
   "source": [
    "to_keep = pd.read_csv('DEF_IMMO.csv', sep=',', na_values='None')\n"
   ]
  },
  {
   "cell_type": "code",
   "execution_count": 3,
   "metadata": {},
   "outputs": [
    {
     "data": {
      "text/plain": [
       "Index(['Unnamed: 0', 'type_of_property', 'subtype_of_property', 'locality',\n",
       "       'province', 'région', 'price', 'number_of_facades', 'house_area',\n",
       "       'house_area_cat', 'number_of_rooms', 'number_of_rooms_cat',\n",
       "       'surface_of_the_land', 'surface_of_the_land_cat',\n",
       "       'fully_equipped_kitchen', 'garden', 'garden_area', 'terrace',\n",
       "       'terrace_area', 'open_fire', 'swimming_pool', 'state_of_the_building',\n",
       "       'construction_year', 'construction_year_cat'],\n",
       "      dtype='object')"
      ]
     },
     "execution_count": 3,
     "metadata": {},
     "output_type": "execute_result"
    }
   ],
   "source": [
    "to_keep.columns"
   ]
  },
  {
   "cell_type": "code",
   "execution_count": 4,
   "metadata": {},
   "outputs": [
    {
     "data": {
      "text/html": [
       "<div>\n",
       "<style scoped>\n",
       "    .dataframe tbody tr th:only-of-type {\n",
       "        vertical-align: middle;\n",
       "    }\n",
       "\n",
       "    .dataframe tbody tr th {\n",
       "        vertical-align: top;\n",
       "    }\n",
       "\n",
       "    .dataframe thead th {\n",
       "        text-align: right;\n",
       "    }\n",
       "</style>\n",
       "<table border=\"1\" class=\"dataframe\">\n",
       "  <thead>\n",
       "    <tr style=\"text-align: right;\">\n",
       "      <th></th>\n",
       "      <th>Unnamed: 0</th>\n",
       "      <th>type_of_property</th>\n",
       "      <th>subtype_of_property</th>\n",
       "      <th>locality</th>\n",
       "      <th>province</th>\n",
       "      <th>région</th>\n",
       "      <th>price</th>\n",
       "      <th>number_of_facades</th>\n",
       "      <th>house_area</th>\n",
       "      <th>house_area_cat</th>\n",
       "      <th>...</th>\n",
       "      <th>fully_equipped_kitchen</th>\n",
       "      <th>garden</th>\n",
       "      <th>garden_area</th>\n",
       "      <th>terrace</th>\n",
       "      <th>terrace_area</th>\n",
       "      <th>open_fire</th>\n",
       "      <th>swimming_pool</th>\n",
       "      <th>state_of_the_building</th>\n",
       "      <th>construction_year</th>\n",
       "      <th>construction_year_cat</th>\n",
       "    </tr>\n",
       "  </thead>\n",
       "  <tbody>\n",
       "    <tr>\n",
       "      <th>0</th>\n",
       "      <td>0</td>\n",
       "      <td>house</td>\n",
       "      <td>house</td>\n",
       "      <td>1050</td>\n",
       "      <td>Bruxelles-Capitale</td>\n",
       "      <td>Région Bruxelles-capitale</td>\n",
       "      <td>340000.0</td>\n",
       "      <td>2.0</td>\n",
       "      <td>203.0</td>\n",
       "      <td>]180-240 m²]</td>\n",
       "      <td>...</td>\n",
       "      <td>1</td>\n",
       "      <td>0</td>\n",
       "      <td>NaN</td>\n",
       "      <td>1</td>\n",
       "      <td>NaN</td>\n",
       "      <td>0</td>\n",
       "      <td>0</td>\n",
       "      <td>to be done up</td>\n",
       "      <td>1901.0</td>\n",
       "      <td>1900-1919</td>\n",
       "    </tr>\n",
       "    <tr>\n",
       "      <th>1</th>\n",
       "      <td>1</td>\n",
       "      <td>house</td>\n",
       "      <td>villa</td>\n",
       "      <td>1880</td>\n",
       "      <td>Brabant flamand</td>\n",
       "      <td>Région flamande</td>\n",
       "      <td>525000.0</td>\n",
       "      <td>4.0</td>\n",
       "      <td>250.0</td>\n",
       "      <td>]240m²- ]</td>\n",
       "      <td>...</td>\n",
       "      <td>1</td>\n",
       "      <td>1</td>\n",
       "      <td>430.0</td>\n",
       "      <td>1</td>\n",
       "      <td>40.0</td>\n",
       "      <td>0</td>\n",
       "      <td>0</td>\n",
       "      <td>as new</td>\n",
       "      <td>1992.0</td>\n",
       "      <td>1980-1999</td>\n",
       "    </tr>\n",
       "    <tr>\n",
       "      <th>2</th>\n",
       "      <td>2</td>\n",
       "      <td>house</td>\n",
       "      <td>exceptional property</td>\n",
       "      <td>4900</td>\n",
       "      <td>Liège</td>\n",
       "      <td>Région wallonne</td>\n",
       "      <td>550000.0</td>\n",
       "      <td>4.0</td>\n",
       "      <td>475.0</td>\n",
       "      <td>]240m²- ]</td>\n",
       "      <td>...</td>\n",
       "      <td>1</td>\n",
       "      <td>1</td>\n",
       "      <td>1400.0</td>\n",
       "      <td>1</td>\n",
       "      <td>NaN</td>\n",
       "      <td>0</td>\n",
       "      <td>0</td>\n",
       "      <td>good</td>\n",
       "      <td>1853.0</td>\n",
       "      <td>older than 1900</td>\n",
       "    </tr>\n",
       "  </tbody>\n",
       "</table>\n",
       "<p>3 rows × 24 columns</p>\n",
       "</div>"
      ],
      "text/plain": [
       "   Unnamed: 0 type_of_property   subtype_of_property  locality  \\\n",
       "0           0            house                 house      1050   \n",
       "1           1            house                 villa      1880   \n",
       "2           2            house  exceptional property      4900   \n",
       "\n",
       "             province                     région     price  number_of_facades  \\\n",
       "0  Bruxelles-Capitale  Région Bruxelles-capitale  340000.0                2.0   \n",
       "1     Brabant flamand            Région flamande  525000.0                4.0   \n",
       "2               Liège            Région wallonne  550000.0                4.0   \n",
       "\n",
       "   house_area house_area_cat  ...  fully_equipped_kitchen garden  garden_area  \\\n",
       "0       203.0   ]180-240 m²]  ...                       1      0          NaN   \n",
       "1       250.0      ]240m²- ]  ...                       1      1        430.0   \n",
       "2       475.0      ]240m²- ]  ...                       1      1       1400.0   \n",
       "\n",
       "  terrace  terrace_area  open_fire  swimming_pool  state_of_the_building  \\\n",
       "0       1           NaN          0              0          to be done up   \n",
       "1       1          40.0          0              0                 as new   \n",
       "2       1           NaN          0              0                   good   \n",
       "\n",
       "   construction_year  construction_year_cat  \n",
       "0             1901.0              1900-1919  \n",
       "1             1992.0              1980-1999  \n",
       "2             1853.0        older than 1900  \n",
       "\n",
       "[3 rows x 24 columns]"
      ]
     },
     "execution_count": 4,
     "metadata": {},
     "output_type": "execute_result"
    }
   ],
   "source": [
    "to_keep.head(3)"
   ]
  },
  {
   "cell_type": "markdown",
   "metadata": {},
   "source": [
    "## Missing data "
   ]
  },
  {
   "cell_type": "code",
   "execution_count": 5,
   "metadata": {},
   "outputs": [
    {
     "data": {
      "text/plain": [
       "Unnamed: 0                     0\n",
       "type_of_property               0\n",
       "subtype_of_property            0\n",
       "locality                       0\n",
       "province                       0\n",
       "région                         0\n",
       "price                          0\n",
       "number_of_facades          10644\n",
       "house_area                   109\n",
       "house_area_cat               109\n",
       "number_of_rooms                0\n",
       "number_of_rooms_cat            0\n",
       "surface_of_the_land        22026\n",
       "surface_of_the_land_cat    22026\n",
       "fully_equipped_kitchen         0\n",
       "garden                         0\n",
       "garden_area                34471\n",
       "terrace                        0\n",
       "terrace_area               26114\n",
       "open_fire                      0\n",
       "swimming_pool                  0\n",
       "state_of_the_building      10247\n",
       "construction_year          16205\n",
       "construction_year_cat      16205\n",
       "dtype: int64"
      ]
     },
     "execution_count": 5,
     "metadata": {},
     "output_type": "execute_result"
    }
   ],
   "source": [
    "to_keep.isnull().sum()"
   ]
  },
  {
   "cell_type": "markdown",
   "metadata": {},
   "source": [
    "## 1. Type & subtype of properties"
   ]
  },
  {
   "cell_type": "code",
   "execution_count": 6,
   "metadata": {},
   "outputs": [
    {
     "data": {
      "text/plain": [
       "type_of_property\n",
       "apartment    19852\n",
       "house        22482\n",
       "Name: subtype_of_property, dtype: int64"
      ]
     },
     "execution_count": 6,
     "metadata": {},
     "output_type": "execute_result"
    }
   ],
   "source": [
    "to_keep.groupby(['type_of_property']).subtype_of_property.count()"
   ]
  },
  {
   "cell_type": "code",
   "execution_count": 7,
   "metadata": {
    "scrolled": true
   },
   "outputs": [
    {
     "data": {
      "text/plain": [
       "type_of_property  subtype_of_property \n",
       "apartment         apartment               15329\n",
       "                  duplex                   1278\n",
       "                  flat studio               724\n",
       "                  ground floor             1098\n",
       "                  kot                        67\n",
       "                  loft                      199\n",
       "                  penthouse                 830\n",
       "                  service flat              255\n",
       "                  triplex                    72\n",
       "house             apartment block           790\n",
       "                  bungalow                  226\n",
       "                  castle                      7\n",
       "                  chalet                    112\n",
       "                  country cottage           236\n",
       "                  exceptional property      380\n",
       "                  farmhouse                  98\n",
       "                  house                   16645\n",
       "                  manor house                68\n",
       "                  mansion                   394\n",
       "                  mixed use building        737\n",
       "                  other property             57\n",
       "                  pavilion                    1\n",
       "                  town house                356\n",
       "                  villa                    2375\n",
       "Name: subtype_of_property, dtype: int64"
      ]
     },
     "execution_count": 7,
     "metadata": {},
     "output_type": "execute_result"
    }
   ],
   "source": [
    "to_keep.groupby(['type_of_property', 'subtype_of_property']).subtype_of_property.count()"
   ]
  },
  {
   "cell_type": "markdown",
   "metadata": {},
   "source": [
    "## 2. Provinces & régions "
   ]
  },
  {
   "cell_type": "code",
   "execution_count": 8,
   "metadata": {},
   "outputs": [
    {
     "data": {
      "text/plain": [
       "province\n",
       "Anvers                 5509\n",
       "Brabant flamand        3887\n",
       "Brabant wallon         1806\n",
       "Bruxelles-Capitale     4258\n",
       "Flandre-Occidentale    7669\n",
       "Flandre-Orientale      5234\n",
       "Hainaut                4342\n",
       "Limbourg               2624\n",
       "Liège                  4177\n",
       "Luxembourg             1181\n",
       "Namur                  1647\n",
       "Name: province, dtype: int64"
      ]
     },
     "execution_count": 8,
     "metadata": {},
     "output_type": "execute_result"
    }
   ],
   "source": [
    "to_keep.groupby(['province']).province.count()"
   ]
  },
  {
   "cell_type": "code",
   "execution_count": 9,
   "metadata": {},
   "outputs": [
    {
     "data": {
      "text/plain": [
       "région\n",
       "Région Bruxelles-capitale     4258\n",
       "Région flamande              24923\n",
       "Région wallonne              13153\n",
       "Name: région, dtype: int64"
      ]
     },
     "execution_count": 9,
     "metadata": {},
     "output_type": "execute_result"
    }
   ],
   "source": [
    "to_keep.groupby(['région']).région.count()"
   ]
  },
  {
   "cell_type": "markdown",
   "metadata": {},
   "source": [
    "## 3. number_of_facades"
   ]
  },
  {
   "cell_type": "code",
   "execution_count": 10,
   "metadata": {},
   "outputs": [
    {
     "data": {
      "text/plain": [
       "number_of_facades\n",
       "1.0      460\n",
       "2.0    15369\n",
       "3.0     7610\n",
       "4.0     8251\n",
       "Name: province, dtype: int64"
      ]
     },
     "execution_count": 10,
     "metadata": {},
     "output_type": "execute_result"
    }
   ],
   "source": [
    "to_keep.groupby(['number_of_facades']).province.count()"
   ]
  },
  {
   "cell_type": "markdown",
   "metadata": {},
   "source": [
    "## 4. house_area_cat"
   ]
  },
  {
   "cell_type": "code",
   "execution_count": 11,
   "metadata": {},
   "outputs": [
    {
     "data": {
      "text/plain": [
       "house_area_cat\n",
       "[0-60 m²]        2699\n",
       "]120-180 m²]    11653\n",
       "]180-240 m²]     5803\n",
       "]240m²- ]        5245\n",
       "]60-120 m²]     16825\n",
       "Name: province, dtype: int64"
      ]
     },
     "execution_count": 11,
     "metadata": {},
     "output_type": "execute_result"
    }
   ],
   "source": [
    "to_keep.groupby(['house_area_cat']).province.count()"
   ]
  },
  {
   "cell_type": "markdown",
   "metadata": {},
   "source": [
    "## 5. number_of_rooms_cat"
   ]
  },
  {
   "cell_type": "code",
   "execution_count": 12,
   "metadata": {},
   "outputs": [
    {
     "data": {
      "text/plain": [
       "number_of_rooms_cat\n",
       "0 chambre(s)      811\n",
       "1 chambre(s)     4313\n",
       "2 chambre(s)    14063\n",
       "3 chambre(s)    13559\n",
       "4 chambre(s)     5935\n",
       "5 et plus        3653\n",
       "Name: province, dtype: int64"
      ]
     },
     "execution_count": 12,
     "metadata": {},
     "output_type": "execute_result"
    }
   ],
   "source": [
    "to_keep.groupby(['number_of_rooms_cat']).province.count()"
   ]
  },
  {
   "cell_type": "markdown",
   "metadata": {},
   "source": [
    "## 6. garden"
   ]
  },
  {
   "cell_type": "code",
   "execution_count": 13,
   "metadata": {},
   "outputs": [
    {
     "data": {
      "text/plain": [
       "garden\n",
       "0    28974\n",
       "1    13360\n",
       "Name: province, dtype: int64"
      ]
     },
     "execution_count": 13,
     "metadata": {},
     "output_type": "execute_result"
    }
   ],
   "source": [
    "to_keep.groupby(['garden']).province.count()"
   ]
  },
  {
   "cell_type": "markdown",
   "metadata": {},
   "source": [
    "## 7. terrace"
   ]
  },
  {
   "cell_type": "code",
   "execution_count": 14,
   "metadata": {},
   "outputs": [
    {
     "data": {
      "text/plain": [
       "terrace\n",
       "0    16486\n",
       "1    25848\n",
       "Name: province, dtype: int64"
      ]
     },
     "execution_count": 14,
     "metadata": {},
     "output_type": "execute_result"
    }
   ],
   "source": [
    "to_keep.groupby(['terrace']).province.count()"
   ]
  },
  {
   "cell_type": "markdown",
   "metadata": {},
   "source": [
    "## 8. open_fire"
   ]
  },
  {
   "cell_type": "code",
   "execution_count": 15,
   "metadata": {},
   "outputs": [
    {
     "data": {
      "text/plain": [
       "open_fire\n",
       "0    40135\n",
       "1     2199\n",
       "Name: province, dtype: int64"
      ]
     },
     "execution_count": 15,
     "metadata": {},
     "output_type": "execute_result"
    }
   ],
   "source": [
    "to_keep.groupby(['open_fire']).province.count()"
   ]
  },
  {
   "cell_type": "markdown",
   "metadata": {},
   "source": [
    "## 9. state_of_the_building"
   ]
  },
  {
   "cell_type": "code",
   "execution_count": 16,
   "metadata": {},
   "outputs": [
    {
     "data": {
      "text/plain": [
       "state_of_the_building\n",
       "as new            12486\n",
       "good              11599\n",
       "just renovated     2271\n",
       "to be done up      2986\n",
       "to renovate        2588\n",
       "to restore          157\n",
       "Name: province, dtype: int64"
      ]
     },
     "execution_count": 16,
     "metadata": {},
     "output_type": "execute_result"
    }
   ],
   "source": [
    "to_keep.groupby(['state_of_the_building']).province.count()"
   ]
  },
  {
   "cell_type": "markdown",
   "metadata": {},
   "source": [
    "## 10. construction_year_cat"
   ]
  },
  {
   "cell_type": "code",
   "execution_count": 17,
   "metadata": {},
   "outputs": [
    {
     "data": {
      "text/plain": [
       "construction_year_cat\n",
       "1900-1919            801\n",
       "1920-1939           1719\n",
       "1940-1959           2172\n",
       "1960-1979           5672\n",
       "1980-1999           3247\n",
       "2000-              11811\n",
       "older than 1900      707\n",
       "Name: province, dtype: int64"
      ]
     },
     "execution_count": 17,
     "metadata": {},
     "output_type": "execute_result"
    }
   ],
   "source": [
    "to_keep.groupby(['construction_year_cat']).province.count()"
   ]
  },
  {
   "cell_type": "code",
   "execution_count": null,
   "metadata": {},
   "outputs": [],
   "source": []
  },
  {
   "cell_type": "code",
   "execution_count": null,
   "metadata": {},
   "outputs": [],
   "source": []
  }
 ],
 "metadata": {
  "kernelspec": {
   "display_name": "Python 3",
   "language": "python",
   "name": "python3"
  },
  "language_info": {
   "codemirror_mode": {
    "name": "ipython",
    "version": 3
   },
   "file_extension": ".py",
   "mimetype": "text/x-python",
   "name": "python",
   "nbconvert_exporter": "python",
   "pygments_lexer": "ipython3",
   "version": "3.8.3"
  }
 },
 "nbformat": 4,
 "nbformat_minor": 4
}
