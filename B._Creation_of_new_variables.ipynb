{
 "cells": [
  {
   "cell_type": "markdown",
   "metadata": {},
   "source": [
    "# B. Creation of new variables"
   ]
  },
  {
   "cell_type": "code",
   "execution_count": 55,
   "metadata": {},
   "outputs": [],
   "source": [
    "import pandas as pd\n",
    "import numpy as np\n",
    "import matplotlib.pyplot as plt"
   ]
  },
  {
   "cell_type": "code",
   "execution_count": 56,
   "metadata": {},
   "outputs": [],
   "source": [
    "immo_data = pd.read_csv('Final_dataset_house_apartment.csv', sep=',', na_values=['None', 'no price'])\n"
   ]
  },
  {
   "cell_type": "code",
   "execution_count": 57,
   "metadata": {},
   "outputs": [
    {
     "name": "stdout",
     "output_type": "stream",
     "text": [
      "<class 'pandas.core.frame.DataFrame'>\n",
      "RangeIndex: 50842 entries, 0 to 50841\n",
      "Data columns (total 21 columns):\n",
      " #   Column                       Non-Null Count  Dtype  \n",
      "---  ------                       --------------  -----  \n",
      " 0   Unnamed: 0                   50842 non-null  int64  \n",
      " 1   locality                     50842 non-null  int64  \n",
      " 2   type_of_property             50842 non-null  object \n",
      " 3   subtype_of_property          50842 non-null  object \n",
      " 4   price                        50772 non-null  float64\n",
      " 5   type_of_sale                 50842 non-null  object \n",
      " 6   number_of_rooms              50842 non-null  float64\n",
      " 7   house_area                   42412 non-null  float64\n",
      " 8   fully_equipped_kitchen       50842 non-null  int64  \n",
      " 9   furnished                    0 non-null      float64\n",
      " 10  open_fire                    50842 non-null  int64  \n",
      " 11  terrace                      50842 non-null  int64  \n",
      " 12  terrace_area                 17096 non-null  float64\n",
      " 13  garden                       50842 non-null  int64  \n",
      " 14  garden_area                  8350 non-null   float64\n",
      " 15  surface_of_the_land          29002 non-null  float64\n",
      " 16  surface_of_the_plot_of_land  0 non-null      float64\n",
      " 17  number_of_facades            37736 non-null  float64\n",
      " 18  swimming_pool                50842 non-null  int64  \n",
      " 19  state_of_the_building        37670 non-null  object \n",
      " 20  construction_year            29883 non-null  float64\n",
      "dtypes: float64(10), int64(7), object(4)\n",
      "memory usage: 8.1+ MB\n"
     ]
    }
   ],
   "source": [
    "immo_data.info()"
   ]
  },
  {
   "cell_type": "markdown",
   "metadata": {},
   "source": [
    "## Creation de variable provinces \n"
   ]
  },
  {
   "cell_type": "markdown",
   "metadata": {},
   "source": [
    "Codes postaux par provinces:\n",
    "- 1000–1299 : Drapeau de la Région de Bruxelles-Capitale Région de Bruxelles-Capitale\n",
    "- 1300–1499 : Drapeau de la province du Brabant wallon Province du Brabant wallon\n",
    "- 1500–1999 : Drapeau du Brabant flamand Province du Brabant flamand (arrondissement de Hal-Vilvorde, sauf Overijse)\n",
    "- 2000–2999 : Drapeau de la province d'Anvers Province d'Anvers\n",
    "- 3000–3499 : Drapeau du Brabant flamand Province du Brabant flamand (arrondissement de Louvain, plus Overijse)\n",
    "- 3500–3999 : Drapeau de la Province de Limbourg Province de Limbourg\n",
    "- 4000–4999 : Drapeau de la province de Liège Province de Liège\n",
    "- 5000–5999 : Drapeau de la province de Namur Province de Namur\n",
    "- 6000–6599 : Drapeau de la province de Hainaut Province de Hainaut (1)\n",
    "- 6600–6999 : Drapeau de la province de Luxembourg Province de Luxembourg\n",
    "- 7000–7999 : Drapeau de la province de Hainaut Province de Hainaut (2)\n",
    "- 8000–8999 : Drapeau de la province de Flandre-Occidentale Province de Flandre-Occidentale\n",
    "- 9000–9999 : Drapeau de la province de Flandre-Orientale Province de Flandre-Orientale"
   ]
  },
  {
   "cell_type": "code",
   "execution_count": 58,
   "metadata": {},
   "outputs": [],
   "source": [
    "def ident_province(x):\n",
    "    if x >= 1000 and x <=1299 :\n",
    "        return 'Bruxelles-Capitale'\n",
    "    elif x >= 1300 and x <= 1499 :\n",
    "        return 'Brabant wallon'\n",
    "    elif x >= 1500 and x <= 1999 :\n",
    "        return 'Brabant flamand'\n",
    "    elif x >= 2000 and x <= 2999 :\n",
    "        return 'Anvers'\n",
    "    elif x >= 3000 and x <=3499 :\n",
    "        return 'Brabant flamand'\n",
    "    elif x >= 3500 and x <= 3999 :\n",
    "        return 'Limbourg'\n",
    "    elif x >= 4000 and x <= 4999 :\n",
    "        return 'Liège'\n",
    "    elif x >= 5000 and x <=5999 :\n",
    "        return 'Namur'\n",
    "    elif x >= 6000 and x <= 6599 :\n",
    "        return 'Hainaut'\n",
    "    elif x >= 6600 and x <=6999 :\n",
    "        return 'Luxembourg'\n",
    "    elif x >= 7000 and x <= 7999 :\n",
    "        return 'Hainaut'\n",
    "    elif x >= 8000 and x <=8999 :\n",
    "        return 'Flandre-Occidentale'\n",
    "    elif x >= 9000 and x <=9999 :\n",
    "        return 'Flandre-Orientale'\n",
    "    else:\n",
    "        pass "
   ]
  },
  {
   "cell_type": "code",
   "execution_count": 59,
   "metadata": {},
   "outputs": [],
   "source": [
    "immo_data['province'] = immo_data['locality'].apply(ident_province)"
   ]
  },
  {
   "cell_type": "code",
   "execution_count": 60,
   "metadata": {},
   "outputs": [
    {
     "data": {
      "text/plain": [
       "Flandre-Occidentale    10120\n",
       "Flandre-Orientale       6438\n",
       "Anvers                  6309\n",
       "Hainaut                 5681\n",
       "Liège                   4929\n",
       "Brabant flamand         4440\n",
       "Bruxelles-Capitale      4394\n",
       "Limbourg                3109\n",
       "Namur                   2038\n",
       "Brabant wallon          1912\n",
       "Luxembourg              1472\n",
       "Name: province, dtype: int64"
      ]
     },
     "execution_count": 60,
     "metadata": {},
     "output_type": "execute_result"
    }
   ],
   "source": [
    "immo_data['province'].value_counts()"
   ]
  },
  {
   "cell_type": "markdown",
   "metadata": {},
   "source": [
    "## Creation de variable région \n"
   ]
  },
  {
   "cell_type": "code",
   "execution_count": 61,
   "metadata": {},
   "outputs": [],
   "source": [
    "def ident_region(x):\n",
    "    if x == 'Flandre-Occidentale' or x =='Flandre-Orientale' or x == 'Anvers' or x =='Brabant flamand' or x == 'Limbourg':\n",
    "        return 'Région flamande'\n",
    "    elif x == 'Hainaut' or x == 'Liège' or x=='Namur' or x=='Brabant wallon' or x=='Luxembourg':\n",
    "        return 'Région wallonne'\n",
    "    else : \n",
    "        return 'Région Bruxelles-capitale'"
   ]
  },
  {
   "cell_type": "code",
   "execution_count": 62,
   "metadata": {},
   "outputs": [],
   "source": [
    "immo_data['région'] = immo_data['province'].apply(ident_region)"
   ]
  },
  {
   "cell_type": "code",
   "execution_count": 63,
   "metadata": {},
   "outputs": [
    {
     "data": {
      "text/plain": [
       "Région flamande              30416\n",
       "Région wallonne              16032\n",
       "Région Bruxelles-capitale     4394\n",
       "Name: région, dtype: int64"
      ]
     },
     "execution_count": 63,
     "metadata": {},
     "output_type": "execute_result"
    }
   ],
   "source": [
    "immo_data['région'].value_counts()"
   ]
  },
  {
   "cell_type": "markdown",
   "metadata": {},
   "source": [
    "## Creation catégories number_of_rooms_cat"
   ]
  },
  {
   "cell_type": "code",
   "execution_count": 64,
   "metadata": {},
   "outputs": [],
   "source": [
    "# immo_data.number_of_rooms.value_counts()"
   ]
  },
  {
   "cell_type": "code",
   "execution_count": 65,
   "metadata": {},
   "outputs": [],
   "source": [
    "def numb_room_ceil(x):\n",
    "    if x < 5 :\n",
    "        return f'{int(x)} chambre(s)'\n",
    "    else:\n",
    "        return '5 et plus'"
   ]
  },
  {
   "cell_type": "code",
   "execution_count": 66,
   "metadata": {},
   "outputs": [],
   "source": [
    "immo_data['number_of_rooms_cat'] = immo_data.number_of_rooms.apply(numb_room_ceil)"
   ]
  },
  {
   "cell_type": "code",
   "execution_count": 67,
   "metadata": {},
   "outputs": [
    {
     "data": {
      "text/plain": [
       "3 chambre(s)    16861\n",
       "2 chambre(s)    16184\n",
       "4 chambre(s)     7282\n",
       "1 chambre(s)     4972\n",
       "5 et plus        4412\n",
       "0 chambre(s)     1131\n",
       "Name: number_of_rooms_cat, dtype: int64"
      ]
     },
     "execution_count": 67,
     "metadata": {},
     "output_type": "execute_result"
    }
   ],
   "source": [
    "immo_data.number_of_rooms_cat.value_counts()"
   ]
  },
  {
   "cell_type": "markdown",
   "metadata": {},
   "source": [
    "## Maintien de variable subtype_of_property"
   ]
  },
  {
   "cell_type": "code",
   "execution_count": 68,
   "metadata": {},
   "outputs": [
    {
     "data": {
      "text/plain": [
       "type_of_property  subtype_of_property \n",
       "apartment         apartment               16904\n",
       "                  duplex                   1371\n",
       "                  flat studio               852\n",
       "                  ground floor             1170\n",
       "                  kot                        84\n",
       "                  loft                      216\n",
       "                  penthouse                 886\n",
       "                  service flat              284\n",
       "                  triplex                    73\n",
       "house             apartment block          1039\n",
       "                  bungalow                  280\n",
       "                  castle                     10\n",
       "                  chalet                    138\n",
       "                  country cottage           317\n",
       "                  exceptional property      447\n",
       "                  farmhouse                 143\n",
       "                  house                   21810\n",
       "                  manor house                85\n",
       "                  mansion                   459\n",
       "                  mixed use building        983\n",
       "                  other property             85\n",
       "                  pavilion                    1\n",
       "                  town house                409\n",
       "                  villa                    2796\n",
       "Name: subtype_of_property, dtype: int64"
      ]
     },
     "execution_count": 68,
     "metadata": {},
     "output_type": "execute_result"
    }
   ],
   "source": [
    "immo_data.groupby(['type_of_property', 'subtype_of_property']).subtype_of_property.count()"
   ]
  },
  {
   "cell_type": "markdown",
   "metadata": {},
   "source": [
    "## Création catégories house_area"
   ]
  },
  {
   "cell_type": "code",
   "execution_count": 69,
   "metadata": {},
   "outputs": [
    {
     "data": {
      "text/plain": [
       "count    42412.000000\n",
       "mean       154.724158\n",
       "std        185.137627\n",
       "min          1.000000\n",
       "25%         91.000000\n",
       "50%        130.000000\n",
       "75%        186.000000\n",
       "max      31700.000000\n",
       "Name: house_area, dtype: float64"
      ]
     },
     "execution_count": 69,
     "metadata": {},
     "output_type": "execute_result"
    }
   ],
   "source": [
    "immo_data.house_area.describe()"
   ]
  },
  {
   "cell_type": "code",
   "execution_count": 70,
   "metadata": {},
   "outputs": [],
   "source": [
    "def h_area_cat(x):\n",
    "    if x <= 60 :\n",
    "        return '[0-60 m²]'\n",
    "    elif x > 60 and x <= 120:\n",
    "        return ']60-120 m²]'\n",
    "    elif x > 120 and x <= 180:\n",
    "        return ']120-180 m²]'\n",
    "    elif x > 180 and x <= 240:\n",
    "        return ']180-240 m²]'\n",
    "    elif x > 240:\n",
    "        return ']240m²- ]'\n",
    "    else:\n",
    "        pass"
   ]
  },
  {
   "cell_type": "code",
   "execution_count": 71,
   "metadata": {},
   "outputs": [],
   "source": [
    "immo_data['house_area_cat'] = immo_data.house_area.apply(h_area_cat)"
   ]
  },
  {
   "cell_type": "code",
   "execution_count": 72,
   "metadata": {},
   "outputs": [
    {
     "data": {
      "text/plain": [
       "]60-120 m²]     16843\n",
       "]120-180 m²]    11666\n",
       "]180-240 m²]     5807\n",
       "]240m²- ]        5386\n",
       "[0-60 m²]        2710\n",
       "Name: house_area_cat, dtype: int64"
      ]
     },
     "execution_count": 72,
     "metadata": {},
     "output_type": "execute_result"
    }
   ],
   "source": [
    "immo_data['house_area_cat'].value_counts()"
   ]
  },
  {
   "cell_type": "markdown",
   "metadata": {},
   "source": [
    "## Création catégories surface_of_the_land"
   ]
  },
  {
   "cell_type": "code",
   "execution_count": 73,
   "metadata": {},
   "outputs": [
    {
     "data": {
      "text/plain": [
       "count     29002.00000\n",
       "mean        999.31484\n",
       "std        5055.03166\n",
       "min           0.00000\n",
       "25%         143.00000\n",
       "50%         351.00000\n",
       "75%         814.75000\n",
       "max      400000.00000\n",
       "Name: surface_of_the_land, dtype: float64"
      ]
     },
     "execution_count": 73,
     "metadata": {},
     "output_type": "execute_result"
    }
   ],
   "source": [
    "immo_data.surface_of_the_land.describe()"
   ]
  },
  {
   "cell_type": "code",
   "execution_count": 74,
   "metadata": {},
   "outputs": [],
   "source": [
    "def l_area_cat(x):\n",
    "    if x <= 500 :\n",
    "        return '[0-5 ares]'\n",
    "    elif x > 500 and x <= 1000:\n",
    "        return ']5-10 ares]'\n",
    "    elif x > 1000 and x <= 5000:\n",
    "        return ']10-50 ares]'\n",
    "    elif x > 5000 :\n",
    "        return ']50 ares- ]'\n",
    "    else:\n",
    "        pass"
   ]
  },
  {
   "cell_type": "code",
   "execution_count": 75,
   "metadata": {},
   "outputs": [],
   "source": [
    "immo_data['surface_of_the_land_cat'] = immo_data.surface_of_the_land.apply(l_area_cat)"
   ]
  },
  {
   "cell_type": "code",
   "execution_count": 76,
   "metadata": {},
   "outputs": [
    {
     "data": {
      "text/plain": [
       "[0-5 ares]      17705\n",
       "]5-10 ares]      5705\n",
       "]10-50 ares]     4869\n",
       "]50 ares- ]       723\n",
       "Name: surface_of_the_land_cat, dtype: int64"
      ]
     },
     "execution_count": 76,
     "metadata": {},
     "output_type": "execute_result"
    }
   ],
   "source": [
    "immo_data['surface_of_the_land_cat'].value_counts()"
   ]
  },
  {
   "cell_type": "markdown",
   "metadata": {},
   "source": [
    "## Création catégories construction_year"
   ]
  },
  {
   "cell_type": "code",
   "execution_count": 77,
   "metadata": {},
   "outputs": [
    {
     "data": {
      "text/plain": [
       "2020.0    3766\n",
       "2019.0    2211\n",
       "2018.0    1021\n",
       "1930.0     636\n",
       "1970.0     601\n",
       "          ... \n",
       "1822.0       1\n",
       "1801.0       1\n",
       "1809.0       1\n",
       "1781.0       1\n",
       "1791.0       1\n",
       "Name: construction_year, Length: 219, dtype: int64"
      ]
     },
     "execution_count": 77,
     "metadata": {},
     "output_type": "execute_result"
    }
   ],
   "source": [
    "immo_data.construction_year.value_counts()"
   ]
  },
  {
   "cell_type": "code",
   "execution_count": 78,
   "metadata": {},
   "outputs": [],
   "source": [
    "def year_cat(x):\n",
    "    if x < 1900 :\n",
    "        return 'older than 1900'\n",
    "    elif x >= 1900 and x < 1920:\n",
    "        return '1900-1919'\n",
    "    elif x >= 1920 and x < 1940:\n",
    "        return '1920-1939'\n",
    "    elif x >= 1940 and x < 1960:\n",
    "        return '1940-1959'\n",
    "    elif x >= 1960 and x < 1980:\n",
    "        return '1960-1979'\n",
    "    elif x >= 1980 and x < 2000:\n",
    "        return '1980-1999'\n",
    "    elif x >= 2000:\n",
    "        return '2000- '\n",
    "    else:\n",
    "        pass"
   ]
  },
  {
   "cell_type": "code",
   "execution_count": 79,
   "metadata": {},
   "outputs": [],
   "source": [
    "immo_data['construction_year_cat'] = immo_data.construction_year.apply(year_cat)"
   ]
  },
  {
   "cell_type": "code",
   "execution_count": 80,
   "metadata": {},
   "outputs": [
    {
     "data": {
      "text/plain": [
       "2000-              13258\n",
       "1960-1979           6591\n",
       "1980-1999           3750\n",
       "1940-1959           2612\n",
       "1920-1939           1979\n",
       "1900-1919            895\n",
       "older than 1900      798\n",
       "Name: construction_year_cat, dtype: int64"
      ]
     },
     "execution_count": 80,
     "metadata": {},
     "output_type": "execute_result"
    }
   ],
   "source": [
    "immo_data.construction_year_cat.value_counts()"
   ]
  },
  {
   "cell_type": "code",
   "execution_count": 81,
   "metadata": {},
   "outputs": [
    {
     "data": {
      "text/plain": [
       "construction_year_cat\n",
       "1900-1919          355632.319865\n",
       "1920-1939          334528.870511\n",
       "1940-1959          307598.571099\n",
       "1960-1979          307779.894529\n",
       "1980-1999          371730.847693\n",
       "2000-              328738.312778\n",
       "older than 1900    377510.204774\n",
       "Name: price, dtype: float64"
      ]
     },
     "execution_count": 81,
     "metadata": {},
     "output_type": "execute_result"
    }
   ],
   "source": [
    "immo_data.groupby('construction_year_cat').price.mean()"
   ]
  },
  {
   "cell_type": "markdown",
   "metadata": {},
   "source": [
    "# Saving subset as csv"
   ]
  },
  {
   "cell_type": "code",
   "execution_count": 82,
   "metadata": {},
   "outputs": [
    {
     "data": {
      "text/plain": [
       "Index(['subtype_of_property', 'type_of_sale'], dtype='object')"
      ]
     },
     "execution_count": 82,
     "metadata": {},
     "output_type": "execute_result"
    }
   ],
   "source": [
    "immo_data.columns[[3,5]]"
   ]
  },
  {
   "cell_type": "code",
   "execution_count": 83,
   "metadata": {
    "scrolled": true
   },
   "outputs": [
    {
     "data": {
      "text/plain": [
       "Index(['Unnamed: 0', 'locality', 'type_of_property', 'subtype_of_property',\n",
       "       'price', 'type_of_sale', 'number_of_rooms', 'house_area',\n",
       "       'fully_equipped_kitchen', 'furnished', 'open_fire', 'terrace',\n",
       "       'terrace_area', 'garden', 'garden_area', 'surface_of_the_land',\n",
       "       'surface_of_the_plot_of_land', 'number_of_facades', 'swimming_pool',\n",
       "       'state_of_the_building', 'construction_year', 'province', 'région',\n",
       "       'number_of_rooms_cat', 'house_area_cat', 'surface_of_the_land_cat',\n",
       "       'construction_year_cat'],\n",
       "      dtype='object')"
      ]
     },
     "execution_count": 83,
     "metadata": {},
     "output_type": "execute_result"
    }
   ],
   "source": [
    "immo_data.columns"
   ]
  },
  {
   "cell_type": "code",
   "execution_count": 96,
   "metadata": {},
   "outputs": [],
   "source": [
    "immo_to_keep  = immo_data[['type_of_property', 'subtype_of_property','locality', 'province', 'région',\n",
    "       'price', 'number_of_facades', 'house_area', 'house_area_cat', 'number_of_rooms','number_of_rooms_cat',  'surface_of_the_land', 'surface_of_the_land_cat',\n",
    "       'fully_equipped_kitchen', 'garden', 'garden_area','terrace', 'terrace_area', 'open_fire',\n",
    "         'swimming_pool', 'state_of_the_building', 'construction_year', 'construction_year_cat']]"
   ]
  },
  {
   "cell_type": "code",
   "execution_count": 97,
   "metadata": {},
   "outputs": [
    {
     "data": {
      "text/html": [
       "<div>\n",
       "<style scoped>\n",
       "    .dataframe tbody tr th:only-of-type {\n",
       "        vertical-align: middle;\n",
       "    }\n",
       "\n",
       "    .dataframe tbody tr th {\n",
       "        vertical-align: top;\n",
       "    }\n",
       "\n",
       "    .dataframe thead th {\n",
       "        text-align: right;\n",
       "    }\n",
       "</style>\n",
       "<table border=\"1\" class=\"dataframe\">\n",
       "  <thead>\n",
       "    <tr style=\"text-align: right;\">\n",
       "      <th></th>\n",
       "      <th>type_of_property</th>\n",
       "      <th>subtype_of_property</th>\n",
       "      <th>locality</th>\n",
       "      <th>province</th>\n",
       "      <th>région</th>\n",
       "      <th>price</th>\n",
       "      <th>number_of_facades</th>\n",
       "      <th>house_area</th>\n",
       "      <th>house_area_cat</th>\n",
       "      <th>number_of_rooms</th>\n",
       "      <th>...</th>\n",
       "      <th>fully_equipped_kitchen</th>\n",
       "      <th>garden</th>\n",
       "      <th>garden_area</th>\n",
       "      <th>terrace</th>\n",
       "      <th>terrace_area</th>\n",
       "      <th>open_fire</th>\n",
       "      <th>swimming_pool</th>\n",
       "      <th>state_of_the_building</th>\n",
       "      <th>construction_year</th>\n",
       "      <th>construction_year_cat</th>\n",
       "    </tr>\n",
       "  </thead>\n",
       "  <tbody>\n",
       "    <tr>\n",
       "      <th>0</th>\n",
       "      <td>house</td>\n",
       "      <td>house</td>\n",
       "      <td>1050</td>\n",
       "      <td>Bruxelles-Capitale</td>\n",
       "      <td>Région Bruxelles-capitale</td>\n",
       "      <td>340000.0</td>\n",
       "      <td>2.0</td>\n",
       "      <td>203.0</td>\n",
       "      <td>]180-240 m²]</td>\n",
       "      <td>6.0</td>\n",
       "      <td>...</td>\n",
       "      <td>1</td>\n",
       "      <td>0</td>\n",
       "      <td>NaN</td>\n",
       "      <td>1</td>\n",
       "      <td>NaN</td>\n",
       "      <td>0</td>\n",
       "      <td>0</td>\n",
       "      <td>to be done up</td>\n",
       "      <td>1901.0</td>\n",
       "      <td>1900-1919</td>\n",
       "    </tr>\n",
       "    <tr>\n",
       "      <th>1</th>\n",
       "      <td>house</td>\n",
       "      <td>villa</td>\n",
       "      <td>1880</td>\n",
       "      <td>Brabant flamand</td>\n",
       "      <td>Région flamande</td>\n",
       "      <td>525000.0</td>\n",
       "      <td>4.0</td>\n",
       "      <td>250.0</td>\n",
       "      <td>]240m²- ]</td>\n",
       "      <td>6.0</td>\n",
       "      <td>...</td>\n",
       "      <td>1</td>\n",
       "      <td>1</td>\n",
       "      <td>430.0</td>\n",
       "      <td>1</td>\n",
       "      <td>40.0</td>\n",
       "      <td>0</td>\n",
       "      <td>0</td>\n",
       "      <td>as new</td>\n",
       "      <td>1992.0</td>\n",
       "      <td>1980-1999</td>\n",
       "    </tr>\n",
       "    <tr>\n",
       "      <th>2</th>\n",
       "      <td>house</td>\n",
       "      <td>exceptional property</td>\n",
       "      <td>4900</td>\n",
       "      <td>Liège</td>\n",
       "      <td>Région wallonne</td>\n",
       "      <td>550000.0</td>\n",
       "      <td>4.0</td>\n",
       "      <td>475.0</td>\n",
       "      <td>]240m²- ]</td>\n",
       "      <td>11.0</td>\n",
       "      <td>...</td>\n",
       "      <td>1</td>\n",
       "      <td>1</td>\n",
       "      <td>1400.0</td>\n",
       "      <td>1</td>\n",
       "      <td>NaN</td>\n",
       "      <td>0</td>\n",
       "      <td>0</td>\n",
       "      <td>good</td>\n",
       "      <td>1853.0</td>\n",
       "      <td>older than 1900</td>\n",
       "    </tr>\n",
       "    <tr>\n",
       "      <th>3</th>\n",
       "      <td>house</td>\n",
       "      <td>villa</td>\n",
       "      <td>7912</td>\n",
       "      <td>Hainaut</td>\n",
       "      <td>Région wallonne</td>\n",
       "      <td>550000.0</td>\n",
       "      <td>4.0</td>\n",
       "      <td>325.0</td>\n",
       "      <td>]240m²- ]</td>\n",
       "      <td>4.0</td>\n",
       "      <td>...</td>\n",
       "      <td>1</td>\n",
       "      <td>1</td>\n",
       "      <td>2333.0</td>\n",
       "      <td>1</td>\n",
       "      <td>125.0</td>\n",
       "      <td>0</td>\n",
       "      <td>0</td>\n",
       "      <td>good</td>\n",
       "      <td>1918.0</td>\n",
       "      <td>1900-1919</td>\n",
       "    </tr>\n",
       "    <tr>\n",
       "      <th>4</th>\n",
       "      <td>house</td>\n",
       "      <td>house</td>\n",
       "      <td>6032</td>\n",
       "      <td>Hainaut</td>\n",
       "      <td>Région wallonne</td>\n",
       "      <td>550000.0</td>\n",
       "      <td>3.0</td>\n",
       "      <td>400.0</td>\n",
       "      <td>]240m²- ]</td>\n",
       "      <td>5.0</td>\n",
       "      <td>...</td>\n",
       "      <td>1</td>\n",
       "      <td>1</td>\n",
       "      <td>500.0</td>\n",
       "      <td>1</td>\n",
       "      <td>80.0</td>\n",
       "      <td>0</td>\n",
       "      <td>0</td>\n",
       "      <td>as new</td>\n",
       "      <td>1977.0</td>\n",
       "      <td>1960-1979</td>\n",
       "    </tr>\n",
       "    <tr>\n",
       "      <th>...</th>\n",
       "      <td>...</td>\n",
       "      <td>...</td>\n",
       "      <td>...</td>\n",
       "      <td>...</td>\n",
       "      <td>...</td>\n",
       "      <td>...</td>\n",
       "      <td>...</td>\n",
       "      <td>...</td>\n",
       "      <td>...</td>\n",
       "      <td>...</td>\n",
       "      <td>...</td>\n",
       "      <td>...</td>\n",
       "      <td>...</td>\n",
       "      <td>...</td>\n",
       "      <td>...</td>\n",
       "      <td>...</td>\n",
       "      <td>...</td>\n",
       "      <td>...</td>\n",
       "      <td>...</td>\n",
       "      <td>...</td>\n",
       "      <td>...</td>\n",
       "    </tr>\n",
       "    <tr>\n",
       "      <th>50837</th>\n",
       "      <td>house</td>\n",
       "      <td>house</td>\n",
       "      <td>3120</td>\n",
       "      <td>Brabant flamand</td>\n",
       "      <td>Région flamande</td>\n",
       "      <td>455496.0</td>\n",
       "      <td>NaN</td>\n",
       "      <td>NaN</td>\n",
       "      <td>None</td>\n",
       "      <td>3.0</td>\n",
       "      <td>...</td>\n",
       "      <td>0</td>\n",
       "      <td>0</td>\n",
       "      <td>NaN</td>\n",
       "      <td>0</td>\n",
       "      <td>NaN</td>\n",
       "      <td>0</td>\n",
       "      <td>0</td>\n",
       "      <td>NaN</td>\n",
       "      <td>NaN</td>\n",
       "      <td>None</td>\n",
       "    </tr>\n",
       "    <tr>\n",
       "      <th>50838</th>\n",
       "      <td>house</td>\n",
       "      <td>house</td>\n",
       "      <td>1800</td>\n",
       "      <td>Brabant flamand</td>\n",
       "      <td>Région flamande</td>\n",
       "      <td>451650.0</td>\n",
       "      <td>3.0</td>\n",
       "      <td>NaN</td>\n",
       "      <td>None</td>\n",
       "      <td>3.0</td>\n",
       "      <td>...</td>\n",
       "      <td>0</td>\n",
       "      <td>0</td>\n",
       "      <td>NaN</td>\n",
       "      <td>0</td>\n",
       "      <td>NaN</td>\n",
       "      <td>0</td>\n",
       "      <td>0</td>\n",
       "      <td>NaN</td>\n",
       "      <td>NaN</td>\n",
       "      <td>None</td>\n",
       "    </tr>\n",
       "    <tr>\n",
       "      <th>50839</th>\n",
       "      <td>house</td>\n",
       "      <td>house</td>\n",
       "      <td>2018</td>\n",
       "      <td>Anvers</td>\n",
       "      <td>Région flamande</td>\n",
       "      <td>488000.0</td>\n",
       "      <td>3.0</td>\n",
       "      <td>145.0</td>\n",
       "      <td>]120-180 m²]</td>\n",
       "      <td>3.0</td>\n",
       "      <td>...</td>\n",
       "      <td>0</td>\n",
       "      <td>1</td>\n",
       "      <td>48.0</td>\n",
       "      <td>0</td>\n",
       "      <td>NaN</td>\n",
       "      <td>0</td>\n",
       "      <td>0</td>\n",
       "      <td>NaN</td>\n",
       "      <td>NaN</td>\n",
       "      <td>None</td>\n",
       "    </tr>\n",
       "    <tr>\n",
       "      <th>50840</th>\n",
       "      <td>house</td>\n",
       "      <td>house</td>\n",
       "      <td>9140</td>\n",
       "      <td>Flandre-Orientale</td>\n",
       "      <td>Région flamande</td>\n",
       "      <td>455000.0</td>\n",
       "      <td>4.0</td>\n",
       "      <td>NaN</td>\n",
       "      <td>None</td>\n",
       "      <td>3.0</td>\n",
       "      <td>...</td>\n",
       "      <td>0</td>\n",
       "      <td>0</td>\n",
       "      <td>NaN</td>\n",
       "      <td>0</td>\n",
       "      <td>NaN</td>\n",
       "      <td>0</td>\n",
       "      <td>0</td>\n",
       "      <td>NaN</td>\n",
       "      <td>NaN</td>\n",
       "      <td>None</td>\n",
       "    </tr>\n",
       "    <tr>\n",
       "      <th>50841</th>\n",
       "      <td>house</td>\n",
       "      <td>house</td>\n",
       "      <td>9620</td>\n",
       "      <td>Flandre-Orientale</td>\n",
       "      <td>Région flamande</td>\n",
       "      <td>469000.0</td>\n",
       "      <td>4.0</td>\n",
       "      <td>NaN</td>\n",
       "      <td>None</td>\n",
       "      <td>3.0</td>\n",
       "      <td>...</td>\n",
       "      <td>0</td>\n",
       "      <td>0</td>\n",
       "      <td>NaN</td>\n",
       "      <td>0</td>\n",
       "      <td>NaN</td>\n",
       "      <td>0</td>\n",
       "      <td>0</td>\n",
       "      <td>NaN</td>\n",
       "      <td>NaN</td>\n",
       "      <td>None</td>\n",
       "    </tr>\n",
       "  </tbody>\n",
       "</table>\n",
       "<p>50842 rows × 23 columns</p>\n",
       "</div>"
      ],
      "text/plain": [
       "      type_of_property   subtype_of_property  locality            province  \\\n",
       "0                house                 house      1050  Bruxelles-Capitale   \n",
       "1                house                 villa      1880     Brabant flamand   \n",
       "2                house  exceptional property      4900               Liège   \n",
       "3                house                 villa      7912             Hainaut   \n",
       "4                house                 house      6032             Hainaut   \n",
       "...                ...                   ...       ...                 ...   \n",
       "50837            house                 house      3120     Brabant flamand   \n",
       "50838            house                 house      1800     Brabant flamand   \n",
       "50839            house                 house      2018              Anvers   \n",
       "50840            house                 house      9140   Flandre-Orientale   \n",
       "50841            house                 house      9620   Flandre-Orientale   \n",
       "\n",
       "                          région     price  number_of_facades  house_area  \\\n",
       "0      Région Bruxelles-capitale  340000.0                2.0       203.0   \n",
       "1                Région flamande  525000.0                4.0       250.0   \n",
       "2                Région wallonne  550000.0                4.0       475.0   \n",
       "3                Région wallonne  550000.0                4.0       325.0   \n",
       "4                Région wallonne  550000.0                3.0       400.0   \n",
       "...                          ...       ...                ...         ...   \n",
       "50837            Région flamande  455496.0                NaN         NaN   \n",
       "50838            Région flamande  451650.0                3.0         NaN   \n",
       "50839            Région flamande  488000.0                3.0       145.0   \n",
       "50840            Région flamande  455000.0                4.0         NaN   \n",
       "50841            Région flamande  469000.0                4.0         NaN   \n",
       "\n",
       "      house_area_cat  number_of_rooms  ... fully_equipped_kitchen  garden  \\\n",
       "0       ]180-240 m²]              6.0  ...                      1       0   \n",
       "1          ]240m²- ]              6.0  ...                      1       1   \n",
       "2          ]240m²- ]             11.0  ...                      1       1   \n",
       "3          ]240m²- ]              4.0  ...                      1       1   \n",
       "4          ]240m²- ]              5.0  ...                      1       1   \n",
       "...              ...              ...  ...                    ...     ...   \n",
       "50837           None              3.0  ...                      0       0   \n",
       "50838           None              3.0  ...                      0       0   \n",
       "50839   ]120-180 m²]              3.0  ...                      0       1   \n",
       "50840           None              3.0  ...                      0       0   \n",
       "50841           None              3.0  ...                      0       0   \n",
       "\n",
       "      garden_area  terrace  terrace_area  open_fire  swimming_pool  \\\n",
       "0             NaN        1           NaN          0              0   \n",
       "1           430.0        1          40.0          0              0   \n",
       "2          1400.0        1           NaN          0              0   \n",
       "3          2333.0        1         125.0          0              0   \n",
       "4           500.0        1          80.0          0              0   \n",
       "...           ...      ...           ...        ...            ...   \n",
       "50837         NaN        0           NaN          0              0   \n",
       "50838         NaN        0           NaN          0              0   \n",
       "50839        48.0        0           NaN          0              0   \n",
       "50840         NaN        0           NaN          0              0   \n",
       "50841         NaN        0           NaN          0              0   \n",
       "\n",
       "       state_of_the_building  construction_year  construction_year_cat  \n",
       "0              to be done up             1901.0              1900-1919  \n",
       "1                     as new             1992.0              1980-1999  \n",
       "2                       good             1853.0        older than 1900  \n",
       "3                       good             1918.0              1900-1919  \n",
       "4                     as new             1977.0              1960-1979  \n",
       "...                      ...                ...                    ...  \n",
       "50837                    NaN                NaN                   None  \n",
       "50838                    NaN                NaN                   None  \n",
       "50839                    NaN                NaN                   None  \n",
       "50840                    NaN                NaN                   None  \n",
       "50841                    NaN                NaN                   None  \n",
       "\n",
       "[50842 rows x 23 columns]"
      ]
     },
     "execution_count": 97,
     "metadata": {},
     "output_type": "execute_result"
    }
   ],
   "source": [
    "immo_to_keep"
   ]
  },
  {
   "cell_type": "code",
   "execution_count": 98,
   "metadata": {},
   "outputs": [],
   "source": [
    "immo_to_keep.to_csv('immo_var_to_keep.csv')"
   ]
  },
  {
   "cell_type": "code",
   "execution_count": null,
   "metadata": {},
   "outputs": [],
   "source": [
    "#df = df.drop(labels='type_of_sale', axis=1)\n",
    "#df = df.drop(labels='furnished', axis=1)\n",
    "#df = df.drop(labels='surface_of_the_plot_of_land', axis=1)"
   ]
  },
  {
   "cell_type": "code",
   "execution_count": null,
   "metadata": {},
   "outputs": [],
   "source": []
  },
  {
   "cell_type": "code",
   "execution_count": null,
   "metadata": {},
   "outputs": [],
   "source": []
  }
 ],
 "metadata": {
  "kernelspec": {
   "display_name": "Python 3",
   "language": "python",
   "name": "python3"
  },
  "language_info": {
   "codemirror_mode": {
    "name": "ipython",
    "version": 3
   },
   "file_extension": ".py",
   "mimetype": "text/x-python",
   "name": "python",
   "nbconvert_exporter": "python",
   "pygments_lexer": "ipython3",
   "version": "3.8.3"
  }
 },
 "nbformat": 4,
 "nbformat_minor": 4
}
