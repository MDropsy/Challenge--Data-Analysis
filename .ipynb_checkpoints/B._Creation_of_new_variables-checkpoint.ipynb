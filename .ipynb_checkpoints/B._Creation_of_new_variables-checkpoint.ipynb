{
 "cells": [
  {
   "cell_type": "markdown",
   "metadata": {},
   "source": [
    "# B. Creation of new variables"
   ]
  },
  {
   "cell_type": "code",
   "execution_count": 1,
   "metadata": {},
   "outputs": [],
   "source": [
    "import pandas as pd\n",
    "import numpy as np\n",
    "import matplotlib.pyplot as plt"
   ]
  },
  {
   "cell_type": "code",
   "execution_count": 2,
   "metadata": {},
   "outputs": [],
   "source": [
    "immo_data = pd.read_csv('filtered_dataset_house_appartment.csv', sep=',', na_values=['None', 'no price'])\n"
   ]
  },
  {
   "cell_type": "code",
   "execution_count": 3,
   "metadata": {},
   "outputs": [
    {
     "name": "stdout",
     "output_type": "stream",
     "text": [
      "<class 'pandas.core.frame.DataFrame'>\n",
      "RangeIndex: 42334 entries, 0 to 42333\n",
      "Data columns (total 18 columns):\n",
      " #   Column                  Non-Null Count  Dtype  \n",
      "---  ------                  --------------  -----  \n",
      " 0   Unnamed: 0              42334 non-null  int64  \n",
      " 1   locality                42334 non-null  int64  \n",
      " 2   type_of_property        42334 non-null  object \n",
      " 3   subtype_of_property     42334 non-null  object \n",
      " 4   price                   42334 non-null  float64\n",
      " 5   number_of_rooms         42334 non-null  int64  \n",
      " 6   house_area              42225 non-null  float64\n",
      " 7   fully_equipped_kitchen  42334 non-null  int64  \n",
      " 8   open_fire               42334 non-null  int64  \n",
      " 9   terrace                 42334 non-null  int64  \n",
      " 10  terrace_area            16220 non-null  float64\n",
      " 11  garden                  42334 non-null  int64  \n",
      " 12  garden_area             7863 non-null   float64\n",
      " 13  surface_of_the_land     20308 non-null  float64\n",
      " 14  number_of_facades       31690 non-null  float64\n",
      " 15  swimming_pool           42334 non-null  int64  \n",
      " 16  state_of_the_building   32087 non-null  object \n",
      " 17  construction_year       26129 non-null  float64\n",
      "dtypes: float64(7), int64(8), object(3)\n",
      "memory usage: 5.8+ MB\n"
     ]
    }
   ],
   "source": [
    "immo_data.info()"
   ]
  },
  {
   "cell_type": "markdown",
   "metadata": {},
   "source": [
    "## Creation de variable provinces \n"
   ]
  },
  {
   "cell_type": "markdown",
   "metadata": {},
   "source": [
    "Codes postaux par provinces:\n",
    "- 1000–1299 : Drapeau de la Région de Bruxelles-Capitale Région de Bruxelles-Capitale\n",
    "- 1300–1499 : Drapeau de la province du Brabant wallon Province du Brabant wallon\n",
    "- 1500–1999 : Drapeau du Brabant flamand Province du Brabant flamand (arrondissement de Hal-Vilvorde, sauf Overijse)\n",
    "- 2000–2999 : Drapeau de la province d'Anvers Province d'Anvers\n",
    "- 3000–3499 : Drapeau du Brabant flamand Province du Brabant flamand (arrondissement de Louvain, plus Overijse)\n",
    "- 3500–3999 : Drapeau de la Province de Limbourg Province de Limbourg\n",
    "- 4000–4999 : Drapeau de la province de Liège Province de Liège\n",
    "- 5000–5999 : Drapeau de la province de Namur Province de Namur\n",
    "- 6000–6599 : Drapeau de la province de Hainaut Province de Hainaut (1)\n",
    "- 6600–6999 : Drapeau de la province de Luxembourg Province de Luxembourg\n",
    "- 7000–7999 : Drapeau de la province de Hainaut Province de Hainaut (2)\n",
    "- 8000–8999 : Drapeau de la province de Flandre-Occidentale Province de Flandre-Occidentale\n",
    "- 9000–9999 : Drapeau de la province de Flandre-Orientale Province de Flandre-Orientale"
   ]
  },
  {
   "cell_type": "code",
   "execution_count": 4,
   "metadata": {},
   "outputs": [],
   "source": [
    "def ident_province(x):\n",
    "    if x >= 1000 and x <=1299 :\n",
    "        return 'Bruxelles-Capitale'\n",
    "    elif x >= 1300 and x <= 1499 :\n",
    "        return 'Brabant wallon'\n",
    "    elif x >= 1500 and x <= 1999 :\n",
    "        return 'Brabant flamand'\n",
    "    elif x >= 2000 and x <= 2999 :\n",
    "        return 'Anvers'\n",
    "    elif x >= 3000 and x <=3499 :\n",
    "        return 'Brabant flamand'\n",
    "    elif x >= 3500 and x <= 3999 :\n",
    "        return 'Limbourg'\n",
    "    elif x >= 4000 and x <= 4999 :\n",
    "        return 'Liège'\n",
    "    elif x >= 5000 and x <=5999 :\n",
    "        return 'Namur'\n",
    "    elif x >= 6000 and x <= 6599 :\n",
    "        return 'Hainaut'\n",
    "    elif x >= 6600 and x <=6999 :\n",
    "        return 'Luxembourg'\n",
    "    elif x >= 7000 and x <= 7999 :\n",
    "        return 'Hainaut'\n",
    "    elif x >= 8000 and x <=8999 :\n",
    "        return 'Flandre-Occidentale'\n",
    "    elif x >= 9000 and x <=9999 :\n",
    "        return 'Flandre-Orientale'\n",
    "    else:\n",
    "        pass "
   ]
  },
  {
   "cell_type": "code",
   "execution_count": 5,
   "metadata": {},
   "outputs": [],
   "source": [
    "immo_data['province'] = immo_data['locality'].apply(ident_province)"
   ]
  },
  {
   "cell_type": "code",
   "execution_count": 6,
   "metadata": {},
   "outputs": [
    {
     "data": {
      "text/plain": [
       "Flandre-Occidentale    7669\n",
       "Anvers                 5509\n",
       "Flandre-Orientale      5234\n",
       "Hainaut                4342\n",
       "Bruxelles-Capitale     4258\n",
       "Liège                  4177\n",
       "Brabant flamand        3887\n",
       "Limbourg               2624\n",
       "Brabant wallon         1806\n",
       "Namur                  1647\n",
       "Luxembourg             1181\n",
       "Name: province, dtype: int64"
      ]
     },
     "execution_count": 6,
     "metadata": {},
     "output_type": "execute_result"
    }
   ],
   "source": [
    "immo_data['province'].value_counts()"
   ]
  },
  {
   "cell_type": "markdown",
   "metadata": {},
   "source": [
    "## Creation de variable région \n"
   ]
  },
  {
   "cell_type": "code",
   "execution_count": 7,
   "metadata": {},
   "outputs": [],
   "source": [
    "def ident_region(x):\n",
    "    if x == 'Flandre-Occidentale' or x =='Flandre-Orientale' or x == 'Anvers' or x =='Brabant flamand' or x == 'Limbourg':\n",
    "        return 'Région flamande'\n",
    "    elif x == 'Hainaut' or x == 'Liège' or x=='Namur' or x=='Brabant wallon' or x=='Luxembourg':\n",
    "        return 'Région wallonne'\n",
    "    else : \n",
    "        return 'Région Bruxelles-capitale'"
   ]
  },
  {
   "cell_type": "code",
   "execution_count": 8,
   "metadata": {},
   "outputs": [],
   "source": [
    "immo_data['région'] = immo_data['province'].apply(ident_region)"
   ]
  },
  {
   "cell_type": "code",
   "execution_count": 9,
   "metadata": {},
   "outputs": [
    {
     "data": {
      "text/plain": [
       "Région flamande              24923\n",
       "Région wallonne              13153\n",
       "Région Bruxelles-capitale     4258\n",
       "Name: région, dtype: int64"
      ]
     },
     "execution_count": 9,
     "metadata": {},
     "output_type": "execute_result"
    }
   ],
   "source": [
    "immo_data['région'].value_counts()"
   ]
  },
  {
   "cell_type": "markdown",
   "metadata": {},
   "source": [
    "## Creation catégories number_of_rooms_cat"
   ]
  },
  {
   "cell_type": "code",
   "execution_count": 10,
   "metadata": {},
   "outputs": [],
   "source": [
    "# immo_data.number_of_rooms.value_counts()"
   ]
  },
  {
   "cell_type": "code",
   "execution_count": 11,
   "metadata": {},
   "outputs": [],
   "source": [
    "def numb_room_ceil(x):\n",
    "    if x < 5 :\n",
    "        return f'{int(x)} chambre(s)'\n",
    "    else:\n",
    "        return '5 et plus'"
   ]
  },
  {
   "cell_type": "code",
   "execution_count": 12,
   "metadata": {},
   "outputs": [],
   "source": [
    "immo_data['number_of_rooms_cat'] = immo_data.number_of_rooms.apply(numb_room_ceil)"
   ]
  },
  {
   "cell_type": "code",
   "execution_count": 13,
   "metadata": {},
   "outputs": [
    {
     "data": {
      "text/plain": [
       "2 chambre(s)    14063\n",
       "3 chambre(s)    13559\n",
       "4 chambre(s)     5935\n",
       "1 chambre(s)     4313\n",
       "5 et plus        3653\n",
       "0 chambre(s)      811\n",
       "Name: number_of_rooms_cat, dtype: int64"
      ]
     },
     "execution_count": 13,
     "metadata": {},
     "output_type": "execute_result"
    }
   ],
   "source": [
    "immo_data.number_of_rooms_cat.value_counts()"
   ]
  },
  {
   "cell_type": "markdown",
   "metadata": {},
   "source": [
    "## Maintien de variable subtype_of_property"
   ]
  },
  {
   "cell_type": "code",
   "execution_count": 14,
   "metadata": {},
   "outputs": [
    {
     "data": {
      "text/plain": [
       "type_of_property  subtype_of_property \n",
       "apartment         apartment               15329\n",
       "                  duplex                   1278\n",
       "                  flat studio               724\n",
       "                  ground floor             1098\n",
       "                  kot                        67\n",
       "                  loft                      199\n",
       "                  penthouse                 830\n",
       "                  service flat              255\n",
       "                  triplex                    72\n",
       "house             apartment block           790\n",
       "                  bungalow                  226\n",
       "                  castle                      7\n",
       "                  chalet                    112\n",
       "                  country cottage           236\n",
       "                  exceptional property      380\n",
       "                  farmhouse                  98\n",
       "                  house                   16645\n",
       "                  manor house                68\n",
       "                  mansion                   394\n",
       "                  mixed use building        737\n",
       "                  other property             57\n",
       "                  pavilion                    1\n",
       "                  town house                356\n",
       "                  villa                    2375\n",
       "Name: subtype_of_property, dtype: int64"
      ]
     },
     "execution_count": 14,
     "metadata": {},
     "output_type": "execute_result"
    }
   ],
   "source": [
    "immo_data.groupby(['type_of_property', 'subtype_of_property']).subtype_of_property.count()"
   ]
  },
  {
   "cell_type": "markdown",
   "metadata": {},
   "source": [
    "## Création catégories house_area"
   ]
  },
  {
   "cell_type": "code",
   "execution_count": 15,
   "metadata": {},
   "outputs": [
    {
     "data": {
      "text/plain": [
       "count    42225.000000\n",
       "mean       151.293025\n",
       "std         89.341495\n",
       "min         11.000000\n",
       "25%         90.000000\n",
       "50%        129.000000\n",
       "75%        185.000000\n",
       "max        710.000000\n",
       "Name: house_area, dtype: float64"
      ]
     },
     "execution_count": 15,
     "metadata": {},
     "output_type": "execute_result"
    }
   ],
   "source": [
    "immo_data.house_area.describe()"
   ]
  },
  {
   "cell_type": "code",
   "execution_count": 16,
   "metadata": {},
   "outputs": [],
   "source": [
    "def h_area_cat(x):\n",
    "    if x <= 60 :\n",
    "        return '[0-60 m²]'\n",
    "    elif x > 60 and x <= 120:\n",
    "        return ']60-120 m²]'\n",
    "    elif x > 120 and x <= 180:\n",
    "        return ']120-180 m²]'\n",
    "    elif x > 180 and x <= 240:\n",
    "        return ']180-240 m²]'\n",
    "    elif x > 240:\n",
    "        return ']240m²- ]'\n",
    "    else:\n",
    "        pass"
   ]
  },
  {
   "cell_type": "code",
   "execution_count": 17,
   "metadata": {},
   "outputs": [],
   "source": [
    "immo_data['house_area_cat'] = immo_data.house_area.apply(h_area_cat)"
   ]
  },
  {
   "cell_type": "code",
   "execution_count": 18,
   "metadata": {},
   "outputs": [
    {
     "data": {
      "text/plain": [
       "]60-120 m²]     16825\n",
       "]120-180 m²]    11653\n",
       "]180-240 m²]     5803\n",
       "]240m²- ]        5245\n",
       "[0-60 m²]        2699\n",
       "Name: house_area_cat, dtype: int64"
      ]
     },
     "execution_count": 18,
     "metadata": {},
     "output_type": "execute_result"
    }
   ],
   "source": [
    "immo_data['house_area_cat'].value_counts()"
   ]
  },
  {
   "cell_type": "markdown",
   "metadata": {},
   "source": [
    "## Création catégories surface_of_the_land"
   ]
  },
  {
   "cell_type": "code",
   "execution_count": 19,
   "metadata": {},
   "outputs": [
    {
     "data": {
      "text/plain": [
       "count    20308.000000\n",
       "mean       830.588783\n",
       "std       1353.159761\n",
       "min          6.000000\n",
       "25%        200.000000\n",
       "50%        418.000000\n",
       "75%        901.000000\n",
       "max      15444.000000\n",
       "Name: surface_of_the_land, dtype: float64"
      ]
     },
     "execution_count": 19,
     "metadata": {},
     "output_type": "execute_result"
    }
   ],
   "source": [
    "immo_data.surface_of_the_land.describe()"
   ]
  },
  {
   "cell_type": "code",
   "execution_count": 20,
   "metadata": {},
   "outputs": [],
   "source": [
    "def l_area_cat(x):\n",
    "    if x <= 500 :\n",
    "        return '[0-5 ares]'\n",
    "    elif x > 500 and x <= 1000:\n",
    "        return ']5-10 ares]'\n",
    "    elif x > 1000 and x <= 5000:\n",
    "        return ']10-50 ares]'\n",
    "    elif x > 5000 :\n",
    "        return ']50 ares- ]'\n",
    "    else:\n",
    "        pass"
   ]
  },
  {
   "cell_type": "code",
   "execution_count": 21,
   "metadata": {},
   "outputs": [],
   "source": [
    "immo_data['surface_of_the_land_cat'] = immo_data.surface_of_the_land.apply(l_area_cat)"
   ]
  },
  {
   "cell_type": "code",
   "execution_count": 22,
   "metadata": {},
   "outputs": [
    {
     "data": {
      "text/plain": [
       "[0-5 ares]      11425\n",
       "]5-10 ares]      4491\n",
       "]10-50 ares]     3978\n",
       "]50 ares- ]       414\n",
       "Name: surface_of_the_land_cat, dtype: int64"
      ]
     },
     "execution_count": 22,
     "metadata": {},
     "output_type": "execute_result"
    }
   ],
   "source": [
    "immo_data['surface_of_the_land_cat'].value_counts()"
   ]
  },
  {
   "cell_type": "markdown",
   "metadata": {},
   "source": [
    "## Création catégories construction_year"
   ]
  },
  {
   "cell_type": "code",
   "execution_count": 23,
   "metadata": {},
   "outputs": [
    {
     "data": {
      "text/plain": [
       "2020.0    3295\n",
       "2019.0    1955\n",
       "2018.0     911\n",
       "1930.0     566\n",
       "1970.0     525\n",
       "          ... \n",
       "1887.0       1\n",
       "1862.0       1\n",
       "1876.0       1\n",
       "1781.0       1\n",
       "1854.0       1\n",
       "Name: construction_year, Length: 216, dtype: int64"
      ]
     },
     "execution_count": 23,
     "metadata": {},
     "output_type": "execute_result"
    }
   ],
   "source": [
    "immo_data.construction_year.value_counts()"
   ]
  },
  {
   "cell_type": "code",
   "execution_count": 24,
   "metadata": {},
   "outputs": [],
   "source": [
    "def year_cat(x):\n",
    "    if x < 1900 :\n",
    "        return 'older than 1900'\n",
    "    elif x >= 1900 and x < 1920:\n",
    "        return '1900-1919'\n",
    "    elif x >= 1920 and x < 1940:\n",
    "        return '1920-1939'\n",
    "    elif x >= 1940 and x < 1960:\n",
    "        return '1940-1959'\n",
    "    elif x >= 1960 and x < 1980:\n",
    "        return '1960-1979'\n",
    "    elif x >= 1980 and x < 2000:\n",
    "        return '1980-1999'\n",
    "    elif x >= 2000:\n",
    "        return '2000- '\n",
    "    else:\n",
    "        pass"
   ]
  },
  {
   "cell_type": "code",
   "execution_count": 25,
   "metadata": {},
   "outputs": [],
   "source": [
    "immo_data['construction_year_cat'] = immo_data.construction_year.apply(year_cat)"
   ]
  },
  {
   "cell_type": "code",
   "execution_count": 26,
   "metadata": {},
   "outputs": [
    {
     "data": {
      "text/plain": [
       "2000-              11811\n",
       "1960-1979           5672\n",
       "1980-1999           3247\n",
       "1940-1959           2172\n",
       "1920-1939           1719\n",
       "1900-1919            801\n",
       "older than 1900      707\n",
       "Name: construction_year_cat, dtype: int64"
      ]
     },
     "execution_count": 26,
     "metadata": {},
     "output_type": "execute_result"
    }
   ],
   "source": [
    "immo_data.construction_year_cat.value_counts()"
   ]
  },
  {
   "cell_type": "code",
   "execution_count": 27,
   "metadata": {},
   "outputs": [
    {
     "data": {
      "text/plain": [
       "construction_year_cat\n",
       "1900-1919          364442.443196\n",
       "1920-1939          343615.012798\n",
       "1940-1959          316926.217311\n",
       "1960-1979          311654.276446\n",
       "1980-1999          377285.863258\n",
       "2000-              330992.415037\n",
       "older than 1900    385716.547383\n",
       "Name: price, dtype: float64"
      ]
     },
     "execution_count": 27,
     "metadata": {},
     "output_type": "execute_result"
    }
   ],
   "source": [
    "immo_data.groupby('construction_year_cat').price.mean()"
   ]
  },
  {
   "cell_type": "markdown",
   "metadata": {},
   "source": [
    "# Saving subset as csv"
   ]
  },
  {
   "cell_type": "code",
   "execution_count": 28,
   "metadata": {},
   "outputs": [
    {
     "data": {
      "text/plain": [
       "Index(['subtype_of_property', 'number_of_rooms'], dtype='object')"
      ]
     },
     "execution_count": 28,
     "metadata": {},
     "output_type": "execute_result"
    }
   ],
   "source": [
    "immo_data.columns[[3,5]]"
   ]
  },
  {
   "cell_type": "code",
   "execution_count": 29,
   "metadata": {
    "scrolled": true
   },
   "outputs": [
    {
     "data": {
      "text/plain": [
       "Index(['Unnamed: 0', 'locality', 'type_of_property', 'subtype_of_property',\n",
       "       'price', 'number_of_rooms', 'house_area', 'fully_equipped_kitchen',\n",
       "       'open_fire', 'terrace', 'terrace_area', 'garden', 'garden_area',\n",
       "       'surface_of_the_land', 'number_of_facades', 'swimming_pool',\n",
       "       'state_of_the_building', 'construction_year', 'province', 'région',\n",
       "       'number_of_rooms_cat', 'house_area_cat', 'surface_of_the_land_cat',\n",
       "       'construction_year_cat'],\n",
       "      dtype='object')"
      ]
     },
     "execution_count": 29,
     "metadata": {},
     "output_type": "execute_result"
    }
   ],
   "source": [
    "immo_data.columns"
   ]
  },
  {
   "cell_type": "code",
   "execution_count": 30,
   "metadata": {},
   "outputs": [],
   "source": [
    "immo_to_keep  = immo_data[['type_of_property', 'subtype_of_property','locality', 'province', 'région',\n",
    "       'price', 'number_of_facades', 'house_area', 'house_area_cat', 'number_of_rooms','number_of_rooms_cat',  'surface_of_the_land', 'surface_of_the_land_cat',\n",
    "       'fully_equipped_kitchen', 'garden', 'garden_area','terrace', 'terrace_area', 'open_fire',\n",
    "         'swimming_pool', 'state_of_the_building', 'construction_year', 'construction_year_cat']]"
   ]
  },
  {
   "cell_type": "code",
   "execution_count": 31,
   "metadata": {},
   "outputs": [
    {
     "data": {
      "text/html": [
       "<div>\n",
       "<style scoped>\n",
       "    .dataframe tbody tr th:only-of-type {\n",
       "        vertical-align: middle;\n",
       "    }\n",
       "\n",
       "    .dataframe tbody tr th {\n",
       "        vertical-align: top;\n",
       "    }\n",
       "\n",
       "    .dataframe thead th {\n",
       "        text-align: right;\n",
       "    }\n",
       "</style>\n",
       "<table border=\"1\" class=\"dataframe\">\n",
       "  <thead>\n",
       "    <tr style=\"text-align: right;\">\n",
       "      <th></th>\n",
       "      <th>type_of_property</th>\n",
       "      <th>subtype_of_property</th>\n",
       "      <th>locality</th>\n",
       "      <th>province</th>\n",
       "      <th>région</th>\n",
       "      <th>price</th>\n",
       "      <th>number_of_facades</th>\n",
       "      <th>house_area</th>\n",
       "      <th>house_area_cat</th>\n",
       "      <th>number_of_rooms</th>\n",
       "      <th>...</th>\n",
       "      <th>fully_equipped_kitchen</th>\n",
       "      <th>garden</th>\n",
       "      <th>garden_area</th>\n",
       "      <th>terrace</th>\n",
       "      <th>terrace_area</th>\n",
       "      <th>open_fire</th>\n",
       "      <th>swimming_pool</th>\n",
       "      <th>state_of_the_building</th>\n",
       "      <th>construction_year</th>\n",
       "      <th>construction_year_cat</th>\n",
       "    </tr>\n",
       "  </thead>\n",
       "  <tbody>\n",
       "    <tr>\n",
       "      <th>0</th>\n",
       "      <td>house</td>\n",
       "      <td>house</td>\n",
       "      <td>1050</td>\n",
       "      <td>Bruxelles-Capitale</td>\n",
       "      <td>Région Bruxelles-capitale</td>\n",
       "      <td>340000.0</td>\n",
       "      <td>2.0</td>\n",
       "      <td>203.0</td>\n",
       "      <td>]180-240 m²]</td>\n",
       "      <td>6</td>\n",
       "      <td>...</td>\n",
       "      <td>1</td>\n",
       "      <td>0</td>\n",
       "      <td>NaN</td>\n",
       "      <td>1</td>\n",
       "      <td>NaN</td>\n",
       "      <td>0</td>\n",
       "      <td>0</td>\n",
       "      <td>to be done up</td>\n",
       "      <td>1901.0</td>\n",
       "      <td>1900-1919</td>\n",
       "    </tr>\n",
       "    <tr>\n",
       "      <th>1</th>\n",
       "      <td>house</td>\n",
       "      <td>villa</td>\n",
       "      <td>1880</td>\n",
       "      <td>Brabant flamand</td>\n",
       "      <td>Région flamande</td>\n",
       "      <td>525000.0</td>\n",
       "      <td>4.0</td>\n",
       "      <td>250.0</td>\n",
       "      <td>]240m²- ]</td>\n",
       "      <td>6</td>\n",
       "      <td>...</td>\n",
       "      <td>1</td>\n",
       "      <td>1</td>\n",
       "      <td>430.0</td>\n",
       "      <td>1</td>\n",
       "      <td>40.0</td>\n",
       "      <td>0</td>\n",
       "      <td>0</td>\n",
       "      <td>as new</td>\n",
       "      <td>1992.0</td>\n",
       "      <td>1980-1999</td>\n",
       "    </tr>\n",
       "    <tr>\n",
       "      <th>2</th>\n",
       "      <td>house</td>\n",
       "      <td>exceptional property</td>\n",
       "      <td>4900</td>\n",
       "      <td>Liège</td>\n",
       "      <td>Région wallonne</td>\n",
       "      <td>550000.0</td>\n",
       "      <td>4.0</td>\n",
       "      <td>475.0</td>\n",
       "      <td>]240m²- ]</td>\n",
       "      <td>11</td>\n",
       "      <td>...</td>\n",
       "      <td>1</td>\n",
       "      <td>1</td>\n",
       "      <td>1400.0</td>\n",
       "      <td>1</td>\n",
       "      <td>NaN</td>\n",
       "      <td>0</td>\n",
       "      <td>0</td>\n",
       "      <td>good</td>\n",
       "      <td>1853.0</td>\n",
       "      <td>older than 1900</td>\n",
       "    </tr>\n",
       "    <tr>\n",
       "      <th>3</th>\n",
       "      <td>house</td>\n",
       "      <td>villa</td>\n",
       "      <td>7912</td>\n",
       "      <td>Hainaut</td>\n",
       "      <td>Région wallonne</td>\n",
       "      <td>550000.0</td>\n",
       "      <td>4.0</td>\n",
       "      <td>325.0</td>\n",
       "      <td>]240m²- ]</td>\n",
       "      <td>4</td>\n",
       "      <td>...</td>\n",
       "      <td>1</td>\n",
       "      <td>1</td>\n",
       "      <td>2333.0</td>\n",
       "      <td>1</td>\n",
       "      <td>NaN</td>\n",
       "      <td>0</td>\n",
       "      <td>0</td>\n",
       "      <td>good</td>\n",
       "      <td>1918.0</td>\n",
       "      <td>1900-1919</td>\n",
       "    </tr>\n",
       "    <tr>\n",
       "      <th>4</th>\n",
       "      <td>house</td>\n",
       "      <td>house</td>\n",
       "      <td>6032</td>\n",
       "      <td>Hainaut</td>\n",
       "      <td>Région wallonne</td>\n",
       "      <td>550000.0</td>\n",
       "      <td>3.0</td>\n",
       "      <td>400.0</td>\n",
       "      <td>]240m²- ]</td>\n",
       "      <td>5</td>\n",
       "      <td>...</td>\n",
       "      <td>1</td>\n",
       "      <td>1</td>\n",
       "      <td>500.0</td>\n",
       "      <td>1</td>\n",
       "      <td>80.0</td>\n",
       "      <td>0</td>\n",
       "      <td>0</td>\n",
       "      <td>as new</td>\n",
       "      <td>1977.0</td>\n",
       "      <td>1960-1979</td>\n",
       "    </tr>\n",
       "    <tr>\n",
       "      <th>...</th>\n",
       "      <td>...</td>\n",
       "      <td>...</td>\n",
       "      <td>...</td>\n",
       "      <td>...</td>\n",
       "      <td>...</td>\n",
       "      <td>...</td>\n",
       "      <td>...</td>\n",
       "      <td>...</td>\n",
       "      <td>...</td>\n",
       "      <td>...</td>\n",
       "      <td>...</td>\n",
       "      <td>...</td>\n",
       "      <td>...</td>\n",
       "      <td>...</td>\n",
       "      <td>...</td>\n",
       "      <td>...</td>\n",
       "      <td>...</td>\n",
       "      <td>...</td>\n",
       "      <td>...</td>\n",
       "      <td>...</td>\n",
       "      <td>...</td>\n",
       "    </tr>\n",
       "    <tr>\n",
       "      <th>42329</th>\n",
       "      <td>house</td>\n",
       "      <td>house</td>\n",
       "      <td>2310</td>\n",
       "      <td>Anvers</td>\n",
       "      <td>Région flamande</td>\n",
       "      <td>468000.0</td>\n",
       "      <td>4.0</td>\n",
       "      <td>180.0</td>\n",
       "      <td>]120-180 m²]</td>\n",
       "      <td>3</td>\n",
       "      <td>...</td>\n",
       "      <td>1</td>\n",
       "      <td>0</td>\n",
       "      <td>NaN</td>\n",
       "      <td>0</td>\n",
       "      <td>NaN</td>\n",
       "      <td>0</td>\n",
       "      <td>0</td>\n",
       "      <td>NaN</td>\n",
       "      <td>NaN</td>\n",
       "      <td>None</td>\n",
       "    </tr>\n",
       "    <tr>\n",
       "      <th>42330</th>\n",
       "      <td>house</td>\n",
       "      <td>house</td>\n",
       "      <td>1800</td>\n",
       "      <td>Brabant flamand</td>\n",
       "      <td>Région flamande</td>\n",
       "      <td>454993.0</td>\n",
       "      <td>3.0</td>\n",
       "      <td>169.0</td>\n",
       "      <td>]120-180 m²]</td>\n",
       "      <td>3</td>\n",
       "      <td>...</td>\n",
       "      <td>0</td>\n",
       "      <td>0</td>\n",
       "      <td>NaN</td>\n",
       "      <td>0</td>\n",
       "      <td>NaN</td>\n",
       "      <td>0</td>\n",
       "      <td>0</td>\n",
       "      <td>NaN</td>\n",
       "      <td>NaN</td>\n",
       "      <td>None</td>\n",
       "    </tr>\n",
       "    <tr>\n",
       "      <th>42331</th>\n",
       "      <td>house</td>\n",
       "      <td>villa</td>\n",
       "      <td>3530</td>\n",
       "      <td>Limbourg</td>\n",
       "      <td>Région flamande</td>\n",
       "      <td>475000.0</td>\n",
       "      <td>4.0</td>\n",
       "      <td>222.0</td>\n",
       "      <td>]180-240 m²]</td>\n",
       "      <td>3</td>\n",
       "      <td>...</td>\n",
       "      <td>0</td>\n",
       "      <td>0</td>\n",
       "      <td>NaN</td>\n",
       "      <td>0</td>\n",
       "      <td>NaN</td>\n",
       "      <td>0</td>\n",
       "      <td>0</td>\n",
       "      <td>NaN</td>\n",
       "      <td>NaN</td>\n",
       "      <td>None</td>\n",
       "    </tr>\n",
       "    <tr>\n",
       "      <th>42332</th>\n",
       "      <td>house</td>\n",
       "      <td>mansion</td>\n",
       "      <td>6700</td>\n",
       "      <td>Luxembourg</td>\n",
       "      <td>Région wallonne</td>\n",
       "      <td>475000.0</td>\n",
       "      <td>2.0</td>\n",
       "      <td>240.0</td>\n",
       "      <td>]180-240 m²]</td>\n",
       "      <td>9</td>\n",
       "      <td>...</td>\n",
       "      <td>0</td>\n",
       "      <td>0</td>\n",
       "      <td>NaN</td>\n",
       "      <td>0</td>\n",
       "      <td>NaN</td>\n",
       "      <td>0</td>\n",
       "      <td>0</td>\n",
       "      <td>NaN</td>\n",
       "      <td>NaN</td>\n",
       "      <td>None</td>\n",
       "    </tr>\n",
       "    <tr>\n",
       "      <th>42333</th>\n",
       "      <td>house</td>\n",
       "      <td>house</td>\n",
       "      <td>2018</td>\n",
       "      <td>Anvers</td>\n",
       "      <td>Région flamande</td>\n",
       "      <td>488000.0</td>\n",
       "      <td>3.0</td>\n",
       "      <td>145.0</td>\n",
       "      <td>]120-180 m²]</td>\n",
       "      <td>3</td>\n",
       "      <td>...</td>\n",
       "      <td>0</td>\n",
       "      <td>1</td>\n",
       "      <td>48.0</td>\n",
       "      <td>0</td>\n",
       "      <td>NaN</td>\n",
       "      <td>0</td>\n",
       "      <td>0</td>\n",
       "      <td>NaN</td>\n",
       "      <td>NaN</td>\n",
       "      <td>None</td>\n",
       "    </tr>\n",
       "  </tbody>\n",
       "</table>\n",
       "<p>42334 rows × 23 columns</p>\n",
       "</div>"
      ],
      "text/plain": [
       "      type_of_property   subtype_of_property  locality            province  \\\n",
       "0                house                 house      1050  Bruxelles-Capitale   \n",
       "1                house                 villa      1880     Brabant flamand   \n",
       "2                house  exceptional property      4900               Liège   \n",
       "3                house                 villa      7912             Hainaut   \n",
       "4                house                 house      6032             Hainaut   \n",
       "...                ...                   ...       ...                 ...   \n",
       "42329            house                 house      2310              Anvers   \n",
       "42330            house                 house      1800     Brabant flamand   \n",
       "42331            house                 villa      3530            Limbourg   \n",
       "42332            house               mansion      6700          Luxembourg   \n",
       "42333            house                 house      2018              Anvers   \n",
       "\n",
       "                          région     price  number_of_facades  house_area  \\\n",
       "0      Région Bruxelles-capitale  340000.0                2.0       203.0   \n",
       "1                Région flamande  525000.0                4.0       250.0   \n",
       "2                Région wallonne  550000.0                4.0       475.0   \n",
       "3                Région wallonne  550000.0                4.0       325.0   \n",
       "4                Région wallonne  550000.0                3.0       400.0   \n",
       "...                          ...       ...                ...         ...   \n",
       "42329            Région flamande  468000.0                4.0       180.0   \n",
       "42330            Région flamande  454993.0                3.0       169.0   \n",
       "42331            Région flamande  475000.0                4.0       222.0   \n",
       "42332            Région wallonne  475000.0                2.0       240.0   \n",
       "42333            Région flamande  488000.0                3.0       145.0   \n",
       "\n",
       "      house_area_cat  number_of_rooms  ... fully_equipped_kitchen  garden  \\\n",
       "0       ]180-240 m²]                6  ...                      1       0   \n",
       "1          ]240m²- ]                6  ...                      1       1   \n",
       "2          ]240m²- ]               11  ...                      1       1   \n",
       "3          ]240m²- ]                4  ...                      1       1   \n",
       "4          ]240m²- ]                5  ...                      1       1   \n",
       "...              ...              ...  ...                    ...     ...   \n",
       "42329   ]120-180 m²]                3  ...                      1       0   \n",
       "42330   ]120-180 m²]                3  ...                      0       0   \n",
       "42331   ]180-240 m²]                3  ...                      0       0   \n",
       "42332   ]180-240 m²]                9  ...                      0       0   \n",
       "42333   ]120-180 m²]                3  ...                      0       1   \n",
       "\n",
       "      garden_area  terrace  terrace_area  open_fire  swimming_pool  \\\n",
       "0             NaN        1           NaN          0              0   \n",
       "1           430.0        1          40.0          0              0   \n",
       "2          1400.0        1           NaN          0              0   \n",
       "3          2333.0        1           NaN          0              0   \n",
       "4           500.0        1          80.0          0              0   \n",
       "...           ...      ...           ...        ...            ...   \n",
       "42329         NaN        0           NaN          0              0   \n",
       "42330         NaN        0           NaN          0              0   \n",
       "42331         NaN        0           NaN          0              0   \n",
       "42332         NaN        0           NaN          0              0   \n",
       "42333        48.0        0           NaN          0              0   \n",
       "\n",
       "       state_of_the_building  construction_year  construction_year_cat  \n",
       "0              to be done up             1901.0              1900-1919  \n",
       "1                     as new             1992.0              1980-1999  \n",
       "2                       good             1853.0        older than 1900  \n",
       "3                       good             1918.0              1900-1919  \n",
       "4                     as new             1977.0              1960-1979  \n",
       "...                      ...                ...                    ...  \n",
       "42329                    NaN                NaN                   None  \n",
       "42330                    NaN                NaN                   None  \n",
       "42331                    NaN                NaN                   None  \n",
       "42332                    NaN                NaN                   None  \n",
       "42333                    NaN                NaN                   None  \n",
       "\n",
       "[42334 rows x 23 columns]"
      ]
     },
     "execution_count": 31,
     "metadata": {},
     "output_type": "execute_result"
    }
   ],
   "source": [
    "immo_to_keep"
   ]
  },
  {
   "cell_type": "code",
   "execution_count": 32,
   "metadata": {},
   "outputs": [],
   "source": [
    "immo_to_keep.to_csv('DEF_IMMO.csv')"
   ]
  },
  {
   "cell_type": "code",
   "execution_count": null,
   "metadata": {},
   "outputs": [],
   "source": [
    "#df = df.drop(labels='type_of_sale', axis=1)\n",
    "#df = df.drop(labels='furnished', axis=1)\n",
    "#df = df.drop(labels='surface_of_the_plot_of_land', axis=1)"
   ]
  },
  {
   "cell_type": "code",
   "execution_count": null,
   "metadata": {},
   "outputs": [],
   "source": []
  },
  {
   "cell_type": "code",
   "execution_count": null,
   "metadata": {},
   "outputs": [],
   "source": []
  }
 ],
 "metadata": {
  "kernelspec": {
   "display_name": "Python 3",
   "language": "python",
   "name": "python3"
  },
  "language_info": {
   "codemirror_mode": {
    "name": "ipython",
    "version": 3
   },
   "file_extension": ".py",
   "mimetype": "text/x-python",
   "name": "python",
   "nbconvert_exporter": "python",
   "pygments_lexer": "ipython3",
   "version": "3.8.3"
  }
 },
 "nbformat": 4,
 "nbformat_minor": 4
}
