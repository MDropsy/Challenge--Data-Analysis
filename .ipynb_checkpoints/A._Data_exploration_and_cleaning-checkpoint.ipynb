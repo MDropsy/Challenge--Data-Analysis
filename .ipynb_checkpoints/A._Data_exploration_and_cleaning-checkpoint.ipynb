{
 "cells": [
  {
   "cell_type": "markdown",
   "metadata": {},
   "source": [
    "# A. Data exploration and cleaning  "
   ]
  },
  {
   "cell_type": "code",
   "execution_count": 220,
   "metadata": {},
   "outputs": [],
   "source": [
    "import pandas as pd\n",
    "import numpy as np\n",
    "import matplotlib.pyplot as plt\n",
    "%matplotlib inline\n",
    "plt.style.use('seaborn-whitegrid')"
   ]
  },
  {
   "cell_type": "code",
   "execution_count": 221,
   "metadata": {},
   "outputs": [],
   "source": [
    "immo_data = pd.read_csv('Final_dataset_house_apartment.csv', sep=',', na_values=('None', 'no price'))"
   ]
  },
  {
   "cell_type": "code",
   "execution_count": 222,
   "metadata": {},
   "outputs": [
    {
     "data": {
      "text/html": [
       "<div>\n",
       "<style scoped>\n",
       "    .dataframe tbody tr th:only-of-type {\n",
       "        vertical-align: middle;\n",
       "    }\n",
       "\n",
       "    .dataframe tbody tr th {\n",
       "        vertical-align: top;\n",
       "    }\n",
       "\n",
       "    .dataframe thead th {\n",
       "        text-align: right;\n",
       "    }\n",
       "</style>\n",
       "<table border=\"1\" class=\"dataframe\">\n",
       "  <thead>\n",
       "    <tr style=\"text-align: right;\">\n",
       "      <th></th>\n",
       "      <th>Unnamed: 0</th>\n",
       "      <th>locality</th>\n",
       "      <th>type_of_property</th>\n",
       "      <th>subtype_of_property</th>\n",
       "      <th>price</th>\n",
       "      <th>type_of_sale</th>\n",
       "      <th>number_of_rooms</th>\n",
       "      <th>house_area</th>\n",
       "      <th>fully_equipped_kitchen</th>\n",
       "      <th>furnished</th>\n",
       "      <th>...</th>\n",
       "      <th>terrace</th>\n",
       "      <th>terrace_area</th>\n",
       "      <th>garden</th>\n",
       "      <th>garden_area</th>\n",
       "      <th>surface_of_the_land</th>\n",
       "      <th>surface_of_the_plot_of_land</th>\n",
       "      <th>number_of_facades</th>\n",
       "      <th>swimming_pool</th>\n",
       "      <th>state_of_the_building</th>\n",
       "      <th>construction_year</th>\n",
       "    </tr>\n",
       "  </thead>\n",
       "  <tbody>\n",
       "    <tr>\n",
       "      <th>0</th>\n",
       "      <td>0</td>\n",
       "      <td>1050</td>\n",
       "      <td>house</td>\n",
       "      <td>house</td>\n",
       "      <td>340000.0</td>\n",
       "      <td>for sale</td>\n",
       "      <td>6.0</td>\n",
       "      <td>203.0</td>\n",
       "      <td>1</td>\n",
       "      <td>NaN</td>\n",
       "      <td>...</td>\n",
       "      <td>1</td>\n",
       "      <td>NaN</td>\n",
       "      <td>0</td>\n",
       "      <td>NaN</td>\n",
       "      <td>95.0</td>\n",
       "      <td>NaN</td>\n",
       "      <td>2.0</td>\n",
       "      <td>0</td>\n",
       "      <td>to be done up</td>\n",
       "      <td>1901.0</td>\n",
       "    </tr>\n",
       "    <tr>\n",
       "      <th>1</th>\n",
       "      <td>1</td>\n",
       "      <td>1880</td>\n",
       "      <td>house</td>\n",
       "      <td>villa</td>\n",
       "      <td>525000.0</td>\n",
       "      <td>for sale</td>\n",
       "      <td>6.0</td>\n",
       "      <td>250.0</td>\n",
       "      <td>1</td>\n",
       "      <td>NaN</td>\n",
       "      <td>...</td>\n",
       "      <td>1</td>\n",
       "      <td>40.0</td>\n",
       "      <td>1</td>\n",
       "      <td>430.0</td>\n",
       "      <td>826.0</td>\n",
       "      <td>NaN</td>\n",
       "      <td>4.0</td>\n",
       "      <td>0</td>\n",
       "      <td>as new</td>\n",
       "      <td>1992.0</td>\n",
       "    </tr>\n",
       "    <tr>\n",
       "      <th>2</th>\n",
       "      <td>2</td>\n",
       "      <td>4900</td>\n",
       "      <td>house</td>\n",
       "      <td>exceptional property</td>\n",
       "      <td>550000.0</td>\n",
       "      <td>for sale</td>\n",
       "      <td>11.0</td>\n",
       "      <td>475.0</td>\n",
       "      <td>1</td>\n",
       "      <td>NaN</td>\n",
       "      <td>...</td>\n",
       "      <td>1</td>\n",
       "      <td>NaN</td>\n",
       "      <td>1</td>\n",
       "      <td>1400.0</td>\n",
       "      <td>1543.0</td>\n",
       "      <td>NaN</td>\n",
       "      <td>4.0</td>\n",
       "      <td>0</td>\n",
       "      <td>good</td>\n",
       "      <td>1853.0</td>\n",
       "    </tr>\n",
       "    <tr>\n",
       "      <th>3</th>\n",
       "      <td>3</td>\n",
       "      <td>7912</td>\n",
       "      <td>house</td>\n",
       "      <td>villa</td>\n",
       "      <td>550000.0</td>\n",
       "      <td>for sale</td>\n",
       "      <td>4.0</td>\n",
       "      <td>325.0</td>\n",
       "      <td>1</td>\n",
       "      <td>NaN</td>\n",
       "      <td>...</td>\n",
       "      <td>1</td>\n",
       "      <td>125.0</td>\n",
       "      <td>1</td>\n",
       "      <td>2333.0</td>\n",
       "      <td>3570.0</td>\n",
       "      <td>NaN</td>\n",
       "      <td>4.0</td>\n",
       "      <td>0</td>\n",
       "      <td>good</td>\n",
       "      <td>1918.0</td>\n",
       "    </tr>\n",
       "    <tr>\n",
       "      <th>4</th>\n",
       "      <td>4</td>\n",
       "      <td>6032</td>\n",
       "      <td>house</td>\n",
       "      <td>house</td>\n",
       "      <td>550000.0</td>\n",
       "      <td>for sale</td>\n",
       "      <td>5.0</td>\n",
       "      <td>400.0</td>\n",
       "      <td>1</td>\n",
       "      <td>NaN</td>\n",
       "      <td>...</td>\n",
       "      <td>1</td>\n",
       "      <td>80.0</td>\n",
       "      <td>1</td>\n",
       "      <td>500.0</td>\n",
       "      <td>616.0</td>\n",
       "      <td>NaN</td>\n",
       "      <td>3.0</td>\n",
       "      <td>0</td>\n",
       "      <td>as new</td>\n",
       "      <td>1977.0</td>\n",
       "    </tr>\n",
       "    <tr>\n",
       "      <th>...</th>\n",
       "      <td>...</td>\n",
       "      <td>...</td>\n",
       "      <td>...</td>\n",
       "      <td>...</td>\n",
       "      <td>...</td>\n",
       "      <td>...</td>\n",
       "      <td>...</td>\n",
       "      <td>...</td>\n",
       "      <td>...</td>\n",
       "      <td>...</td>\n",
       "      <td>...</td>\n",
       "      <td>...</td>\n",
       "      <td>...</td>\n",
       "      <td>...</td>\n",
       "      <td>...</td>\n",
       "      <td>...</td>\n",
       "      <td>...</td>\n",
       "      <td>...</td>\n",
       "      <td>...</td>\n",
       "      <td>...</td>\n",
       "      <td>...</td>\n",
       "    </tr>\n",
       "    <tr>\n",
       "      <th>50837</th>\n",
       "      <td>52072</td>\n",
       "      <td>3120</td>\n",
       "      <td>house</td>\n",
       "      <td>house</td>\n",
       "      <td>455496.0</td>\n",
       "      <td>for sale</td>\n",
       "      <td>3.0</td>\n",
       "      <td>NaN</td>\n",
       "      <td>0</td>\n",
       "      <td>NaN</td>\n",
       "      <td>...</td>\n",
       "      <td>0</td>\n",
       "      <td>NaN</td>\n",
       "      <td>0</td>\n",
       "      <td>NaN</td>\n",
       "      <td>695.0</td>\n",
       "      <td>NaN</td>\n",
       "      <td>NaN</td>\n",
       "      <td>0</td>\n",
       "      <td>NaN</td>\n",
       "      <td>NaN</td>\n",
       "    </tr>\n",
       "    <tr>\n",
       "      <th>50838</th>\n",
       "      <td>52073</td>\n",
       "      <td>1800</td>\n",
       "      <td>house</td>\n",
       "      <td>house</td>\n",
       "      <td>451650.0</td>\n",
       "      <td>for sale</td>\n",
       "      <td>3.0</td>\n",
       "      <td>NaN</td>\n",
       "      <td>0</td>\n",
       "      <td>NaN</td>\n",
       "      <td>...</td>\n",
       "      <td>0</td>\n",
       "      <td>NaN</td>\n",
       "      <td>0</td>\n",
       "      <td>NaN</td>\n",
       "      <td>550.0</td>\n",
       "      <td>NaN</td>\n",
       "      <td>3.0</td>\n",
       "      <td>0</td>\n",
       "      <td>NaN</td>\n",
       "      <td>NaN</td>\n",
       "    </tr>\n",
       "    <tr>\n",
       "      <th>50839</th>\n",
       "      <td>52074</td>\n",
       "      <td>2018</td>\n",
       "      <td>house</td>\n",
       "      <td>house</td>\n",
       "      <td>488000.0</td>\n",
       "      <td>for sale</td>\n",
       "      <td>3.0</td>\n",
       "      <td>145.0</td>\n",
       "      <td>0</td>\n",
       "      <td>NaN</td>\n",
       "      <td>...</td>\n",
       "      <td>0</td>\n",
       "      <td>NaN</td>\n",
       "      <td>1</td>\n",
       "      <td>48.0</td>\n",
       "      <td>0.0</td>\n",
       "      <td>NaN</td>\n",
       "      <td>3.0</td>\n",
       "      <td>0</td>\n",
       "      <td>NaN</td>\n",
       "      <td>NaN</td>\n",
       "    </tr>\n",
       "    <tr>\n",
       "      <th>50840</th>\n",
       "      <td>52075</td>\n",
       "      <td>9140</td>\n",
       "      <td>house</td>\n",
       "      <td>house</td>\n",
       "      <td>455000.0</td>\n",
       "      <td>for sale</td>\n",
       "      <td>3.0</td>\n",
       "      <td>NaN</td>\n",
       "      <td>0</td>\n",
       "      <td>NaN</td>\n",
       "      <td>...</td>\n",
       "      <td>0</td>\n",
       "      <td>NaN</td>\n",
       "      <td>0</td>\n",
       "      <td>NaN</td>\n",
       "      <td>1202.0</td>\n",
       "      <td>NaN</td>\n",
       "      <td>4.0</td>\n",
       "      <td>0</td>\n",
       "      <td>NaN</td>\n",
       "      <td>NaN</td>\n",
       "    </tr>\n",
       "    <tr>\n",
       "      <th>50841</th>\n",
       "      <td>52076</td>\n",
       "      <td>9620</td>\n",
       "      <td>house</td>\n",
       "      <td>house</td>\n",
       "      <td>469000.0</td>\n",
       "      <td>for sale</td>\n",
       "      <td>3.0</td>\n",
       "      <td>NaN</td>\n",
       "      <td>0</td>\n",
       "      <td>NaN</td>\n",
       "      <td>...</td>\n",
       "      <td>0</td>\n",
       "      <td>NaN</td>\n",
       "      <td>0</td>\n",
       "      <td>NaN</td>\n",
       "      <td>1500.0</td>\n",
       "      <td>NaN</td>\n",
       "      <td>4.0</td>\n",
       "      <td>0</td>\n",
       "      <td>NaN</td>\n",
       "      <td>NaN</td>\n",
       "    </tr>\n",
       "  </tbody>\n",
       "</table>\n",
       "<p>50842 rows × 21 columns</p>\n",
       "</div>"
      ],
      "text/plain": [
       "       Unnamed: 0  locality type_of_property   subtype_of_property     price  \\\n",
       "0               0      1050            house                 house  340000.0   \n",
       "1               1      1880            house                 villa  525000.0   \n",
       "2               2      4900            house  exceptional property  550000.0   \n",
       "3               3      7912            house                 villa  550000.0   \n",
       "4               4      6032            house                 house  550000.0   \n",
       "...           ...       ...              ...                   ...       ...   \n",
       "50837       52072      3120            house                 house  455496.0   \n",
       "50838       52073      1800            house                 house  451650.0   \n",
       "50839       52074      2018            house                 house  488000.0   \n",
       "50840       52075      9140            house                 house  455000.0   \n",
       "50841       52076      9620            house                 house  469000.0   \n",
       "\n",
       "      type_of_sale  number_of_rooms  house_area  fully_equipped_kitchen  \\\n",
       "0         for sale              6.0       203.0                       1   \n",
       "1         for sale              6.0       250.0                       1   \n",
       "2         for sale             11.0       475.0                       1   \n",
       "3         for sale              4.0       325.0                       1   \n",
       "4         for sale              5.0       400.0                       1   \n",
       "...            ...              ...         ...                     ...   \n",
       "50837     for sale              3.0         NaN                       0   \n",
       "50838     for sale              3.0         NaN                       0   \n",
       "50839     for sale              3.0       145.0                       0   \n",
       "50840     for sale              3.0         NaN                       0   \n",
       "50841     for sale              3.0         NaN                       0   \n",
       "\n",
       "       furnished  ...  terrace  terrace_area  garden  garden_area  \\\n",
       "0            NaN  ...        1           NaN       0          NaN   \n",
       "1            NaN  ...        1          40.0       1        430.0   \n",
       "2            NaN  ...        1           NaN       1       1400.0   \n",
       "3            NaN  ...        1         125.0       1       2333.0   \n",
       "4            NaN  ...        1          80.0       1        500.0   \n",
       "...          ...  ...      ...           ...     ...          ...   \n",
       "50837        NaN  ...        0           NaN       0          NaN   \n",
       "50838        NaN  ...        0           NaN       0          NaN   \n",
       "50839        NaN  ...        0           NaN       1         48.0   \n",
       "50840        NaN  ...        0           NaN       0          NaN   \n",
       "50841        NaN  ...        0           NaN       0          NaN   \n",
       "\n",
       "       surface_of_the_land  surface_of_the_plot_of_land  number_of_facades  \\\n",
       "0                     95.0                          NaN                2.0   \n",
       "1                    826.0                          NaN                4.0   \n",
       "2                   1543.0                          NaN                4.0   \n",
       "3                   3570.0                          NaN                4.0   \n",
       "4                    616.0                          NaN                3.0   \n",
       "...                    ...                          ...                ...   \n",
       "50837                695.0                          NaN                NaN   \n",
       "50838                550.0                          NaN                3.0   \n",
       "50839                  0.0                          NaN                3.0   \n",
       "50840               1202.0                          NaN                4.0   \n",
       "50841               1500.0                          NaN                4.0   \n",
       "\n",
       "       swimming_pool  state_of_the_building construction_year  \n",
       "0                  0          to be done up            1901.0  \n",
       "1                  0                 as new            1992.0  \n",
       "2                  0                   good            1853.0  \n",
       "3                  0                   good            1918.0  \n",
       "4                  0                 as new            1977.0  \n",
       "...              ...                    ...               ...  \n",
       "50837              0                    NaN               NaN  \n",
       "50838              0                    NaN               NaN  \n",
       "50839              0                    NaN               NaN  \n",
       "50840              0                    NaN               NaN  \n",
       "50841              0                    NaN               NaN  \n",
       "\n",
       "[50842 rows x 21 columns]"
      ]
     },
     "execution_count": 222,
     "metadata": {},
     "output_type": "execute_result"
    }
   ],
   "source": [
    "immo_data"
   ]
  },
  {
   "cell_type": "code",
   "execution_count": 223,
   "metadata": {},
   "outputs": [
    {
     "name": "stdout",
     "output_type": "stream",
     "text": [
      "<class 'pandas.core.frame.DataFrame'>\n",
      "RangeIndex: 50842 entries, 0 to 50841\n",
      "Data columns (total 21 columns):\n",
      " #   Column                       Non-Null Count  Dtype  \n",
      "---  ------                       --------------  -----  \n",
      " 0   Unnamed: 0                   50842 non-null  int64  \n",
      " 1   locality                     50842 non-null  int64  \n",
      " 2   type_of_property             50842 non-null  object \n",
      " 3   subtype_of_property          50842 non-null  object \n",
      " 4   price                        50772 non-null  float64\n",
      " 5   type_of_sale                 50842 non-null  object \n",
      " 6   number_of_rooms              50842 non-null  float64\n",
      " 7   house_area                   42412 non-null  float64\n",
      " 8   fully_equipped_kitchen       50842 non-null  int64  \n",
      " 9   furnished                    0 non-null      float64\n",
      " 10  open_fire                    50842 non-null  int64  \n",
      " 11  terrace                      50842 non-null  int64  \n",
      " 12  terrace_area                 17096 non-null  float64\n",
      " 13  garden                       50842 non-null  int64  \n",
      " 14  garden_area                  8350 non-null   float64\n",
      " 15  surface_of_the_land          29002 non-null  float64\n",
      " 16  surface_of_the_plot_of_land  0 non-null      float64\n",
      " 17  number_of_facades            37736 non-null  float64\n",
      " 18  swimming_pool                50842 non-null  int64  \n",
      " 19  state_of_the_building        37670 non-null  object \n",
      " 20  construction_year            29883 non-null  float64\n",
      "dtypes: float64(10), int64(7), object(4)\n",
      "memory usage: 8.1+ MB\n"
     ]
    }
   ],
   "source": [
    "immo_data.info()"
   ]
  },
  {
   "cell_type": "code",
   "execution_count": 224,
   "metadata": {},
   "outputs": [
    {
     "data": {
      "text/html": [
       "<div>\n",
       "<style scoped>\n",
       "    .dataframe tbody tr th:only-of-type {\n",
       "        vertical-align: middle;\n",
       "    }\n",
       "\n",
       "    .dataframe tbody tr th {\n",
       "        vertical-align: top;\n",
       "    }\n",
       "\n",
       "    .dataframe thead th {\n",
       "        text-align: right;\n",
       "    }\n",
       "</style>\n",
       "<table border=\"1\" class=\"dataframe\">\n",
       "  <thead>\n",
       "    <tr style=\"text-align: right;\">\n",
       "      <th></th>\n",
       "      <th>Unnamed: 0</th>\n",
       "      <th>locality</th>\n",
       "      <th>type_of_property</th>\n",
       "      <th>subtype_of_property</th>\n",
       "      <th>price</th>\n",
       "      <th>type_of_sale</th>\n",
       "      <th>number_of_rooms</th>\n",
       "      <th>house_area</th>\n",
       "      <th>fully_equipped_kitchen</th>\n",
       "      <th>furnished</th>\n",
       "      <th>...</th>\n",
       "      <th>terrace</th>\n",
       "      <th>terrace_area</th>\n",
       "      <th>garden</th>\n",
       "      <th>garden_area</th>\n",
       "      <th>surface_of_the_land</th>\n",
       "      <th>surface_of_the_plot_of_land</th>\n",
       "      <th>number_of_facades</th>\n",
       "      <th>swimming_pool</th>\n",
       "      <th>state_of_the_building</th>\n",
       "      <th>construction_year</th>\n",
       "    </tr>\n",
       "  </thead>\n",
       "  <tbody>\n",
       "    <tr>\n",
       "      <th>count</th>\n",
       "      <td>50842.000000</td>\n",
       "      <td>50842.000000</td>\n",
       "      <td>50842</td>\n",
       "      <td>50842</td>\n",
       "      <td>50772.000000</td>\n",
       "      <td>50842</td>\n",
       "      <td>50842.000000</td>\n",
       "      <td>42412.000000</td>\n",
       "      <td>50842.000000</td>\n",
       "      <td>0.0</td>\n",
       "      <td>...</td>\n",
       "      <td>50842.000000</td>\n",
       "      <td>17096.000000</td>\n",
       "      <td>50842.000000</td>\n",
       "      <td>8350.000000</td>\n",
       "      <td>29002.00000</td>\n",
       "      <td>0.0</td>\n",
       "      <td>37736.000000</td>\n",
       "      <td>50842.000000</td>\n",
       "      <td>37670</td>\n",
       "      <td>29883.000000</td>\n",
       "    </tr>\n",
       "    <tr>\n",
       "      <th>unique</th>\n",
       "      <td>NaN</td>\n",
       "      <td>NaN</td>\n",
       "      <td>2</td>\n",
       "      <td>24</td>\n",
       "      <td>NaN</td>\n",
       "      <td>1</td>\n",
       "      <td>NaN</td>\n",
       "      <td>NaN</td>\n",
       "      <td>NaN</td>\n",
       "      <td>NaN</td>\n",
       "      <td>...</td>\n",
       "      <td>NaN</td>\n",
       "      <td>NaN</td>\n",
       "      <td>NaN</td>\n",
       "      <td>NaN</td>\n",
       "      <td>NaN</td>\n",
       "      <td>NaN</td>\n",
       "      <td>NaN</td>\n",
       "      <td>NaN</td>\n",
       "      <td>6</td>\n",
       "      <td>NaN</td>\n",
       "    </tr>\n",
       "    <tr>\n",
       "      <th>top</th>\n",
       "      <td>NaN</td>\n",
       "      <td>NaN</td>\n",
       "      <td>house</td>\n",
       "      <td>house</td>\n",
       "      <td>NaN</td>\n",
       "      <td>for sale</td>\n",
       "      <td>NaN</td>\n",
       "      <td>NaN</td>\n",
       "      <td>NaN</td>\n",
       "      <td>NaN</td>\n",
       "      <td>...</td>\n",
       "      <td>NaN</td>\n",
       "      <td>NaN</td>\n",
       "      <td>NaN</td>\n",
       "      <td>NaN</td>\n",
       "      <td>NaN</td>\n",
       "      <td>NaN</td>\n",
       "      <td>NaN</td>\n",
       "      <td>NaN</td>\n",
       "      <td>as new</td>\n",
       "      <td>NaN</td>\n",
       "    </tr>\n",
       "    <tr>\n",
       "      <th>freq</th>\n",
       "      <td>NaN</td>\n",
       "      <td>NaN</td>\n",
       "      <td>29002</td>\n",
       "      <td>21810</td>\n",
       "      <td>NaN</td>\n",
       "      <td>50842</td>\n",
       "      <td>NaN</td>\n",
       "      <td>NaN</td>\n",
       "      <td>NaN</td>\n",
       "      <td>NaN</td>\n",
       "      <td>...</td>\n",
       "      <td>NaN</td>\n",
       "      <td>NaN</td>\n",
       "      <td>NaN</td>\n",
       "      <td>NaN</td>\n",
       "      <td>NaN</td>\n",
       "      <td>NaN</td>\n",
       "      <td>NaN</td>\n",
       "      <td>NaN</td>\n",
       "      <td>14358</td>\n",
       "      <td>NaN</td>\n",
       "    </tr>\n",
       "    <tr>\n",
       "      <th>mean</th>\n",
       "      <td>26154.240903</td>\n",
       "      <td>5388.526081</td>\n",
       "      <td>NaN</td>\n",
       "      <td>NaN</td>\n",
       "      <td>306427.439396</td>\n",
       "      <td>NaN</td>\n",
       "      <td>2.828252</td>\n",
       "      <td>154.724158</td>\n",
       "      <td>0.654518</td>\n",
       "      <td>NaN</td>\n",
       "      <td>...</td>\n",
       "      <td>0.562960</td>\n",
       "      <td>23.827737</td>\n",
       "      <td>0.291609</td>\n",
       "      <td>715.837006</td>\n",
       "      <td>999.31484</td>\n",
       "      <td>NaN</td>\n",
       "      <td>2.768152</td>\n",
       "      <td>0.015676</td>\n",
       "      <td>NaN</td>\n",
       "      <td>1983.587525</td>\n",
       "    </tr>\n",
       "    <tr>\n",
       "      <th>std</th>\n",
       "      <td>15053.319249</td>\n",
       "      <td>2958.804834</td>\n",
       "      <td>NaN</td>\n",
       "      <td>NaN</td>\n",
       "      <td>168387.952272</td>\n",
       "      <td>NaN</td>\n",
       "      <td>2.221211</td>\n",
       "      <td>185.137627</td>\n",
       "      <td>0.475530</td>\n",
       "      <td>NaN</td>\n",
       "      <td>...</td>\n",
       "      <td>0.496025</td>\n",
       "      <td>30.320098</td>\n",
       "      <td>0.454508</td>\n",
       "      <td>4336.640576</td>\n",
       "      <td>5055.03166</td>\n",
       "      <td>NaN</td>\n",
       "      <td>0.860089</td>\n",
       "      <td>0.124220</td>\n",
       "      <td>NaN</td>\n",
       "      <td>37.456650</td>\n",
       "    </tr>\n",
       "    <tr>\n",
       "      <th>min</th>\n",
       "      <td>0.000000</td>\n",
       "      <td>1000.000000</td>\n",
       "      <td>NaN</td>\n",
       "      <td>NaN</td>\n",
       "      <td>1000.000000</td>\n",
       "      <td>NaN</td>\n",
       "      <td>0.000000</td>\n",
       "      <td>1.000000</td>\n",
       "      <td>0.000000</td>\n",
       "      <td>NaN</td>\n",
       "      <td>...</td>\n",
       "      <td>0.000000</td>\n",
       "      <td>1.000000</td>\n",
       "      <td>0.000000</td>\n",
       "      <td>1.000000</td>\n",
       "      <td>0.00000</td>\n",
       "      <td>NaN</td>\n",
       "      <td>1.000000</td>\n",
       "      <td>0.000000</td>\n",
       "      <td>NaN</td>\n",
       "      <td>1755.000000</td>\n",
       "    </tr>\n",
       "    <tr>\n",
       "      <th>25%</th>\n",
       "      <td>13100.250000</td>\n",
       "      <td>2600.000000</td>\n",
       "      <td>NaN</td>\n",
       "      <td>NaN</td>\n",
       "      <td>195000.000000</td>\n",
       "      <td>NaN</td>\n",
       "      <td>2.000000</td>\n",
       "      <td>91.000000</td>\n",
       "      <td>0.000000</td>\n",
       "      <td>NaN</td>\n",
       "      <td>...</td>\n",
       "      <td>0.000000</td>\n",
       "      <td>9.000000</td>\n",
       "      <td>0.000000</td>\n",
       "      <td>70.000000</td>\n",
       "      <td>143.00000</td>\n",
       "      <td>NaN</td>\n",
       "      <td>2.000000</td>\n",
       "      <td>0.000000</td>\n",
       "      <td>NaN</td>\n",
       "      <td>1963.000000</td>\n",
       "    </tr>\n",
       "    <tr>\n",
       "      <th>50%</th>\n",
       "      <td>26332.500000</td>\n",
       "      <td>5030.000000</td>\n",
       "      <td>NaN</td>\n",
       "      <td>NaN</td>\n",
       "      <td>268000.000000</td>\n",
       "      <td>NaN</td>\n",
       "      <td>3.000000</td>\n",
       "      <td>130.000000</td>\n",
       "      <td>1.000000</td>\n",
       "      <td>NaN</td>\n",
       "      <td>...</td>\n",
       "      <td>1.000000</td>\n",
       "      <td>16.000000</td>\n",
       "      <td>0.000000</td>\n",
       "      <td>186.000000</td>\n",
       "      <td>351.00000</td>\n",
       "      <td>NaN</td>\n",
       "      <td>3.000000</td>\n",
       "      <td>0.000000</td>\n",
       "      <td>NaN</td>\n",
       "      <td>1992.000000</td>\n",
       "    </tr>\n",
       "    <tr>\n",
       "      <th>75%</th>\n",
       "      <td>39159.750000</td>\n",
       "      <td>8420.000000</td>\n",
       "      <td>NaN</td>\n",
       "      <td>NaN</td>\n",
       "      <td>373365.500000</td>\n",
       "      <td>NaN</td>\n",
       "      <td>3.000000</td>\n",
       "      <td>186.000000</td>\n",
       "      <td>1.000000</td>\n",
       "      <td>NaN</td>\n",
       "      <td>...</td>\n",
       "      <td>1.000000</td>\n",
       "      <td>30.000000</td>\n",
       "      <td>1.000000</td>\n",
       "      <td>540.000000</td>\n",
       "      <td>814.75000</td>\n",
       "      <td>NaN</td>\n",
       "      <td>4.000000</td>\n",
       "      <td>0.000000</td>\n",
       "      <td>NaN</td>\n",
       "      <td>2018.000000</td>\n",
       "    </tr>\n",
       "    <tr>\n",
       "      <th>max</th>\n",
       "      <td>52076.000000</td>\n",
       "      <td>9992.000000</td>\n",
       "      <td>NaN</td>\n",
       "      <td>NaN</td>\n",
       "      <td>950000.000000</td>\n",
       "      <td>NaN</td>\n",
       "      <td>204.000000</td>\n",
       "      <td>31700.000000</td>\n",
       "      <td>1.000000</td>\n",
       "      <td>NaN</td>\n",
       "      <td>...</td>\n",
       "      <td>1.000000</td>\n",
       "      <td>1150.000000</td>\n",
       "      <td>1.000000</td>\n",
       "      <td>312600.000000</td>\n",
       "      <td>400000.00000</td>\n",
       "      <td>NaN</td>\n",
       "      <td>4.000000</td>\n",
       "      <td>1.000000</td>\n",
       "      <td>NaN</td>\n",
       "      <td>2048.000000</td>\n",
       "    </tr>\n",
       "  </tbody>\n",
       "</table>\n",
       "<p>11 rows × 21 columns</p>\n",
       "</div>"
      ],
      "text/plain": [
       "          Unnamed: 0      locality type_of_property subtype_of_property  \\\n",
       "count   50842.000000  50842.000000            50842               50842   \n",
       "unique           NaN           NaN                2                  24   \n",
       "top              NaN           NaN            house               house   \n",
       "freq             NaN           NaN            29002               21810   \n",
       "mean    26154.240903   5388.526081              NaN                 NaN   \n",
       "std     15053.319249   2958.804834              NaN                 NaN   \n",
       "min         0.000000   1000.000000              NaN                 NaN   \n",
       "25%     13100.250000   2600.000000              NaN                 NaN   \n",
       "50%     26332.500000   5030.000000              NaN                 NaN   \n",
       "75%     39159.750000   8420.000000              NaN                 NaN   \n",
       "max     52076.000000   9992.000000              NaN                 NaN   \n",
       "\n",
       "                price type_of_sale  number_of_rooms    house_area  \\\n",
       "count    50772.000000        50842     50842.000000  42412.000000   \n",
       "unique            NaN            1              NaN           NaN   \n",
       "top               NaN     for sale              NaN           NaN   \n",
       "freq              NaN        50842              NaN           NaN   \n",
       "mean    306427.439396          NaN         2.828252    154.724158   \n",
       "std     168387.952272          NaN         2.221211    185.137627   \n",
       "min       1000.000000          NaN         0.000000      1.000000   \n",
       "25%     195000.000000          NaN         2.000000     91.000000   \n",
       "50%     268000.000000          NaN         3.000000    130.000000   \n",
       "75%     373365.500000          NaN         3.000000    186.000000   \n",
       "max     950000.000000          NaN       204.000000  31700.000000   \n",
       "\n",
       "        fully_equipped_kitchen  furnished  ...       terrace  terrace_area  \\\n",
       "count             50842.000000        0.0  ...  50842.000000  17096.000000   \n",
       "unique                     NaN        NaN  ...           NaN           NaN   \n",
       "top                        NaN        NaN  ...           NaN           NaN   \n",
       "freq                       NaN        NaN  ...           NaN           NaN   \n",
       "mean                  0.654518        NaN  ...      0.562960     23.827737   \n",
       "std                   0.475530        NaN  ...      0.496025     30.320098   \n",
       "min                   0.000000        NaN  ...      0.000000      1.000000   \n",
       "25%                   0.000000        NaN  ...      0.000000      9.000000   \n",
       "50%                   1.000000        NaN  ...      1.000000     16.000000   \n",
       "75%                   1.000000        NaN  ...      1.000000     30.000000   \n",
       "max                   1.000000        NaN  ...      1.000000   1150.000000   \n",
       "\n",
       "              garden    garden_area  surface_of_the_land  \\\n",
       "count   50842.000000    8350.000000          29002.00000   \n",
       "unique           NaN            NaN                  NaN   \n",
       "top              NaN            NaN                  NaN   \n",
       "freq             NaN            NaN                  NaN   \n",
       "mean        0.291609     715.837006            999.31484   \n",
       "std         0.454508    4336.640576           5055.03166   \n",
       "min         0.000000       1.000000              0.00000   \n",
       "25%         0.000000      70.000000            143.00000   \n",
       "50%         0.000000     186.000000            351.00000   \n",
       "75%         1.000000     540.000000            814.75000   \n",
       "max         1.000000  312600.000000         400000.00000   \n",
       "\n",
       "        surface_of_the_plot_of_land  number_of_facades  swimming_pool  \\\n",
       "count                           0.0       37736.000000   50842.000000   \n",
       "unique                          NaN                NaN            NaN   \n",
       "top                             NaN                NaN            NaN   \n",
       "freq                            NaN                NaN            NaN   \n",
       "mean                            NaN           2.768152       0.015676   \n",
       "std                             NaN           0.860089       0.124220   \n",
       "min                             NaN           1.000000       0.000000   \n",
       "25%                             NaN           2.000000       0.000000   \n",
       "50%                             NaN           3.000000       0.000000   \n",
       "75%                             NaN           4.000000       0.000000   \n",
       "max                             NaN           4.000000       1.000000   \n",
       "\n",
       "        state_of_the_building construction_year  \n",
       "count                   37670      29883.000000  \n",
       "unique                      6               NaN  \n",
       "top                    as new               NaN  \n",
       "freq                    14358               NaN  \n",
       "mean                      NaN       1983.587525  \n",
       "std                       NaN         37.456650  \n",
       "min                       NaN       1755.000000  \n",
       "25%                       NaN       1963.000000  \n",
       "50%                       NaN       1992.000000  \n",
       "75%                       NaN       2018.000000  \n",
       "max                       NaN       2048.000000  \n",
       "\n",
       "[11 rows x 21 columns]"
      ]
     },
     "execution_count": 224,
     "metadata": {},
     "output_type": "execute_result"
    }
   ],
   "source": [
    "immo_data.describe(include='all')"
   ]
  },
  {
   "cell_type": "code",
   "execution_count": 225,
   "metadata": {},
   "outputs": [],
   "source": [
    "# only executed once\n",
    "# as the price is our target we remove the houses without a proper price \n",
    "if immo_data['price'].dtypes == 'object':\n",
    "    print(len(immo_data))\n",
    "    immo_data['price'] = immo_data['price'].replace(\"no price\", np.nan)\n",
    "    immo_data.dropna(axis=0, inplace=True, subset=['price'])\n",
    "    print(immo_data[immo_data['price'] == 'no price']['price'])\n",
    "    print(immo_data['price'].isna().sum())\n",
    "    print(len(immo_data))\n",
    "    # change la colonne de str -> int\n",
    "    immo_data['price'] = immo_data['price'].astype('int')\n",
    "    print(immo_data['price'].dtypes)"
   ]
  },
  {
   "cell_type": "markdown",
   "metadata": {},
   "source": [
    "## Exploratory "
   ]
  },
  {
   "cell_type": "markdown",
   "metadata": {},
   "source": [
    "### missing values"
   ]
  },
  {
   "cell_type": "code",
   "execution_count": 226,
   "metadata": {},
   "outputs": [
    {
     "data": {
      "text/plain": [
       "Unnamed: 0                         0\n",
       "locality                           0\n",
       "type_of_property                   0\n",
       "subtype_of_property                0\n",
       "price                             70\n",
       "type_of_sale                       0\n",
       "number_of_rooms                    0\n",
       "house_area                      8430\n",
       "fully_equipped_kitchen             0\n",
       "furnished                      50842\n",
       "open_fire                          0\n",
       "terrace                            0\n",
       "terrace_area                   33746\n",
       "garden                             0\n",
       "garden_area                    42492\n",
       "surface_of_the_land            21840\n",
       "surface_of_the_plot_of_land    50842\n",
       "number_of_facades              13106\n",
       "swimming_pool                      0\n",
       "state_of_the_building          13172\n",
       "construction_year              20959\n",
       "dtype: int64"
      ]
     },
     "execution_count": 226,
     "metadata": {},
     "output_type": "execute_result"
    }
   ],
   "source": [
    "immo_data.isnull().sum()"
   ]
  },
  {
   "cell_type": "code",
   "execution_count": 227,
   "metadata": {},
   "outputs": [
    {
     "data": {
      "text/plain": [
       "Unnamed: 0                         0\n",
       "locality                           0\n",
       "type_of_property                   0\n",
       "subtype_of_property                0\n",
       "price                             44\n",
       "type_of_sale                       0\n",
       "number_of_rooms                    0\n",
       "house_area                         0\n",
       "fully_equipped_kitchen             0\n",
       "furnished                      42412\n",
       "open_fire                          0\n",
       "terrace                            0\n",
       "terrace_area                   25900\n",
       "garden                             0\n",
       "garden_area                    34439\n",
       "surface_of_the_land            19875\n",
       "surface_of_the_plot_of_land    42412\n",
       "number_of_facades              10666\n",
       "swimming_pool                      0\n",
       "state_of_the_building          10269\n",
       "construction_year              16245\n",
       "dtype: int64"
      ]
     },
     "execution_count": 227,
     "metadata": {},
     "output_type": "execute_result"
    }
   ],
   "source": [
    "immo_data.dropna(axis=0, inplace=True, subset=['house_area'])\n",
    "immo_data.isnull().sum()"
   ]
  },
  {
   "cell_type": "markdown",
   "metadata": {},
   "source": [
    "### Surface of the land"
   ]
  },
  {
   "cell_type": "code",
   "execution_count": 228,
   "metadata": {},
   "outputs": [
    {
     "data": {
      "text/plain": [
       "19875"
      ]
     },
     "execution_count": 228,
     "metadata": {},
     "output_type": "execute_result"
    }
   ],
   "source": [
    "immo_data.surface_of_the_land.isnull().sum()"
   ]
  },
  {
   "cell_type": "code",
   "execution_count": 229,
   "metadata": {
    "scrolled": true
   },
   "outputs": [
    {
     "data": {
      "text/plain": [
       "count     22537.000000\n",
       "mean       1002.873497\n",
       "std        4836.548120\n",
       "min           0.000000\n",
       "25%         155.000000\n",
       "50%         365.000000\n",
       "75%         848.000000\n",
       "max      400000.000000\n",
       "Name: surface_of_the_land, dtype: float64"
      ]
     },
     "execution_count": 229,
     "metadata": {},
     "output_type": "execute_result"
    }
   ],
   "source": [
    "immo_data.surface_of_the_land.describe()"
   ]
  },
  {
   "cell_type": "code",
   "execution_count": 230,
   "metadata": {},
   "outputs": [],
   "source": [
    "mask_expl_min_surface = immo_data['surface_of_the_land']<10"
   ]
  },
  {
   "cell_type": "code",
   "execution_count": 231,
   "metadata": {},
   "outputs": [
    {
     "data": {
      "text/plain": [
       "0.0    2032\n",
       "1.0      23\n",
       "5.0       3\n",
       "2.0       2\n",
       "8.0       2\n",
       "7.0       2\n",
       "6.0       1\n",
       "4.0       1\n",
       "Name: surface_of_the_land, dtype: int64"
      ]
     },
     "execution_count": 231,
     "metadata": {},
     "output_type": "execute_result"
    }
   ],
   "source": [
    "immo_data['surface_of_the_land'].loc[mask_expl_min_surface].value_counts()"
   ]
  },
  {
   "cell_type": "code",
   "execution_count": 232,
   "metadata": {
    "scrolled": true
   },
   "outputs": [
    {
     "data": {
      "text/plain": [
       "4718     400000.0\n",
       "3116     264781.0\n",
       "50208    120300.0\n",
       "3898     120000.0\n",
       "3092     120000.0\n",
       "77       117800.0\n",
       "46074    100144.0\n",
       "49077     99148.0\n",
       "49932     98822.0\n",
       "40835     88800.0\n",
       "Name: surface_of_the_land, dtype: float64"
      ]
     },
     "execution_count": 232,
     "metadata": {},
     "output_type": "execute_result"
    }
   ],
   "source": [
    "immo_data.surface_of_the_land.sort_values(ascending=False)[0:10]"
   ]
  },
  {
   "cell_type": "code",
   "execution_count": 233,
   "metadata": {},
   "outputs": [],
   "source": [
    "mask_limit_max_surface = immo_data['surface_of_the_land']<6000"
   ]
  },
  {
   "cell_type": "code",
   "execution_count": 234,
   "metadata": {
    "scrolled": true
   },
   "outputs": [
    {
     "data": {
      "text/plain": [
       "(array([7036., 4825., 2822., 1805., 1361.,  988.,  678.,  469.,  403.,\n",
       "         271.,  234.,  193.,  158.,  134.,  106.,   91.,   73.,   67.,\n",
       "          38.,   42.,   58.,   32.,   30.,   34.,   18.,   30.,   29.,\n",
       "          16.,   22.,   19.]),\n",
       " array([   0.        ,  199.86666667,  399.73333333,  599.6       ,\n",
       "         799.46666667,  999.33333333, 1199.2       , 1399.06666667,\n",
       "        1598.93333333, 1798.8       , 1998.66666667, 2198.53333333,\n",
       "        2398.4       , 2598.26666667, 2798.13333333, 2998.        ,\n",
       "        3197.86666667, 3397.73333333, 3597.6       , 3797.46666667,\n",
       "        3997.33333333, 4197.2       , 4397.06666667, 4596.93333333,\n",
       "        4796.8       , 4996.66666667, 5196.53333333, 5396.4       ,\n",
       "        5596.26666667, 5796.13333333, 5996.        ]),\n",
       " <a list of 30 Patch objects>)"
      ]
     },
     "execution_count": 234,
     "metadata": {},
     "output_type": "execute_result"
    },
    {
     "data": {
      "image/png": "[encoded data removed]",
      "text/plain": [
       "<Figure size 432x288 with 1 Axes>"
      ]
     },
     "metadata": {},
     "output_type": "display_data"
    }
   ],
   "source": [
    "plt.hist(immo_data['surface_of_the_land'].loc[mask_limit_max_surface], bins=30)"
   ]
  },
  {
   "cell_type": "markdown",
   "metadata": {},
   "source": [
    "suggestion cleaning :  \n",
    "- max : ok, pas anormal d'avoir terrain de plusieurs hectares\n",
    "- min : 3332 valeurs < 5 m² --> as Nan ? "
   ]
  },
  {
   "cell_type": "markdown",
   "metadata": {},
   "source": [
    "Commande cleaning : "
   ]
  },
  {
   "cell_type": "code",
   "execution_count": 235,
   "metadata": {},
   "outputs": [
    {
     "data": {
      "text/plain": [
       "44053        6.0\n",
       "26696        7.0\n",
       "42041        7.0\n",
       "28086        8.0\n",
       "32381        8.0\n",
       "          ...   \n",
       "370      15125.0\n",
       "3619     15131.0\n",
       "48499    15222.0\n",
       "48554    15345.0\n",
       "1161     15444.0\n",
       "Name: surface_of_the_land, Length: 20334, dtype: float64"
      ]
     },
     "execution_count": 235,
     "metadata": {},
     "output_type": "execute_result"
    }
   ],
   "source": [
    "Mean_S_o_L = immo_data.surface_of_the_land.mean()\n",
    "Std_S_o_L = immo_data.surface_of_the_land.std()\n",
    "Drop_out_S_o_L = (immo_data['surface_of_the_land']>5) & (immo_data['surface_of_the_land']<(Mean_S_o_L + 3 * Std_S_o_L))\n",
    "immo_data['surface_of_the_land'].loc[Drop_out_S_o_L].sort_values(ascending=True)"
   ]
  },
  {
   "cell_type": "code",
   "execution_count": 236,
   "metadata": {},
   "outputs": [],
   "source": [
    "immo_data['surface_of_the_land']=immo_data['surface_of_the_land'].loc[Drop_out_S_o_L].sort_values(ascending=True)"
   ]
  },
  {
   "cell_type": "code",
   "execution_count": 237,
   "metadata": {},
   "outputs": [
    {
     "data": {
      "text/plain": [
       "22078"
      ]
     },
     "execution_count": 237,
     "metadata": {},
     "output_type": "execute_result"
    }
   ],
   "source": [
    "immo_data.surface_of_the_land.isnull().sum()"
   ]
  },
  {
   "cell_type": "markdown",
   "metadata": {},
   "source": [
    "### number of façades"
   ]
  },
  {
   "cell_type": "code",
   "execution_count": 238,
   "metadata": {},
   "outputs": [
    {
     "data": {
      "text/plain": [
       "2.0    15384\n",
       "4.0     8276\n",
       "3.0     7626\n",
       "1.0      460\n",
       "Name: number_of_facades, dtype: int64"
      ]
     },
     "execution_count": 238,
     "metadata": {},
     "output_type": "execute_result"
    }
   ],
   "source": [
    "immo_data.number_of_facades.value_counts()"
   ]
  },
  {
   "cell_type": "code",
   "execution_count": 239,
   "metadata": {},
   "outputs": [
    {
     "data": {
      "text/plain": [
       "10666"
      ]
     },
     "execution_count": 239,
     "metadata": {},
     "output_type": "execute_result"
    }
   ],
   "source": [
    "immo_data.number_of_facades.isnull().sum()"
   ]
  },
  {
   "cell_type": "code",
   "execution_count": 240,
   "metadata": {},
   "outputs": [],
   "source": [
    "immo_data['number_of_rooms'] = immo_data['number_of_rooms'].astype('int')"
   ]
  },
  {
   "cell_type": "code",
   "execution_count": 241,
   "metadata": {
    "scrolled": true
   },
   "outputs": [
    {
     "data": {
      "text/plain": [
       "(array([  460.,     0.,     0., 15384.,     0.,     0.,  7626.,     0.,\n",
       "            0.,  8276.]),\n",
       " array([1. , 1.3, 1.6, 1.9, 2.2, 2.5, 2.8, 3.1, 3.4, 3.7, 4. ]),\n",
       " <a list of 10 Patch objects>)"
      ]
     },
     "execution_count": 241,
     "metadata": {},
     "output_type": "execute_result"
    },
    {
     "data": {
      "image/png": "[encoded data removed]",
      "text/plain": [
       "<Figure size 432x288 with 1 Axes>"
      ]
     },
     "metadata": {},
     "output_type": "display_data"
    }
   ],
   "source": [
    "plt.hist(immo_data.number_of_facades[~immo_data.number_of_facades.isna()])"
   ]
  },
  {
   "cell_type": "markdown",
   "metadata": {},
   "source": [
    "suggestion cleaning :  \n",
    "- ok"
   ]
  },
  {
   "cell_type": "markdown",
   "metadata": {},
   "source": [
    "### swimming pool"
   ]
  },
  {
   "cell_type": "code",
   "execution_count": 242,
   "metadata": {},
   "outputs": [
    {
     "data": {
      "text/plain": [
       "0    41698\n",
       "1      714\n",
       "Name: swimming_pool, dtype: int64"
      ]
     },
     "execution_count": 242,
     "metadata": {},
     "output_type": "execute_result"
    }
   ],
   "source": [
    "immo_data.swimming_pool.value_counts()"
   ]
  },
  {
   "cell_type": "markdown",
   "metadata": {},
   "source": [
    "suggestion cleaning :  \n",
    "- ok"
   ]
  },
  {
   "cell_type": "markdown",
   "metadata": {},
   "source": [
    "### Etat du building"
   ]
  },
  {
   "cell_type": "code",
   "execution_count": 243,
   "metadata": {},
   "outputs": [
    {
     "data": {
      "text/plain": [
       "as new            12500\n",
       "good              11622\n",
       "to be done up      2998\n",
       "to renovate        2592\n",
       "just renovated     2273\n",
       "to restore          158\n",
       "Name: state_of_the_building, dtype: int64"
      ]
     },
     "execution_count": 243,
     "metadata": {},
     "output_type": "execute_result"
    }
   ],
   "source": [
    "immo_data.state_of_the_building.value_counts()"
   ]
  },
  {
   "cell_type": "code",
   "execution_count": 244,
   "metadata": {},
   "outputs": [
    {
     "data": {
      "text/plain": [
       "10269"
      ]
     },
     "execution_count": 244,
     "metadata": {},
     "output_type": "execute_result"
    }
   ],
   "source": [
    "immo_data.state_of_the_building.isnull().sum()"
   ]
  },
  {
   "cell_type": "markdown",
   "metadata": {},
   "source": [
    "suggestion cleaning :  \n",
    "- ok"
   ]
  },
  {
   "cell_type": "markdown",
   "metadata": {},
   "source": [
    "### Année de construction"
   ]
  },
  {
   "cell_type": "code",
   "execution_count": 245,
   "metadata": {},
   "outputs": [
    {
     "data": {
      "text/plain": [
       "2020.0    3296\n",
       "2019.0    1958\n",
       "2018.0     912\n",
       "1930.0     566\n",
       "1970.0     526\n",
       "          ... \n",
       "1887.0       1\n",
       "1862.0       1\n",
       "1876.0       1\n",
       "1781.0       1\n",
       "1854.0       1\n",
       "Name: construction_year, Length: 216, dtype: int64"
      ]
     },
     "execution_count": 245,
     "metadata": {},
     "output_type": "execute_result"
    }
   ],
   "source": [
    "immo_data.construction_year.value_counts()"
   ]
  },
  {
   "cell_type": "code",
   "execution_count": 246,
   "metadata": {},
   "outputs": [
    {
     "data": {
      "text/plain": [
       "16245"
      ]
     },
     "execution_count": 246,
     "metadata": {},
     "output_type": "execute_result"
    }
   ],
   "source": [
    "immo_data.construction_year.isnull().sum()"
   ]
  },
  {
   "cell_type": "markdown",
   "metadata": {},
   "source": [
    "suggestion cleaning :  \n",
    "- ok"
   ]
  },
  {
   "cell_type": "markdown",
   "metadata": {},
   "source": [
    "### House area"
   ]
  },
  {
   "cell_type": "code",
   "execution_count": 247,
   "metadata": {},
   "outputs": [
    {
     "data": {
      "text/plain": [
       "0"
      ]
     },
     "execution_count": 247,
     "metadata": {},
     "output_type": "execute_result"
    }
   ],
   "source": [
    "immo_data['house_area'].isnull().sum()"
   ]
  },
  {
   "cell_type": "code",
   "execution_count": 248,
   "metadata": {},
   "outputs": [
    {
     "data": {
      "text/html": [
       "<div>\n",
       "<style scoped>\n",
       "    .dataframe tbody tr th:only-of-type {\n",
       "        vertical-align: middle;\n",
       "    }\n",
       "\n",
       "    .dataframe tbody tr th {\n",
       "        vertical-align: top;\n",
       "    }\n",
       "\n",
       "    .dataframe thead th {\n",
       "        text-align: right;\n",
       "    }\n",
       "</style>\n",
       "<table border=\"1\" class=\"dataframe\">\n",
       "  <thead>\n",
       "    <tr style=\"text-align: right;\">\n",
       "      <th></th>\n",
       "      <th>Unnamed: 0</th>\n",
       "      <th>locality</th>\n",
       "      <th>type_of_property</th>\n",
       "      <th>subtype_of_property</th>\n",
       "      <th>price</th>\n",
       "      <th>type_of_sale</th>\n",
       "      <th>number_of_rooms</th>\n",
       "      <th>house_area</th>\n",
       "      <th>fully_equipped_kitchen</th>\n",
       "      <th>furnished</th>\n",
       "      <th>...</th>\n",
       "      <th>terrace</th>\n",
       "      <th>terrace_area</th>\n",
       "      <th>garden</th>\n",
       "      <th>garden_area</th>\n",
       "      <th>surface_of_the_land</th>\n",
       "      <th>surface_of_the_plot_of_land</th>\n",
       "      <th>number_of_facades</th>\n",
       "      <th>swimming_pool</th>\n",
       "      <th>state_of_the_building</th>\n",
       "      <th>construction_year</th>\n",
       "    </tr>\n",
       "  </thead>\n",
       "  <tbody>\n",
       "    <tr>\n",
       "      <th>5807</th>\n",
       "      <td>5920</td>\n",
       "      <td>8840</td>\n",
       "      <td>apartment</td>\n",
       "      <td>apartment</td>\n",
       "      <td>135000.0</td>\n",
       "      <td>for sale</td>\n",
       "      <td>0</td>\n",
       "      <td>5.0</td>\n",
       "      <td>0</td>\n",
       "      <td>NaN</td>\n",
       "      <td>...</td>\n",
       "      <td>0</td>\n",
       "      <td>NaN</td>\n",
       "      <td>0</td>\n",
       "      <td>NaN</td>\n",
       "      <td>NaN</td>\n",
       "      <td>NaN</td>\n",
       "      <td>NaN</td>\n",
       "      <td>0</td>\n",
       "      <td>good</td>\n",
       "      <td>NaN</td>\n",
       "    </tr>\n",
       "    <tr>\n",
       "      <th>7283</th>\n",
       "      <td>7457</td>\n",
       "      <td>8870</td>\n",
       "      <td>apartment</td>\n",
       "      <td>apartment</td>\n",
       "      <td>125000.0</td>\n",
       "      <td>for sale</td>\n",
       "      <td>4</td>\n",
       "      <td>5.0</td>\n",
       "      <td>0</td>\n",
       "      <td>NaN</td>\n",
       "      <td>...</td>\n",
       "      <td>0</td>\n",
       "      <td>NaN</td>\n",
       "      <td>0</td>\n",
       "      <td>NaN</td>\n",
       "      <td>NaN</td>\n",
       "      <td>NaN</td>\n",
       "      <td>NaN</td>\n",
       "      <td>0</td>\n",
       "      <td>as new</td>\n",
       "      <td>NaN</td>\n",
       "    </tr>\n",
       "    <tr>\n",
       "      <th>19968</th>\n",
       "      <td>20734</td>\n",
       "      <td>3290</td>\n",
       "      <td>apartment</td>\n",
       "      <td>apartment</td>\n",
       "      <td>265000.0</td>\n",
       "      <td>for sale</td>\n",
       "      <td>2</td>\n",
       "      <td>1.0</td>\n",
       "      <td>0</td>\n",
       "      <td>NaN</td>\n",
       "      <td>...</td>\n",
       "      <td>0</td>\n",
       "      <td>NaN</td>\n",
       "      <td>1</td>\n",
       "      <td>NaN</td>\n",
       "      <td>NaN</td>\n",
       "      <td>NaN</td>\n",
       "      <td>NaN</td>\n",
       "      <td>0</td>\n",
       "      <td>NaN</td>\n",
       "      <td>NaN</td>\n",
       "    </tr>\n",
       "    <tr>\n",
       "      <th>24040</th>\n",
       "      <td>24912</td>\n",
       "      <td>8400</td>\n",
       "      <td>apartment</td>\n",
       "      <td>apartment</td>\n",
       "      <td>425000.0</td>\n",
       "      <td>for sale</td>\n",
       "      <td>2</td>\n",
       "      <td>1.0</td>\n",
       "      <td>0</td>\n",
       "      <td>NaN</td>\n",
       "      <td>...</td>\n",
       "      <td>1</td>\n",
       "      <td>NaN</td>\n",
       "      <td>0</td>\n",
       "      <td>NaN</td>\n",
       "      <td>NaN</td>\n",
       "      <td>NaN</td>\n",
       "      <td>2.0</td>\n",
       "      <td>0</td>\n",
       "      <td>good</td>\n",
       "      <td>1961.0</td>\n",
       "    </tr>\n",
       "    <tr>\n",
       "      <th>38260</th>\n",
       "      <td>39290</td>\n",
       "      <td>8954</td>\n",
       "      <td>house</td>\n",
       "      <td>house</td>\n",
       "      <td>265500.0</td>\n",
       "      <td>for sale</td>\n",
       "      <td>3</td>\n",
       "      <td>5.0</td>\n",
       "      <td>1</td>\n",
       "      <td>NaN</td>\n",
       "      <td>...</td>\n",
       "      <td>0</td>\n",
       "      <td>NaN</td>\n",
       "      <td>0</td>\n",
       "      <td>NaN</td>\n",
       "      <td>373.0</td>\n",
       "      <td>NaN</td>\n",
       "      <td>NaN</td>\n",
       "      <td>0</td>\n",
       "      <td>as new</td>\n",
       "      <td>2019.0</td>\n",
       "    </tr>\n",
       "    <tr>\n",
       "      <th>43951</th>\n",
       "      <td>45094</td>\n",
       "      <td>4845</td>\n",
       "      <td>house</td>\n",
       "      <td>villa</td>\n",
       "      <td>323000.0</td>\n",
       "      <td>for sale</td>\n",
       "      <td>4</td>\n",
       "      <td>1.0</td>\n",
       "      <td>0</td>\n",
       "      <td>NaN</td>\n",
       "      <td>...</td>\n",
       "      <td>1</td>\n",
       "      <td>NaN</td>\n",
       "      <td>0</td>\n",
       "      <td>NaN</td>\n",
       "      <td>913.0</td>\n",
       "      <td>NaN</td>\n",
       "      <td>NaN</td>\n",
       "      <td>0</td>\n",
       "      <td>as new</td>\n",
       "      <td>2013.0</td>\n",
       "    </tr>\n",
       "    <tr>\n",
       "      <th>44188</th>\n",
       "      <td>45335</td>\n",
       "      <td>4845</td>\n",
       "      <td>house</td>\n",
       "      <td>villa</td>\n",
       "      <td>307000.0</td>\n",
       "      <td>for sale</td>\n",
       "      <td>3</td>\n",
       "      <td>1.0</td>\n",
       "      <td>0</td>\n",
       "      <td>NaN</td>\n",
       "      <td>...</td>\n",
       "      <td>0</td>\n",
       "      <td>NaN</td>\n",
       "      <td>1</td>\n",
       "      <td>500.0</td>\n",
       "      <td>NaN</td>\n",
       "      <td>NaN</td>\n",
       "      <td>4.0</td>\n",
       "      <td>0</td>\n",
       "      <td>as new</td>\n",
       "      <td>2019.0</td>\n",
       "    </tr>\n",
       "    <tr>\n",
       "      <th>44576</th>\n",
       "      <td>45726</td>\n",
       "      <td>8791</td>\n",
       "      <td>house</td>\n",
       "      <td>house</td>\n",
       "      <td>335000.0</td>\n",
       "      <td>for sale</td>\n",
       "      <td>4</td>\n",
       "      <td>5.0</td>\n",
       "      <td>1</td>\n",
       "      <td>NaN</td>\n",
       "      <td>...</td>\n",
       "      <td>0</td>\n",
       "      <td>NaN</td>\n",
       "      <td>0</td>\n",
       "      <td>NaN</td>\n",
       "      <td>484.0</td>\n",
       "      <td>NaN</td>\n",
       "      <td>NaN</td>\n",
       "      <td>0</td>\n",
       "      <td>good</td>\n",
       "      <td>1956.0</td>\n",
       "    </tr>\n",
       "  </tbody>\n",
       "</table>\n",
       "<p>8 rows × 21 columns</p>\n",
       "</div>"
      ],
      "text/plain": [
       "       Unnamed: 0  locality type_of_property subtype_of_property     price  \\\n",
       "5807         5920      8840        apartment           apartment  135000.0   \n",
       "7283         7457      8870        apartment           apartment  125000.0   \n",
       "19968       20734      3290        apartment           apartment  265000.0   \n",
       "24040       24912      8400        apartment           apartment  425000.0   \n",
       "38260       39290      8954            house               house  265500.0   \n",
       "43951       45094      4845            house               villa  323000.0   \n",
       "44188       45335      4845            house               villa  307000.0   \n",
       "44576       45726      8791            house               house  335000.0   \n",
       "\n",
       "      type_of_sale  number_of_rooms  house_area  fully_equipped_kitchen  \\\n",
       "5807      for sale                0         5.0                       0   \n",
       "7283      for sale                4         5.0                       0   \n",
       "19968     for sale                2         1.0                       0   \n",
       "24040     for sale                2         1.0                       0   \n",
       "38260     for sale                3         5.0                       1   \n",
       "43951     for sale                4         1.0                       0   \n",
       "44188     for sale                3         1.0                       0   \n",
       "44576     for sale                4         5.0                       1   \n",
       "\n",
       "       furnished  ...  terrace  terrace_area  garden  garden_area  \\\n",
       "5807         NaN  ...        0           NaN       0          NaN   \n",
       "7283         NaN  ...        0           NaN       0          NaN   \n",
       "19968        NaN  ...        0           NaN       1          NaN   \n",
       "24040        NaN  ...        1           NaN       0          NaN   \n",
       "38260        NaN  ...        0           NaN       0          NaN   \n",
       "43951        NaN  ...        1           NaN       0          NaN   \n",
       "44188        NaN  ...        0           NaN       1        500.0   \n",
       "44576        NaN  ...        0           NaN       0          NaN   \n",
       "\n",
       "       surface_of_the_land  surface_of_the_plot_of_land  number_of_facades  \\\n",
       "5807                   NaN                          NaN                NaN   \n",
       "7283                   NaN                          NaN                NaN   \n",
       "19968                  NaN                          NaN                NaN   \n",
       "24040                  NaN                          NaN                2.0   \n",
       "38260                373.0                          NaN                NaN   \n",
       "43951                913.0                          NaN                NaN   \n",
       "44188                  NaN                          NaN                4.0   \n",
       "44576                484.0                          NaN                NaN   \n",
       "\n",
       "       swimming_pool  state_of_the_building construction_year  \n",
       "5807               0                   good               NaN  \n",
       "7283               0                 as new               NaN  \n",
       "19968              0                    NaN               NaN  \n",
       "24040              0                   good            1961.0  \n",
       "38260              0                 as new            2019.0  \n",
       "43951              0                 as new            2013.0  \n",
       "44188              0                 as new            2019.0  \n",
       "44576              0                   good            1956.0  \n",
       "\n",
       "[8 rows x 21 columns]"
      ]
     },
     "execution_count": 248,
     "metadata": {},
     "output_type": "execute_result"
    }
   ],
   "source": [
    "immo_data[immo_data['house_area']<=5]"
   ]
  },
  {
   "cell_type": "code",
   "execution_count": 249,
   "metadata": {},
   "outputs": [
    {
     "data": {
      "text/html": [
       "<div>\n",
       "<style scoped>\n",
       "    .dataframe tbody tr th:only-of-type {\n",
       "        vertical-align: middle;\n",
       "    }\n",
       "\n",
       "    .dataframe tbody tr th {\n",
       "        vertical-align: top;\n",
       "    }\n",
       "\n",
       "    .dataframe thead th {\n",
       "        text-align: right;\n",
       "    }\n",
       "</style>\n",
       "<table border=\"1\" class=\"dataframe\">\n",
       "  <thead>\n",
       "    <tr style=\"text-align: right;\">\n",
       "      <th></th>\n",
       "      <th>Unnamed: 0</th>\n",
       "      <th>locality</th>\n",
       "      <th>type_of_property</th>\n",
       "      <th>subtype_of_property</th>\n",
       "      <th>price</th>\n",
       "      <th>type_of_sale</th>\n",
       "      <th>number_of_rooms</th>\n",
       "      <th>house_area</th>\n",
       "      <th>fully_equipped_kitchen</th>\n",
       "      <th>furnished</th>\n",
       "      <th>...</th>\n",
       "      <th>terrace</th>\n",
       "      <th>terrace_area</th>\n",
       "      <th>garden</th>\n",
       "      <th>garden_area</th>\n",
       "      <th>surface_of_the_land</th>\n",
       "      <th>surface_of_the_plot_of_land</th>\n",
       "      <th>number_of_facades</th>\n",
       "      <th>swimming_pool</th>\n",
       "      <th>state_of_the_building</th>\n",
       "      <th>construction_year</th>\n",
       "    </tr>\n",
       "  </thead>\n",
       "  <tbody>\n",
       "    <tr>\n",
       "      <th>1793</th>\n",
       "      <td>1801</td>\n",
       "      <td>4470</td>\n",
       "      <td>house</td>\n",
       "      <td>house</td>\n",
       "      <td>585000.0</td>\n",
       "      <td>for sale</td>\n",
       "      <td>18</td>\n",
       "      <td>1500.0</td>\n",
       "      <td>1</td>\n",
       "      <td>NaN</td>\n",
       "      <td>...</td>\n",
       "      <td>1</td>\n",
       "      <td>NaN</td>\n",
       "      <td>0</td>\n",
       "      <td>NaN</td>\n",
       "      <td>2500.0</td>\n",
       "      <td>NaN</td>\n",
       "      <td>NaN</td>\n",
       "      <td>0</td>\n",
       "      <td>to restore</td>\n",
       "      <td>NaN</td>\n",
       "    </tr>\n",
       "    <tr>\n",
       "      <th>1795</th>\n",
       "      <td>1803</td>\n",
       "      <td>4470</td>\n",
       "      <td>house</td>\n",
       "      <td>apartment block</td>\n",
       "      <td>585000.0</td>\n",
       "      <td>for sale</td>\n",
       "      <td>18</td>\n",
       "      <td>1500.0</td>\n",
       "      <td>1</td>\n",
       "      <td>NaN</td>\n",
       "      <td>...</td>\n",
       "      <td>1</td>\n",
       "      <td>NaN</td>\n",
       "      <td>0</td>\n",
       "      <td>NaN</td>\n",
       "      <td>2500.0</td>\n",
       "      <td>NaN</td>\n",
       "      <td>NaN</td>\n",
       "      <td>0</td>\n",
       "      <td>to restore</td>\n",
       "      <td>NaN</td>\n",
       "    </tr>\n",
       "    <tr>\n",
       "      <th>2481</th>\n",
       "      <td>2497</td>\n",
       "      <td>9600</td>\n",
       "      <td>house</td>\n",
       "      <td>house</td>\n",
       "      <td>650000.0</td>\n",
       "      <td>for sale</td>\n",
       "      <td>1</td>\n",
       "      <td>1640.0</td>\n",
       "      <td>0</td>\n",
       "      <td>NaN</td>\n",
       "      <td>...</td>\n",
       "      <td>0</td>\n",
       "      <td>NaN</td>\n",
       "      <td>0</td>\n",
       "      <td>NaN</td>\n",
       "      <td>1640.0</td>\n",
       "      <td>NaN</td>\n",
       "      <td>3.0</td>\n",
       "      <td>0</td>\n",
       "      <td>good</td>\n",
       "      <td>1991.0</td>\n",
       "    </tr>\n",
       "    <tr>\n",
       "      <th>3536</th>\n",
       "      <td>3563</td>\n",
       "      <td>2880</td>\n",
       "      <td>house</td>\n",
       "      <td>manor house</td>\n",
       "      <td>750000.0</td>\n",
       "      <td>for sale</td>\n",
       "      <td>3</td>\n",
       "      <td>3560.0</td>\n",
       "      <td>1</td>\n",
       "      <td>NaN</td>\n",
       "      <td>...</td>\n",
       "      <td>1</td>\n",
       "      <td>24.0</td>\n",
       "      <td>1</td>\n",
       "      <td>3560.0</td>\n",
       "      <td>3560.0</td>\n",
       "      <td>NaN</td>\n",
       "      <td>4.0</td>\n",
       "      <td>0</td>\n",
       "      <td>good</td>\n",
       "      <td>1979.0</td>\n",
       "    </tr>\n",
       "    <tr>\n",
       "      <th>15435</th>\n",
       "      <td>15938</td>\n",
       "      <td>3000</td>\n",
       "      <td>apartment</td>\n",
       "      <td>kot</td>\n",
       "      <td>250000.0</td>\n",
       "      <td>for sale</td>\n",
       "      <td>1</td>\n",
       "      <td>31700.0</td>\n",
       "      <td>1</td>\n",
       "      <td>NaN</td>\n",
       "      <td>...</td>\n",
       "      <td>1</td>\n",
       "      <td>NaN</td>\n",
       "      <td>0</td>\n",
       "      <td>NaN</td>\n",
       "      <td>NaN</td>\n",
       "      <td>NaN</td>\n",
       "      <td>NaN</td>\n",
       "      <td>0</td>\n",
       "      <td>as new</td>\n",
       "      <td>NaN</td>\n",
       "    </tr>\n",
       "    <tr>\n",
       "      <th>33122</th>\n",
       "      <td>34082</td>\n",
       "      <td>7050</td>\n",
       "      <td>house</td>\n",
       "      <td>mixed use building</td>\n",
       "      <td>175000.0</td>\n",
       "      <td>for sale</td>\n",
       "      <td>2</td>\n",
       "      <td>1700.0</td>\n",
       "      <td>0</td>\n",
       "      <td>NaN</td>\n",
       "      <td>...</td>\n",
       "      <td>0</td>\n",
       "      <td>NaN</td>\n",
       "      <td>0</td>\n",
       "      <td>NaN</td>\n",
       "      <td>1700.0</td>\n",
       "      <td>NaN</td>\n",
       "      <td>4.0</td>\n",
       "      <td>0</td>\n",
       "      <td>to renovate</td>\n",
       "      <td>NaN</td>\n",
       "    </tr>\n",
       "    <tr>\n",
       "      <th>34666</th>\n",
       "      <td>35652</td>\n",
       "      <td>8400</td>\n",
       "      <td>house</td>\n",
       "      <td>house</td>\n",
       "      <td>219000.0</td>\n",
       "      <td>for sale</td>\n",
       "      <td>4</td>\n",
       "      <td>2019.0</td>\n",
       "      <td>0</td>\n",
       "      <td>NaN</td>\n",
       "      <td>...</td>\n",
       "      <td>0</td>\n",
       "      <td>NaN</td>\n",
       "      <td>0</td>\n",
       "      <td>NaN</td>\n",
       "      <td>165.0</td>\n",
       "      <td>NaN</td>\n",
       "      <td>2.0</td>\n",
       "      <td>0</td>\n",
       "      <td>NaN</td>\n",
       "      <td>NaN</td>\n",
       "    </tr>\n",
       "    <tr>\n",
       "      <th>35298</th>\n",
       "      <td>36287</td>\n",
       "      <td>4800</td>\n",
       "      <td>house</td>\n",
       "      <td>apartment block</td>\n",
       "      <td>250000.0</td>\n",
       "      <td>for sale</td>\n",
       "      <td>20</td>\n",
       "      <td>2400.0</td>\n",
       "      <td>0</td>\n",
       "      <td>NaN</td>\n",
       "      <td>...</td>\n",
       "      <td>1</td>\n",
       "      <td>NaN</td>\n",
       "      <td>0</td>\n",
       "      <td>NaN</td>\n",
       "      <td>1667.0</td>\n",
       "      <td>NaN</td>\n",
       "      <td>2.0</td>\n",
       "      <td>0</td>\n",
       "      <td>good</td>\n",
       "      <td>NaN</td>\n",
       "    </tr>\n",
       "    <tr>\n",
       "      <th>38503</th>\n",
       "      <td>39538</td>\n",
       "      <td>5670</td>\n",
       "      <td>house</td>\n",
       "      <td>apartment block</td>\n",
       "      <td>300000.0</td>\n",
       "      <td>for sale</td>\n",
       "      <td>0</td>\n",
       "      <td>2500.0</td>\n",
       "      <td>0</td>\n",
       "      <td>NaN</td>\n",
       "      <td>...</td>\n",
       "      <td>0</td>\n",
       "      <td>NaN</td>\n",
       "      <td>1</td>\n",
       "      <td>20000.0</td>\n",
       "      <td>NaN</td>\n",
       "      <td>NaN</td>\n",
       "      <td>4.0</td>\n",
       "      <td>0</td>\n",
       "      <td>NaN</td>\n",
       "      <td>NaN</td>\n",
       "    </tr>\n",
       "    <tr>\n",
       "      <th>45853</th>\n",
       "      <td>47024</td>\n",
       "      <td>6560</td>\n",
       "      <td>house</td>\n",
       "      <td>mixed use building</td>\n",
       "      <td>395000.0</td>\n",
       "      <td>for sale</td>\n",
       "      <td>6</td>\n",
       "      <td>1500.0</td>\n",
       "      <td>0</td>\n",
       "      <td>NaN</td>\n",
       "      <td>...</td>\n",
       "      <td>0</td>\n",
       "      <td>NaN</td>\n",
       "      <td>0</td>\n",
       "      <td>NaN</td>\n",
       "      <td>NaN</td>\n",
       "      <td>NaN</td>\n",
       "      <td>3.0</td>\n",
       "      <td>0</td>\n",
       "      <td>good</td>\n",
       "      <td>NaN</td>\n",
       "    </tr>\n",
       "    <tr>\n",
       "      <th>46074</th>\n",
       "      <td>47249</td>\n",
       "      <td>6698</td>\n",
       "      <td>house</td>\n",
       "      <td>country cottage</td>\n",
       "      <td>399000.0</td>\n",
       "      <td>for sale</td>\n",
       "      <td>0</td>\n",
       "      <td>2562.0</td>\n",
       "      <td>0</td>\n",
       "      <td>NaN</td>\n",
       "      <td>...</td>\n",
       "      <td>0</td>\n",
       "      <td>NaN</td>\n",
       "      <td>0</td>\n",
       "      <td>NaN</td>\n",
       "      <td>NaN</td>\n",
       "      <td>NaN</td>\n",
       "      <td>4.0</td>\n",
       "      <td>0</td>\n",
       "      <td>NaN</td>\n",
       "      <td>NaN</td>\n",
       "    </tr>\n",
       "    <tr>\n",
       "      <th>47698</th>\n",
       "      <td>48899</td>\n",
       "      <td>7140</td>\n",
       "      <td>house</td>\n",
       "      <td>mixed use building</td>\n",
       "      <td>360000.0</td>\n",
       "      <td>for sale</td>\n",
       "      <td>0</td>\n",
       "      <td>1900.0</td>\n",
       "      <td>0</td>\n",
       "      <td>NaN</td>\n",
       "      <td>...</td>\n",
       "      <td>1</td>\n",
       "      <td>NaN</td>\n",
       "      <td>0</td>\n",
       "      <td>NaN</td>\n",
       "      <td>NaN</td>\n",
       "      <td>NaN</td>\n",
       "      <td>3.0</td>\n",
       "      <td>0</td>\n",
       "      <td>NaN</td>\n",
       "      <td>NaN</td>\n",
       "    </tr>\n",
       "    <tr>\n",
       "      <th>47699</th>\n",
       "      <td>48900</td>\n",
       "      <td>7140</td>\n",
       "      <td>house</td>\n",
       "      <td>apartment block</td>\n",
       "      <td>360000.0</td>\n",
       "      <td>for sale</td>\n",
       "      <td>0</td>\n",
       "      <td>1900.0</td>\n",
       "      <td>0</td>\n",
       "      <td>NaN</td>\n",
       "      <td>...</td>\n",
       "      <td>1</td>\n",
       "      <td>NaN</td>\n",
       "      <td>0</td>\n",
       "      <td>NaN</td>\n",
       "      <td>NaN</td>\n",
       "      <td>NaN</td>\n",
       "      <td>3.0</td>\n",
       "      <td>0</td>\n",
       "      <td>NaN</td>\n",
       "      <td>NaN</td>\n",
       "    </tr>\n",
       "    <tr>\n",
       "      <th>47768</th>\n",
       "      <td>48969</td>\n",
       "      <td>6200</td>\n",
       "      <td>house</td>\n",
       "      <td>mixed use building</td>\n",
       "      <td>399000.0</td>\n",
       "      <td>for sale</td>\n",
       "      <td>0</td>\n",
       "      <td>1525.0</td>\n",
       "      <td>0</td>\n",
       "      <td>NaN</td>\n",
       "      <td>...</td>\n",
       "      <td>0</td>\n",
       "      <td>NaN</td>\n",
       "      <td>0</td>\n",
       "      <td>NaN</td>\n",
       "      <td>790.0</td>\n",
       "      <td>NaN</td>\n",
       "      <td>2.0</td>\n",
       "      <td>0</td>\n",
       "      <td>good</td>\n",
       "      <td>NaN</td>\n",
       "    </tr>\n",
       "  </tbody>\n",
       "</table>\n",
       "<p>14 rows × 21 columns</p>\n",
       "</div>"
      ],
      "text/plain": [
       "       Unnamed: 0  locality type_of_property subtype_of_property     price  \\\n",
       "1793         1801      4470            house               house  585000.0   \n",
       "1795         1803      4470            house     apartment block  585000.0   \n",
       "2481         2497      9600            house               house  650000.0   \n",
       "3536         3563      2880            house         manor house  750000.0   \n",
       "15435       15938      3000        apartment                 kot  250000.0   \n",
       "33122       34082      7050            house  mixed use building  175000.0   \n",
       "34666       35652      8400            house               house  219000.0   \n",
       "35298       36287      4800            house     apartment block  250000.0   \n",
       "38503       39538      5670            house     apartment block  300000.0   \n",
       "45853       47024      6560            house  mixed use building  395000.0   \n",
       "46074       47249      6698            house     country cottage  399000.0   \n",
       "47698       48899      7140            house  mixed use building  360000.0   \n",
       "47699       48900      7140            house     apartment block  360000.0   \n",
       "47768       48969      6200            house  mixed use building  399000.0   \n",
       "\n",
       "      type_of_sale  number_of_rooms  house_area  fully_equipped_kitchen  \\\n",
       "1793      for sale               18      1500.0                       1   \n",
       "1795      for sale               18      1500.0                       1   \n",
       "2481      for sale                1      1640.0                       0   \n",
       "3536      for sale                3      3560.0                       1   \n",
       "15435     for sale                1     31700.0                       1   \n",
       "33122     for sale                2      1700.0                       0   \n",
       "34666     for sale                4      2019.0                       0   \n",
       "35298     for sale               20      2400.0                       0   \n",
       "38503     for sale                0      2500.0                       0   \n",
       "45853     for sale                6      1500.0                       0   \n",
       "46074     for sale                0      2562.0                       0   \n",
       "47698     for sale                0      1900.0                       0   \n",
       "47699     for sale                0      1900.0                       0   \n",
       "47768     for sale                0      1525.0                       0   \n",
       "\n",
       "       furnished  ...  terrace  terrace_area  garden  garden_area  \\\n",
       "1793         NaN  ...        1           NaN       0          NaN   \n",
       "1795         NaN  ...        1           NaN       0          NaN   \n",
       "2481         NaN  ...        0           NaN       0          NaN   \n",
       "3536         NaN  ...        1          24.0       1       3560.0   \n",
       "15435        NaN  ...        1           NaN       0          NaN   \n",
       "33122        NaN  ...        0           NaN       0          NaN   \n",
       "34666        NaN  ...        0           NaN       0          NaN   \n",
       "35298        NaN  ...        1           NaN       0          NaN   \n",
       "38503        NaN  ...        0           NaN       1      20000.0   \n",
       "45853        NaN  ...        0           NaN       0          NaN   \n",
       "46074        NaN  ...        0           NaN       0          NaN   \n",
       "47698        NaN  ...        1           NaN       0          NaN   \n",
       "47699        NaN  ...        1           NaN       0          NaN   \n",
       "47768        NaN  ...        0           NaN       0          NaN   \n",
       "\n",
       "       surface_of_the_land  surface_of_the_plot_of_land  number_of_facades  \\\n",
       "1793                2500.0                          NaN                NaN   \n",
       "1795                2500.0                          NaN                NaN   \n",
       "2481                1640.0                          NaN                3.0   \n",
       "3536                3560.0                          NaN                4.0   \n",
       "15435                  NaN                          NaN                NaN   \n",
       "33122               1700.0                          NaN                4.0   \n",
       "34666                165.0                          NaN                2.0   \n",
       "35298               1667.0                          NaN                2.0   \n",
       "38503                  NaN                          NaN                4.0   \n",
       "45853                  NaN                          NaN                3.0   \n",
       "46074                  NaN                          NaN                4.0   \n",
       "47698                  NaN                          NaN                3.0   \n",
       "47699                  NaN                          NaN                3.0   \n",
       "47768                790.0                          NaN                2.0   \n",
       "\n",
       "       swimming_pool  state_of_the_building construction_year  \n",
       "1793               0             to restore               NaN  \n",
       "1795               0             to restore               NaN  \n",
       "2481               0                   good            1991.0  \n",
       "3536               0                   good            1979.0  \n",
       "15435              0                 as new               NaN  \n",
       "33122              0            to renovate               NaN  \n",
       "34666              0                    NaN               NaN  \n",
       "35298              0                   good               NaN  \n",
       "38503              0                    NaN               NaN  \n",
       "45853              0                   good               NaN  \n",
       "46074              0                    NaN               NaN  \n",
       "47698              0                    NaN               NaN  \n",
       "47699              0                    NaN               NaN  \n",
       "47768              0                   good               NaN  \n",
       "\n",
       "[14 rows x 21 columns]"
      ]
     },
     "execution_count": 249,
     "metadata": {},
     "output_type": "execute_result"
    }
   ],
   "source": [
    "immo_data[immo_data['house_area']>=1500]"
   ]
  },
  {
   "cell_type": "markdown",
   "metadata": {},
   "source": [
    "suggestion cleaning :  \n",
    "- 8 valeurs <= 5 m² --> as NaN ? \n",
    "- 15 valeurs >= 1500 m² --> as Nan ? "
   ]
  },
  {
   "cell_type": "markdown",
   "metadata": {},
   "source": [
    "Commande cleaning : "
   ]
  },
  {
   "cell_type": "code",
   "execution_count": 250,
   "metadata": {},
   "outputs": [
    {
     "data": {
      "text/plain": [
       "9041      11.0\n",
       "19249     13.0\n",
       "26680     13.0\n",
       "5259      14.0\n",
       "6936      14.0\n",
       "         ...  \n",
       "4456     702.0\n",
       "4679     704.0\n",
       "2228     704.0\n",
       "3912     706.0\n",
       "2786     710.0\n",
       "Name: house_area, Length: 42269, dtype: float64"
      ]
     },
     "execution_count": 250,
     "metadata": {},
     "output_type": "execute_result"
    }
   ],
   "source": [
    "Mean_H_A = immo_data.house_area.mean()\n",
    "Std_H_A = immo_data.house_area.std()\n",
    "\n",
    "\n",
    "Drop_out_H_A = (immo_data['house_area']>5) & (immo_data['house_area']<(Mean_H_A + 3 * Std_H_A))\n",
    "immo_data['house_area'].loc[Drop_out_H_A].sort_values(ascending=True)"
   ]
  },
  {
   "cell_type": "code",
   "execution_count": 251,
   "metadata": {},
   "outputs": [
    {
     "data": {
      "text/plain": [
       "154.72415825709706"
      ]
     },
     "execution_count": 251,
     "metadata": {},
     "output_type": "execute_result"
    }
   ],
   "source": [
    "Mean_H_A\n"
   ]
  },
  {
   "cell_type": "code",
   "execution_count": 252,
   "metadata": {},
   "outputs": [
    {
     "data": {
      "text/plain": [
       "185.13762694233776"
      ]
     },
     "execution_count": 252,
     "metadata": {},
     "output_type": "execute_result"
    }
   ],
   "source": [
    "Std_H_A\n"
   ]
  },
  {
   "cell_type": "code",
   "execution_count": 253,
   "metadata": {},
   "outputs": [],
   "source": [
    "immo_data['house_area']=immo_data['house_area'].loc[Drop_out_H_A].sort_values(ascending=True)"
   ]
  },
  {
   "cell_type": "code",
   "execution_count": 254,
   "metadata": {},
   "outputs": [
    {
     "data": {
      "text/plain": [
       "143"
      ]
     },
     "execution_count": 254,
     "metadata": {},
     "output_type": "execute_result"
    }
   ],
   "source": [
    "immo_data['house_area'].isnull().sum()"
   ]
  },
  {
   "cell_type": "markdown",
   "metadata": {},
   "source": [
    "### Fully equipped kitchen"
   ]
  },
  {
   "cell_type": "code",
   "execution_count": 255,
   "metadata": {},
   "outputs": [
    {
     "data": {
      "text/plain": [
       "1    29438\n",
       "0    12974\n",
       "Name: fully_equipped_kitchen, dtype: int64"
      ]
     },
     "execution_count": 255,
     "metadata": {},
     "output_type": "execute_result"
    }
   ],
   "source": [
    "immo_data.fully_equipped_kitchen.value_counts()"
   ]
  },
  {
   "cell_type": "markdown",
   "metadata": {},
   "source": [
    "cleaning suggestion : \n",
    "- ok"
   ]
  },
  {
   "cell_type": "markdown",
   "metadata": {},
   "source": [
    "### Open fire"
   ]
  },
  {
   "cell_type": "code",
   "execution_count": 256,
   "metadata": {},
   "outputs": [
    {
     "data": {
      "text/plain": [
       "0    40207\n",
       "1     2205\n",
       "Name: open_fire, dtype: int64"
      ]
     },
     "execution_count": 256,
     "metadata": {},
     "output_type": "execute_result"
    }
   ],
   "source": [
    "immo_data.open_fire.value_counts()"
   ]
  },
  {
   "cell_type": "markdown",
   "metadata": {},
   "source": [
    "cleaning suggestion :\n",
    "- ok"
   ]
  },
  {
   "cell_type": "markdown",
   "metadata": {},
   "source": [
    "### Terrace "
   ]
  },
  {
   "cell_type": "code",
   "execution_count": 257,
   "metadata": {},
   "outputs": [
    {
     "data": {
      "text/plain": [
       "1    25885\n",
       "0    16527\n",
       "Name: terrace, dtype: int64"
      ]
     },
     "execution_count": 257,
     "metadata": {},
     "output_type": "execute_result"
    }
   ],
   "source": [
    "immo_data.terrace.value_counts()"
   ]
  },
  {
   "cell_type": "markdown",
   "metadata": {},
   "source": [
    "#### - Terrace area"
   ]
  },
  {
   "cell_type": "code",
   "execution_count": 258,
   "metadata": {},
   "outputs": [
    {
     "name": "stdout",
     "output_type": "stream",
     "text": [
      "max area terrace = 1150.0 m²\n",
      "min area terrace = 1.0 m²\n"
     ]
    }
   ],
   "source": [
    "print('max area terrace =',immo_data.terrace_area.max(),'m²')\n",
    "print('min area terrace =',immo_data.terrace_area.min(),'m²')"
   ]
  },
  {
   "cell_type": "code",
   "execution_count": 259,
   "metadata": {},
   "outputs": [
    {
     "data": {
      "text/plain": [
       "True     25900\n",
       "False    16512\n",
       "Name: terrace_area, dtype: int64"
      ]
     },
     "execution_count": 259,
     "metadata": {},
     "output_type": "execute_result"
    }
   ],
   "source": [
    "immo_data.terrace_area.isna().value_counts()"
   ]
  },
  {
   "cell_type": "markdown",
   "metadata": {},
   "source": [
    "- 17096 terrace area out of 28622 terrace entries"
   ]
  },
  {
   "cell_type": "code",
   "execution_count": 260,
   "metadata": {},
   "outputs": [
    {
     "data": {
      "text/plain": [
       "253"
      ]
     },
     "execution_count": 260,
     "metadata": {},
     "output_type": "execute_result"
    }
   ],
   "source": [
    "terrace_area_over100 = immo_data.query('terrace_area > 100')\n",
    "len(terrace_area_over100)"
   ]
  },
  {
   "cell_type": "code",
   "execution_count": 261,
   "metadata": {},
   "outputs": [
    {
     "name": "stdout",
     "output_type": "stream",
     "text": [
      "74 terraces of 1 m²\n",
      "5 houses with 1 m² terrace\n",
      "69 apparts with 1 m² terrace\n"
     ]
    }
   ],
   "source": [
    "mask = immo_data['terrace_area'] == 1\n",
    "terrace_area_1 = immo_data[mask]\n",
    "print(len(terrace_area_1),'terraces of 1 m²')\n",
    "terrace_area_house = terrace_area_1.query('type_of_property == \"house\"')\n",
    "print(len(terrace_area_house),'houses with 1 m² terrace')\n",
    "terrace_area_appart = terrace_area_1.query('type_of_property == \"apartment\"')\n",
    "print(len(terrace_area_appart),'apparts with 1 m² terrace')"
   ]
  },
  {
   "cell_type": "markdown",
   "metadata": {},
   "source": [
    "cleaning suggestion :\n",
    "- keep the 78 1m² terrace ? "
   ]
  },
  {
   "cell_type": "code",
   "execution_count": 262,
   "metadata": {},
   "outputs": [
    {
     "data": {
      "text/plain": [
       "9467       2.0\n",
       "17887      2.0\n",
       "14661      2.0\n",
       "38429      2.0\n",
       "14664      2.0\n",
       "         ...  \n",
       "24863    114.0\n",
       "14803    115.0\n",
       "3294     115.0\n",
       "2643     115.0\n",
       "26573    115.0\n",
       "Name: terrace_area, Length: 16234, dtype: float64"
      ]
     },
     "execution_count": 262,
     "metadata": {},
     "output_type": "execute_result"
    }
   ],
   "source": [
    "Mean_T_A = immo_data.terrace_area.mean()\n",
    "Std_T_A = immo_data.terrace_area.std()\n",
    "\n",
    "\n",
    "Drop_out_T_A = (immo_data['terrace_area']>1) & (immo_data['terrace_area']<(Mean_T_A + 3 * Std_T_A))\n",
    "immo_data['terrace_area'].loc[Drop_out_T_A].sort_values(ascending=True)"
   ]
  },
  {
   "cell_type": "code",
   "execution_count": 263,
   "metadata": {},
   "outputs": [
    {
     "data": {
      "text/plain": [
       "23.7484859496124"
      ]
     },
     "execution_count": 263,
     "metadata": {},
     "output_type": "execute_result"
    }
   ],
   "source": [
    "Mean_T_A"
   ]
  },
  {
   "cell_type": "code",
   "execution_count": 264,
   "metadata": {},
   "outputs": [
    {
     "data": {
      "text/plain": [
       "30.48291242617361"
      ]
     },
     "execution_count": 264,
     "metadata": {},
     "output_type": "execute_result"
    }
   ],
   "source": [
    "Std_T_A"
   ]
  },
  {
   "cell_type": "code",
   "execution_count": 265,
   "metadata": {},
   "outputs": [],
   "source": [
    "immo_data['terrace_area']= immo_data['terrace_area'].loc[Drop_out_T_A].sort_values(ascending=True)"
   ]
  },
  {
   "cell_type": "code",
   "execution_count": 266,
   "metadata": {},
   "outputs": [
    {
     "data": {
      "text/plain": [
       "26178"
      ]
     },
     "execution_count": 266,
     "metadata": {},
     "output_type": "execute_result"
    }
   ],
   "source": [
    "immo_data['terrace_area'].isnull().sum()"
   ]
  },
  {
   "cell_type": "markdown",
   "metadata": {},
   "source": [
    "### Garden"
   ]
  },
  {
   "cell_type": "code",
   "execution_count": 267,
   "metadata": {},
   "outputs": [
    {
     "data": {
      "text/plain": [
       "0    29022\n",
       "1    13390\n",
       "Name: garden, dtype: int64"
      ]
     },
     "execution_count": 267,
     "metadata": {},
     "output_type": "execute_result"
    }
   ],
   "source": [
    "immo_data.garden.value_counts()"
   ]
  },
  {
   "cell_type": "markdown",
   "metadata": {},
   "source": [
    "#### - Garden area"
   ]
  },
  {
   "cell_type": "code",
   "execution_count": 268,
   "metadata": {},
   "outputs": [
    {
     "data": {
      "text/plain": [
       "True     34439\n",
       "False     7973\n",
       "Name: garden_area, dtype: int64"
      ]
     },
     "execution_count": 268,
     "metadata": {},
     "output_type": "execute_result"
    }
   ],
   "source": [
    "immo_data.garden_area.isna().value_counts()"
   ]
  },
  {
   "cell_type": "markdown",
   "metadata": {},
   "source": [
    "- 8350 gardens area out of 14826 gardens entries"
   ]
  },
  {
   "cell_type": "code",
   "execution_count": 269,
   "metadata": {},
   "outputs": [
    {
     "name": "stdout",
     "output_type": "stream",
     "text": [
      "max area garden is 312600 m²\n",
      "min area garden is 1 m²\n"
     ]
    }
   ],
   "source": [
    "print('max area garden is', int(immo_data.garden_area.max()),'m²')\n",
    "print('min area garden is', int(immo_data.garden_area.min()),'m²')"
   ]
  },
  {
   "cell_type": "code",
   "execution_count": 270,
   "metadata": {},
   "outputs": [
    {
     "name": "stdout",
     "output_type": "stream",
     "text": [
      "61 with 1 m² garden area\n"
     ]
    }
   ],
   "source": [
    "garden_area_1 = immo_data.query('garden_area == 1')\n",
    "print(len(garden_area_1),'with 1 m² garden area')"
   ]
  },
  {
   "cell_type": "code",
   "execution_count": 271,
   "metadata": {},
   "outputs": [
    {
     "data": {
      "text/plain": [
       "37740        2.0\n",
       "30985        2.0\n",
       "9110         2.0\n",
       "39168        2.0\n",
       "44580        3.0\n",
       "          ...   \n",
       "47533    12060.0\n",
       "1196     12906.0\n",
       "2881     13000.0\n",
       "4260     13000.0\n",
       "38804    13750.0\n",
       "Name: garden_area, Length: 7874, dtype: float64"
      ]
     },
     "execution_count": 271,
     "metadata": {},
     "output_type": "execute_result"
    }
   ],
   "source": [
    "Mean_G_A = immo_data.garden_area.mean()\n",
    "Std_G_A = immo_data.garden_area.std()\n",
    "\n",
    "\n",
    "Drop_out_G_A = (immo_data['garden_area']>1) & (immo_data['garden_area']<(Mean_G_A + 3 * Std_G_A))\n",
    "immo_data['garden_area'].loc[Drop_out_G_A].sort_values(ascending=True)"
   ]
  },
  {
   "cell_type": "code",
   "execution_count": 272,
   "metadata": {},
   "outputs": [
    {
     "data": {
      "text/plain": [
       "712.3089175968895"
      ]
     },
     "execution_count": 272,
     "metadata": {},
     "output_type": "execute_result"
    }
   ],
   "source": [
    "Mean_G_A"
   ]
  },
  {
   "cell_type": "code",
   "execution_count": 273,
   "metadata": {},
   "outputs": [
    {
     "data": {
      "text/plain": [
       "4404.976091512953"
      ]
     },
     "execution_count": 273,
     "metadata": {},
     "output_type": "execute_result"
    }
   ],
   "source": [
    "Std_G_A"
   ]
  },
  {
   "cell_type": "code",
   "execution_count": 274,
   "metadata": {},
   "outputs": [],
   "source": [
    "immo_data['garden_area']=immo_data['garden_area'].loc[Drop_out_G_A].sort_values(ascending=True)"
   ]
  },
  {
   "cell_type": "code",
   "execution_count": 275,
   "metadata": {},
   "outputs": [
    {
     "data": {
      "text/plain": [
       "34538"
      ]
     },
     "execution_count": 275,
     "metadata": {},
     "output_type": "execute_result"
    }
   ],
   "source": [
    "immo_data.garden_area.isnull().sum()"
   ]
  },
  {
   "cell_type": "markdown",
   "metadata": {},
   "source": [
    "## Suppression de variables inutiles"
   ]
  },
  {
   "cell_type": "code",
   "execution_count": 276,
   "metadata": {},
   "outputs": [
    {
     "data": {
      "text/html": [
       "<div>\n",
       "<style scoped>\n",
       "    .dataframe tbody tr th:only-of-type {\n",
       "        vertical-align: middle;\n",
       "    }\n",
       "\n",
       "    .dataframe tbody tr th {\n",
       "        vertical-align: top;\n",
       "    }\n",
       "\n",
       "    .dataframe thead th {\n",
       "        text-align: right;\n",
       "    }\n",
       "</style>\n",
       "<table border=\"1\" class=\"dataframe\">\n",
       "  <thead>\n",
       "    <tr style=\"text-align: right;\">\n",
       "      <th></th>\n",
       "      <th>Unnamed: 0</th>\n",
       "      <th>locality</th>\n",
       "      <th>type_of_property</th>\n",
       "      <th>subtype_of_property</th>\n",
       "      <th>price</th>\n",
       "      <th>number_of_rooms</th>\n",
       "      <th>house_area</th>\n",
       "      <th>fully_equipped_kitchen</th>\n",
       "      <th>open_fire</th>\n",
       "      <th>terrace</th>\n",
       "      <th>terrace_area</th>\n",
       "      <th>garden</th>\n",
       "      <th>garden_area</th>\n",
       "      <th>surface_of_the_land</th>\n",
       "      <th>number_of_facades</th>\n",
       "      <th>swimming_pool</th>\n",
       "      <th>state_of_the_building</th>\n",
       "      <th>construction_year</th>\n",
       "    </tr>\n",
       "  </thead>\n",
       "  <tbody>\n",
       "    <tr>\n",
       "      <th>0</th>\n",
       "      <td>0</td>\n",
       "      <td>1050</td>\n",
       "      <td>house</td>\n",
       "      <td>house</td>\n",
       "      <td>340000.0</td>\n",
       "      <td>6</td>\n",
       "      <td>203.0</td>\n",
       "      <td>1</td>\n",
       "      <td>0</td>\n",
       "      <td>1</td>\n",
       "      <td>NaN</td>\n",
       "      <td>0</td>\n",
       "      <td>NaN</td>\n",
       "      <td>95.0</td>\n",
       "      <td>2.0</td>\n",
       "      <td>0</td>\n",
       "      <td>to be done up</td>\n",
       "      <td>1901.0</td>\n",
       "    </tr>\n",
       "    <tr>\n",
       "      <th>1</th>\n",
       "      <td>1</td>\n",
       "      <td>1880</td>\n",
       "      <td>house</td>\n",
       "      <td>villa</td>\n",
       "      <td>525000.0</td>\n",
       "      <td>6</td>\n",
       "      <td>250.0</td>\n",
       "      <td>1</td>\n",
       "      <td>0</td>\n",
       "      <td>1</td>\n",
       "      <td>40.0</td>\n",
       "      <td>1</td>\n",
       "      <td>430.0</td>\n",
       "      <td>826.0</td>\n",
       "      <td>4.0</td>\n",
       "      <td>0</td>\n",
       "      <td>as new</td>\n",
       "      <td>1992.0</td>\n",
       "    </tr>\n",
       "    <tr>\n",
       "      <th>2</th>\n",
       "      <td>2</td>\n",
       "      <td>4900</td>\n",
       "      <td>house</td>\n",
       "      <td>exceptional property</td>\n",
       "      <td>550000.0</td>\n",
       "      <td>11</td>\n",
       "      <td>475.0</td>\n",
       "      <td>1</td>\n",
       "      <td>0</td>\n",
       "      <td>1</td>\n",
       "      <td>NaN</td>\n",
       "      <td>1</td>\n",
       "      <td>1400.0</td>\n",
       "      <td>1543.0</td>\n",
       "      <td>4.0</td>\n",
       "      <td>0</td>\n",
       "      <td>good</td>\n",
       "      <td>1853.0</td>\n",
       "    </tr>\n",
       "    <tr>\n",
       "      <th>3</th>\n",
       "      <td>3</td>\n",
       "      <td>7912</td>\n",
       "      <td>house</td>\n",
       "      <td>villa</td>\n",
       "      <td>550000.0</td>\n",
       "      <td>4</td>\n",
       "      <td>325.0</td>\n",
       "      <td>1</td>\n",
       "      <td>0</td>\n",
       "      <td>1</td>\n",
       "      <td>NaN</td>\n",
       "      <td>1</td>\n",
       "      <td>2333.0</td>\n",
       "      <td>3570.0</td>\n",
       "      <td>4.0</td>\n",
       "      <td>0</td>\n",
       "      <td>good</td>\n",
       "      <td>1918.0</td>\n",
       "    </tr>\n",
       "    <tr>\n",
       "      <th>4</th>\n",
       "      <td>4</td>\n",
       "      <td>6032</td>\n",
       "      <td>house</td>\n",
       "      <td>house</td>\n",
       "      <td>550000.0</td>\n",
       "      <td>5</td>\n",
       "      <td>400.0</td>\n",
       "      <td>1</td>\n",
       "      <td>0</td>\n",
       "      <td>1</td>\n",
       "      <td>80.0</td>\n",
       "      <td>1</td>\n",
       "      <td>500.0</td>\n",
       "      <td>616.0</td>\n",
       "      <td>3.0</td>\n",
       "      <td>0</td>\n",
       "      <td>as new</td>\n",
       "      <td>1977.0</td>\n",
       "    </tr>\n",
       "    <tr>\n",
       "      <th>...</th>\n",
       "      <td>...</td>\n",
       "      <td>...</td>\n",
       "      <td>...</td>\n",
       "      <td>...</td>\n",
       "      <td>...</td>\n",
       "      <td>...</td>\n",
       "      <td>...</td>\n",
       "      <td>...</td>\n",
       "      <td>...</td>\n",
       "      <td>...</td>\n",
       "      <td>...</td>\n",
       "      <td>...</td>\n",
       "      <td>...</td>\n",
       "      <td>...</td>\n",
       "      <td>...</td>\n",
       "      <td>...</td>\n",
       "      <td>...</td>\n",
       "      <td>...</td>\n",
       "    </tr>\n",
       "    <tr>\n",
       "      <th>50824</th>\n",
       "      <td>52058</td>\n",
       "      <td>2310</td>\n",
       "      <td>house</td>\n",
       "      <td>house</td>\n",
       "      <td>468000.0</td>\n",
       "      <td>3</td>\n",
       "      <td>180.0</td>\n",
       "      <td>1</td>\n",
       "      <td>0</td>\n",
       "      <td>0</td>\n",
       "      <td>NaN</td>\n",
       "      <td>0</td>\n",
       "      <td>NaN</td>\n",
       "      <td>NaN</td>\n",
       "      <td>4.0</td>\n",
       "      <td>0</td>\n",
       "      <td>NaN</td>\n",
       "      <td>NaN</td>\n",
       "    </tr>\n",
       "    <tr>\n",
       "      <th>50828</th>\n",
       "      <td>52063</td>\n",
       "      <td>1800</td>\n",
       "      <td>house</td>\n",
       "      <td>house</td>\n",
       "      <td>454993.0</td>\n",
       "      <td>3</td>\n",
       "      <td>169.0</td>\n",
       "      <td>0</td>\n",
       "      <td>0</td>\n",
       "      <td>0</td>\n",
       "      <td>NaN</td>\n",
       "      <td>0</td>\n",
       "      <td>NaN</td>\n",
       "      <td>389.0</td>\n",
       "      <td>3.0</td>\n",
       "      <td>0</td>\n",
       "      <td>NaN</td>\n",
       "      <td>NaN</td>\n",
       "    </tr>\n",
       "    <tr>\n",
       "      <th>50830</th>\n",
       "      <td>52065</td>\n",
       "      <td>3530</td>\n",
       "      <td>house</td>\n",
       "      <td>villa</td>\n",
       "      <td>475000.0</td>\n",
       "      <td>3</td>\n",
       "      <td>222.0</td>\n",
       "      <td>0</td>\n",
       "      <td>0</td>\n",
       "      <td>0</td>\n",
       "      <td>NaN</td>\n",
       "      <td>0</td>\n",
       "      <td>NaN</td>\n",
       "      <td>1124.0</td>\n",
       "      <td>4.0</td>\n",
       "      <td>0</td>\n",
       "      <td>NaN</td>\n",
       "      <td>NaN</td>\n",
       "    </tr>\n",
       "    <tr>\n",
       "      <th>50833</th>\n",
       "      <td>52068</td>\n",
       "      <td>6700</td>\n",
       "      <td>house</td>\n",
       "      <td>mansion</td>\n",
       "      <td>475000.0</td>\n",
       "      <td>9</td>\n",
       "      <td>240.0</td>\n",
       "      <td>0</td>\n",
       "      <td>0</td>\n",
       "      <td>0</td>\n",
       "      <td>NaN</td>\n",
       "      <td>0</td>\n",
       "      <td>NaN</td>\n",
       "      <td>200.0</td>\n",
       "      <td>2.0</td>\n",
       "      <td>0</td>\n",
       "      <td>NaN</td>\n",
       "      <td>NaN</td>\n",
       "    </tr>\n",
       "    <tr>\n",
       "      <th>50839</th>\n",
       "      <td>52074</td>\n",
       "      <td>2018</td>\n",
       "      <td>house</td>\n",
       "      <td>house</td>\n",
       "      <td>488000.0</td>\n",
       "      <td>3</td>\n",
       "      <td>145.0</td>\n",
       "      <td>0</td>\n",
       "      <td>0</td>\n",
       "      <td>0</td>\n",
       "      <td>NaN</td>\n",
       "      <td>1</td>\n",
       "      <td>48.0</td>\n",
       "      <td>NaN</td>\n",
       "      <td>3.0</td>\n",
       "      <td>0</td>\n",
       "      <td>NaN</td>\n",
       "      <td>NaN</td>\n",
       "    </tr>\n",
       "  </tbody>\n",
       "</table>\n",
       "<p>42412 rows × 18 columns</p>\n",
       "</div>"
      ],
      "text/plain": [
       "       Unnamed: 0  locality type_of_property   subtype_of_property     price  \\\n",
       "0               0      1050            house                 house  340000.0   \n",
       "1               1      1880            house                 villa  525000.0   \n",
       "2               2      4900            house  exceptional property  550000.0   \n",
       "3               3      7912            house                 villa  550000.0   \n",
       "4               4      6032            house                 house  550000.0   \n",
       "...           ...       ...              ...                   ...       ...   \n",
       "50824       52058      2310            house                 house  468000.0   \n",
       "50828       52063      1800            house                 house  454993.0   \n",
       "50830       52065      3530            house                 villa  475000.0   \n",
       "50833       52068      6700            house               mansion  475000.0   \n",
       "50839       52074      2018            house                 house  488000.0   \n",
       "\n",
       "       number_of_rooms  house_area  fully_equipped_kitchen  open_fire  \\\n",
       "0                    6       203.0                       1          0   \n",
       "1                    6       250.0                       1          0   \n",
       "2                   11       475.0                       1          0   \n",
       "3                    4       325.0                       1          0   \n",
       "4                    5       400.0                       1          0   \n",
       "...                ...         ...                     ...        ...   \n",
       "50824                3       180.0                       1          0   \n",
       "50828                3       169.0                       0          0   \n",
       "50830                3       222.0                       0          0   \n",
       "50833                9       240.0                       0          0   \n",
       "50839                3       145.0                       0          0   \n",
       "\n",
       "       terrace  terrace_area  garden  garden_area  surface_of_the_land  \\\n",
       "0            1           NaN       0          NaN                 95.0   \n",
       "1            1          40.0       1        430.0                826.0   \n",
       "2            1           NaN       1       1400.0               1543.0   \n",
       "3            1           NaN       1       2333.0               3570.0   \n",
       "4            1          80.0       1        500.0                616.0   \n",
       "...        ...           ...     ...          ...                  ...   \n",
       "50824        0           NaN       0          NaN                  NaN   \n",
       "50828        0           NaN       0          NaN                389.0   \n",
       "50830        0           NaN       0          NaN               1124.0   \n",
       "50833        0           NaN       0          NaN                200.0   \n",
       "50839        0           NaN       1         48.0                  NaN   \n",
       "\n",
       "       number_of_facades  swimming_pool state_of_the_building  \\\n",
       "0                    2.0              0         to be done up   \n",
       "1                    4.0              0                as new   \n",
       "2                    4.0              0                  good   \n",
       "3                    4.0              0                  good   \n",
       "4                    3.0              0                as new   \n",
       "...                  ...            ...                   ...   \n",
       "50824                4.0              0                   NaN   \n",
       "50828                3.0              0                   NaN   \n",
       "50830                4.0              0                   NaN   \n",
       "50833                2.0              0                   NaN   \n",
       "50839                3.0              0                   NaN   \n",
       "\n",
       "       construction_year  \n",
       "0                 1901.0  \n",
       "1                 1992.0  \n",
       "2                 1853.0  \n",
       "3                 1918.0  \n",
       "4                 1977.0  \n",
       "...                  ...  \n",
       "50824                NaN  \n",
       "50828                NaN  \n",
       "50830                NaN  \n",
       "50833                NaN  \n",
       "50839                NaN  \n",
       "\n",
       "[42412 rows x 18 columns]"
      ]
     },
     "execution_count": 276,
     "metadata": {},
     "output_type": "execute_result"
    }
   ],
   "source": [
    "immo_data.drop(labels='type_of_sale', axis=1, inplace=True)\n",
    "immo_data.drop(labels='furnished', axis=1, inplace=True)\n",
    "immo_data.drop(labels='surface_of_the_plot_of_land', axis=1, inplace=True)\n",
    "immo_data"
   ]
  },
  {
   "cell_type": "markdown",
   "metadata": {},
   "source": [
    "## Suppression des maisons sans prix"
   ]
  },
  {
   "cell_type": "code",
   "execution_count": 277,
   "metadata": {},
   "outputs": [
    {
     "data": {
      "text/plain": [
       "42412"
      ]
     },
     "execution_count": 277,
     "metadata": {},
     "output_type": "execute_result"
    }
   ],
   "source": [
    "len(immo_data)"
   ]
  },
  {
   "cell_type": "code",
   "execution_count": 278,
   "metadata": {},
   "outputs": [
    {
     "data": {
      "text/plain": [
       "44"
      ]
     },
     "execution_count": 278,
     "metadata": {},
     "output_type": "execute_result"
    }
   ],
   "source": [
    "immo_data.price.isnull().sum()"
   ]
  },
  {
   "cell_type": "code",
   "execution_count": 279,
   "metadata": {},
   "outputs": [],
   "source": [
    "mask_no_price = immo_data.price.notnull()"
   ]
  },
  {
   "cell_type": "code",
   "execution_count": 280,
   "metadata": {},
   "outputs": [],
   "source": [
    "immo_data= immo_data.loc[mask_no_price]"
   ]
  },
  {
   "cell_type": "code",
   "execution_count": 281,
   "metadata": {},
   "outputs": [
    {
     "data": {
      "text/plain": [
       "42368"
      ]
     },
     "execution_count": 281,
     "metadata": {},
     "output_type": "execute_result"
    }
   ],
   "source": [
    "len(immo_data)"
   ]
  },
  {
   "cell_type": "markdown",
   "metadata": {},
   "source": [
    "## Suppression des maisons qui n'ont ni surface habitable, ni surface de terrain "
   ]
  },
  {
   "cell_type": "code",
   "execution_count": 282,
   "metadata": {},
   "outputs": [
    {
     "data": {
      "text/plain": [
       "42368"
      ]
     },
     "execution_count": 282,
     "metadata": {},
     "output_type": "execute_result"
    }
   ],
   "source": [
    "len(immo_data)"
   ]
  },
  {
   "cell_type": "code",
   "execution_count": 283,
   "metadata": {},
   "outputs": [
    {
     "data": {
      "text/plain": [
       "143"
      ]
     },
     "execution_count": 283,
     "metadata": {},
     "output_type": "execute_result"
    }
   ],
   "source": [
    "immo_data.house_area.isnull().sum()"
   ]
  },
  {
   "cell_type": "code",
   "execution_count": 284,
   "metadata": {},
   "outputs": [
    {
     "data": {
      "text/plain": [
       "22060"
      ]
     },
     "execution_count": 284,
     "metadata": {},
     "output_type": "execute_result"
    }
   ],
   "source": [
    "immo_data.surface_of_the_land.isnull().sum()"
   ]
  },
  {
   "cell_type": "code",
   "execution_count": 285,
   "metadata": {
    "scrolled": true
   },
   "outputs": [
    {
     "data": {
      "text/plain": [
       "1    22135\n",
       "0    20199\n",
       "2       34\n",
       "dtype: int64"
      ]
     },
     "execution_count": 285,
     "metadata": {},
     "output_type": "execute_result"
    }
   ],
   "source": [
    "immo_data[['house_area','surface_of_the_land']].isnull().sum(axis=1).value_counts()"
   ]
  },
  {
   "cell_type": "code",
   "execution_count": 286,
   "metadata": {},
   "outputs": [
    {
     "data": {
      "text/html": [
       "<div>\n",
       "<style scoped>\n",
       "    .dataframe tbody tr th:only-of-type {\n",
       "        vertical-align: middle;\n",
       "    }\n",
       "\n",
       "    .dataframe tbody tr th {\n",
       "        vertical-align: top;\n",
       "    }\n",
       "\n",
       "    .dataframe thead th {\n",
       "        text-align: right;\n",
       "    }\n",
       "</style>\n",
       "<table border=\"1\" class=\"dataframe\">\n",
       "  <thead>\n",
       "    <tr style=\"text-align: right;\">\n",
       "      <th></th>\n",
       "      <th>Unnamed: 0</th>\n",
       "      <th>locality</th>\n",
       "      <th>type_of_property</th>\n",
       "      <th>subtype_of_property</th>\n",
       "      <th>price</th>\n",
       "      <th>number_of_rooms</th>\n",
       "      <th>house_area</th>\n",
       "      <th>fully_equipped_kitchen</th>\n",
       "      <th>open_fire</th>\n",
       "      <th>terrace</th>\n",
       "      <th>terrace_area</th>\n",
       "      <th>garden</th>\n",
       "      <th>garden_area</th>\n",
       "      <th>surface_of_the_land</th>\n",
       "      <th>number_of_facades</th>\n",
       "      <th>swimming_pool</th>\n",
       "      <th>state_of_the_building</th>\n",
       "      <th>construction_year</th>\n",
       "    </tr>\n",
       "  </thead>\n",
       "  <tbody>\n",
       "    <tr>\n",
       "      <th>0</th>\n",
       "      <td>0</td>\n",
       "      <td>1050</td>\n",
       "      <td>house</td>\n",
       "      <td>house</td>\n",
       "      <td>340000.0</td>\n",
       "      <td>6</td>\n",
       "      <td>203.0</td>\n",
       "      <td>1</td>\n",
       "      <td>0</td>\n",
       "      <td>1</td>\n",
       "      <td>NaN</td>\n",
       "      <td>0</td>\n",
       "      <td>NaN</td>\n",
       "      <td>95.0</td>\n",
       "      <td>2.0</td>\n",
       "      <td>0</td>\n",
       "      <td>to be done up</td>\n",
       "      <td>1901.0</td>\n",
       "    </tr>\n",
       "    <tr>\n",
       "      <th>1</th>\n",
       "      <td>1</td>\n",
       "      <td>1880</td>\n",
       "      <td>house</td>\n",
       "      <td>villa</td>\n",
       "      <td>525000.0</td>\n",
       "      <td>6</td>\n",
       "      <td>250.0</td>\n",
       "      <td>1</td>\n",
       "      <td>0</td>\n",
       "      <td>1</td>\n",
       "      <td>40.0</td>\n",
       "      <td>1</td>\n",
       "      <td>430.0</td>\n",
       "      <td>826.0</td>\n",
       "      <td>4.0</td>\n",
       "      <td>0</td>\n",
       "      <td>as new</td>\n",
       "      <td>1992.0</td>\n",
       "    </tr>\n",
       "    <tr>\n",
       "      <th>2</th>\n",
       "      <td>2</td>\n",
       "      <td>4900</td>\n",
       "      <td>house</td>\n",
       "      <td>exceptional property</td>\n",
       "      <td>550000.0</td>\n",
       "      <td>11</td>\n",
       "      <td>475.0</td>\n",
       "      <td>1</td>\n",
       "      <td>0</td>\n",
       "      <td>1</td>\n",
       "      <td>NaN</td>\n",
       "      <td>1</td>\n",
       "      <td>1400.0</td>\n",
       "      <td>1543.0</td>\n",
       "      <td>4.0</td>\n",
       "      <td>0</td>\n",
       "      <td>good</td>\n",
       "      <td>1853.0</td>\n",
       "    </tr>\n",
       "    <tr>\n",
       "      <th>3</th>\n",
       "      <td>3</td>\n",
       "      <td>7912</td>\n",
       "      <td>house</td>\n",
       "      <td>villa</td>\n",
       "      <td>550000.0</td>\n",
       "      <td>4</td>\n",
       "      <td>325.0</td>\n",
       "      <td>1</td>\n",
       "      <td>0</td>\n",
       "      <td>1</td>\n",
       "      <td>NaN</td>\n",
       "      <td>1</td>\n",
       "      <td>2333.0</td>\n",
       "      <td>3570.0</td>\n",
       "      <td>4.0</td>\n",
       "      <td>0</td>\n",
       "      <td>good</td>\n",
       "      <td>1918.0</td>\n",
       "    </tr>\n",
       "    <tr>\n",
       "      <th>4</th>\n",
       "      <td>4</td>\n",
       "      <td>6032</td>\n",
       "      <td>house</td>\n",
       "      <td>house</td>\n",
       "      <td>550000.0</td>\n",
       "      <td>5</td>\n",
       "      <td>400.0</td>\n",
       "      <td>1</td>\n",
       "      <td>0</td>\n",
       "      <td>1</td>\n",
       "      <td>80.0</td>\n",
       "      <td>1</td>\n",
       "      <td>500.0</td>\n",
       "      <td>616.0</td>\n",
       "      <td>3.0</td>\n",
       "      <td>0</td>\n",
       "      <td>as new</td>\n",
       "      <td>1977.0</td>\n",
       "    </tr>\n",
       "    <tr>\n",
       "      <th>...</th>\n",
       "      <td>...</td>\n",
       "      <td>...</td>\n",
       "      <td>...</td>\n",
       "      <td>...</td>\n",
       "      <td>...</td>\n",
       "      <td>...</td>\n",
       "      <td>...</td>\n",
       "      <td>...</td>\n",
       "      <td>...</td>\n",
       "      <td>...</td>\n",
       "      <td>...</td>\n",
       "      <td>...</td>\n",
       "      <td>...</td>\n",
       "      <td>...</td>\n",
       "      <td>...</td>\n",
       "      <td>...</td>\n",
       "      <td>...</td>\n",
       "      <td>...</td>\n",
       "    </tr>\n",
       "    <tr>\n",
       "      <th>50824</th>\n",
       "      <td>52058</td>\n",
       "      <td>2310</td>\n",
       "      <td>house</td>\n",
       "      <td>house</td>\n",
       "      <td>468000.0</td>\n",
       "      <td>3</td>\n",
       "      <td>180.0</td>\n",
       "      <td>1</td>\n",
       "      <td>0</td>\n",
       "      <td>0</td>\n",
       "      <td>NaN</td>\n",
       "      <td>0</td>\n",
       "      <td>NaN</td>\n",
       "      <td>NaN</td>\n",
       "      <td>4.0</td>\n",
       "      <td>0</td>\n",
       "      <td>NaN</td>\n",
       "      <td>NaN</td>\n",
       "    </tr>\n",
       "    <tr>\n",
       "      <th>50828</th>\n",
       "      <td>52063</td>\n",
       "      <td>1800</td>\n",
       "      <td>house</td>\n",
       "      <td>house</td>\n",
       "      <td>454993.0</td>\n",
       "      <td>3</td>\n",
       "      <td>169.0</td>\n",
       "      <td>0</td>\n",
       "      <td>0</td>\n",
       "      <td>0</td>\n",
       "      <td>NaN</td>\n",
       "      <td>0</td>\n",
       "      <td>NaN</td>\n",
       "      <td>389.0</td>\n",
       "      <td>3.0</td>\n",
       "      <td>0</td>\n",
       "      <td>NaN</td>\n",
       "      <td>NaN</td>\n",
       "    </tr>\n",
       "    <tr>\n",
       "      <th>50830</th>\n",
       "      <td>52065</td>\n",
       "      <td>3530</td>\n",
       "      <td>house</td>\n",
       "      <td>villa</td>\n",
       "      <td>475000.0</td>\n",
       "      <td>3</td>\n",
       "      <td>222.0</td>\n",
       "      <td>0</td>\n",
       "      <td>0</td>\n",
       "      <td>0</td>\n",
       "      <td>NaN</td>\n",
       "      <td>0</td>\n",
       "      <td>NaN</td>\n",
       "      <td>1124.0</td>\n",
       "      <td>4.0</td>\n",
       "      <td>0</td>\n",
       "      <td>NaN</td>\n",
       "      <td>NaN</td>\n",
       "    </tr>\n",
       "    <tr>\n",
       "      <th>50833</th>\n",
       "      <td>52068</td>\n",
       "      <td>6700</td>\n",
       "      <td>house</td>\n",
       "      <td>mansion</td>\n",
       "      <td>475000.0</td>\n",
       "      <td>9</td>\n",
       "      <td>240.0</td>\n",
       "      <td>0</td>\n",
       "      <td>0</td>\n",
       "      <td>0</td>\n",
       "      <td>NaN</td>\n",
       "      <td>0</td>\n",
       "      <td>NaN</td>\n",
       "      <td>200.0</td>\n",
       "      <td>2.0</td>\n",
       "      <td>0</td>\n",
       "      <td>NaN</td>\n",
       "      <td>NaN</td>\n",
       "    </tr>\n",
       "    <tr>\n",
       "      <th>50839</th>\n",
       "      <td>52074</td>\n",
       "      <td>2018</td>\n",
       "      <td>house</td>\n",
       "      <td>house</td>\n",
       "      <td>488000.0</td>\n",
       "      <td>3</td>\n",
       "      <td>145.0</td>\n",
       "      <td>0</td>\n",
       "      <td>0</td>\n",
       "      <td>0</td>\n",
       "      <td>NaN</td>\n",
       "      <td>1</td>\n",
       "      <td>48.0</td>\n",
       "      <td>NaN</td>\n",
       "      <td>3.0</td>\n",
       "      <td>0</td>\n",
       "      <td>NaN</td>\n",
       "      <td>NaN</td>\n",
       "    </tr>\n",
       "  </tbody>\n",
       "</table>\n",
       "<p>42334 rows × 18 columns</p>\n",
       "</div>"
      ],
      "text/plain": [
       "       Unnamed: 0  locality type_of_property   subtype_of_property     price  \\\n",
       "0               0      1050            house                 house  340000.0   \n",
       "1               1      1880            house                 villa  525000.0   \n",
       "2               2      4900            house  exceptional property  550000.0   \n",
       "3               3      7912            house                 villa  550000.0   \n",
       "4               4      6032            house                 house  550000.0   \n",
       "...           ...       ...              ...                   ...       ...   \n",
       "50824       52058      2310            house                 house  468000.0   \n",
       "50828       52063      1800            house                 house  454993.0   \n",
       "50830       52065      3530            house                 villa  475000.0   \n",
       "50833       52068      6700            house               mansion  475000.0   \n",
       "50839       52074      2018            house                 house  488000.0   \n",
       "\n",
       "       number_of_rooms  house_area  fully_equipped_kitchen  open_fire  \\\n",
       "0                    6       203.0                       1          0   \n",
       "1                    6       250.0                       1          0   \n",
       "2                   11       475.0                       1          0   \n",
       "3                    4       325.0                       1          0   \n",
       "4                    5       400.0                       1          0   \n",
       "...                ...         ...                     ...        ...   \n",
       "50824                3       180.0                       1          0   \n",
       "50828                3       169.0                       0          0   \n",
       "50830                3       222.0                       0          0   \n",
       "50833                9       240.0                       0          0   \n",
       "50839                3       145.0                       0          0   \n",
       "\n",
       "       terrace  terrace_area  garden  garden_area  surface_of_the_land  \\\n",
       "0            1           NaN       0          NaN                 95.0   \n",
       "1            1          40.0       1        430.0                826.0   \n",
       "2            1           NaN       1       1400.0               1543.0   \n",
       "3            1           NaN       1       2333.0               3570.0   \n",
       "4            1          80.0       1        500.0                616.0   \n",
       "...        ...           ...     ...          ...                  ...   \n",
       "50824        0           NaN       0          NaN                  NaN   \n",
       "50828        0           NaN       0          NaN                389.0   \n",
       "50830        0           NaN       0          NaN               1124.0   \n",
       "50833        0           NaN       0          NaN                200.0   \n",
       "50839        0           NaN       1         48.0                  NaN   \n",
       "\n",
       "       number_of_facades  swimming_pool state_of_the_building  \\\n",
       "0                    2.0              0         to be done up   \n",
       "1                    4.0              0                as new   \n",
       "2                    4.0              0                  good   \n",
       "3                    4.0              0                  good   \n",
       "4                    3.0              0                as new   \n",
       "...                  ...            ...                   ...   \n",
       "50824                4.0              0                   NaN   \n",
       "50828                3.0              0                   NaN   \n",
       "50830                4.0              0                   NaN   \n",
       "50833                2.0              0                   NaN   \n",
       "50839                3.0              0                   NaN   \n",
       "\n",
       "       construction_year  \n",
       "0                 1901.0  \n",
       "1                 1992.0  \n",
       "2                 1853.0  \n",
       "3                 1918.0  \n",
       "4                 1977.0  \n",
       "...                  ...  \n",
       "50824                NaN  \n",
       "50828                NaN  \n",
       "50830                NaN  \n",
       "50833                NaN  \n",
       "50839                NaN  \n",
       "\n",
       "[42334 rows x 18 columns]"
      ]
     },
     "execution_count": 286,
     "metadata": {},
     "output_type": "execute_result"
    }
   ],
   "source": [
    "immo_data[immo_data[['house_area','surface_of_the_land']].isnull().sum(axis=1)!=2]"
   ]
  },
  {
   "cell_type": "code",
   "execution_count": 287,
   "metadata": {},
   "outputs": [],
   "source": [
    "immo_data=immo_data[immo_data[['house_area','surface_of_the_land']].isnull().sum(axis=1)!=2]"
   ]
  },
  {
   "cell_type": "code",
   "execution_count": 288,
   "metadata": {},
   "outputs": [
    {
     "data": {
      "text/plain": [
       "42334"
      ]
     },
     "execution_count": 288,
     "metadata": {},
     "output_type": "execute_result"
    }
   ],
   "source": [
    "len(immo_data)"
   ]
  },
  {
   "cell_type": "markdown",
   "metadata": {},
   "source": [
    "## Reset index"
   ]
  },
  {
   "cell_type": "code",
   "execution_count": 289,
   "metadata": {},
   "outputs": [],
   "source": [
    "immo_data.reset_index(drop=True, inplace=True)"
   ]
  },
  {
   "cell_type": "code",
   "execution_count": 290,
   "metadata": {},
   "outputs": [
    {
     "data": {
      "text/html": [
       "<div>\n",
       "<style scoped>\n",
       "    .dataframe tbody tr th:only-of-type {\n",
       "        vertical-align: middle;\n",
       "    }\n",
       "\n",
       "    .dataframe tbody tr th {\n",
       "        vertical-align: top;\n",
       "    }\n",
       "\n",
       "    .dataframe thead th {\n",
       "        text-align: right;\n",
       "    }\n",
       "</style>\n",
       "<table border=\"1\" class=\"dataframe\">\n",
       "  <thead>\n",
       "    <tr style=\"text-align: right;\">\n",
       "      <th></th>\n",
       "      <th>Unnamed: 0</th>\n",
       "      <th>locality</th>\n",
       "      <th>type_of_property</th>\n",
       "      <th>subtype_of_property</th>\n",
       "      <th>price</th>\n",
       "      <th>number_of_rooms</th>\n",
       "      <th>house_area</th>\n",
       "      <th>fully_equipped_kitchen</th>\n",
       "      <th>open_fire</th>\n",
       "      <th>terrace</th>\n",
       "      <th>terrace_area</th>\n",
       "      <th>garden</th>\n",
       "      <th>garden_area</th>\n",
       "      <th>surface_of_the_land</th>\n",
       "      <th>number_of_facades</th>\n",
       "      <th>swimming_pool</th>\n",
       "      <th>state_of_the_building</th>\n",
       "      <th>construction_year</th>\n",
       "    </tr>\n",
       "  </thead>\n",
       "  <tbody>\n",
       "    <tr>\n",
       "      <th>0</th>\n",
       "      <td>0</td>\n",
       "      <td>1050</td>\n",
       "      <td>house</td>\n",
       "      <td>house</td>\n",
       "      <td>340000.0</td>\n",
       "      <td>6</td>\n",
       "      <td>203.0</td>\n",
       "      <td>1</td>\n",
       "      <td>0</td>\n",
       "      <td>1</td>\n",
       "      <td>NaN</td>\n",
       "      <td>0</td>\n",
       "      <td>NaN</td>\n",
       "      <td>95.0</td>\n",
       "      <td>2.0</td>\n",
       "      <td>0</td>\n",
       "      <td>to be done up</td>\n",
       "      <td>1901.0</td>\n",
       "    </tr>\n",
       "    <tr>\n",
       "      <th>1</th>\n",
       "      <td>1</td>\n",
       "      <td>1880</td>\n",
       "      <td>house</td>\n",
       "      <td>villa</td>\n",
       "      <td>525000.0</td>\n",
       "      <td>6</td>\n",
       "      <td>250.0</td>\n",
       "      <td>1</td>\n",
       "      <td>0</td>\n",
       "      <td>1</td>\n",
       "      <td>40.0</td>\n",
       "      <td>1</td>\n",
       "      <td>430.0</td>\n",
       "      <td>826.0</td>\n",
       "      <td>4.0</td>\n",
       "      <td>0</td>\n",
       "      <td>as new</td>\n",
       "      <td>1992.0</td>\n",
       "    </tr>\n",
       "    <tr>\n",
       "      <th>2</th>\n",
       "      <td>2</td>\n",
       "      <td>4900</td>\n",
       "      <td>house</td>\n",
       "      <td>exceptional property</td>\n",
       "      <td>550000.0</td>\n",
       "      <td>11</td>\n",
       "      <td>475.0</td>\n",
       "      <td>1</td>\n",
       "      <td>0</td>\n",
       "      <td>1</td>\n",
       "      <td>NaN</td>\n",
       "      <td>1</td>\n",
       "      <td>1400.0</td>\n",
       "      <td>1543.0</td>\n",
       "      <td>4.0</td>\n",
       "      <td>0</td>\n",
       "      <td>good</td>\n",
       "      <td>1853.0</td>\n",
       "    </tr>\n",
       "    <tr>\n",
       "      <th>3</th>\n",
       "      <td>3</td>\n",
       "      <td>7912</td>\n",
       "      <td>house</td>\n",
       "      <td>villa</td>\n",
       "      <td>550000.0</td>\n",
       "      <td>4</td>\n",
       "      <td>325.0</td>\n",
       "      <td>1</td>\n",
       "      <td>0</td>\n",
       "      <td>1</td>\n",
       "      <td>NaN</td>\n",
       "      <td>1</td>\n",
       "      <td>2333.0</td>\n",
       "      <td>3570.0</td>\n",
       "      <td>4.0</td>\n",
       "      <td>0</td>\n",
       "      <td>good</td>\n",
       "      <td>1918.0</td>\n",
       "    </tr>\n",
       "    <tr>\n",
       "      <th>4</th>\n",
       "      <td>4</td>\n",
       "      <td>6032</td>\n",
       "      <td>house</td>\n",
       "      <td>house</td>\n",
       "      <td>550000.0</td>\n",
       "      <td>5</td>\n",
       "      <td>400.0</td>\n",
       "      <td>1</td>\n",
       "      <td>0</td>\n",
       "      <td>1</td>\n",
       "      <td>80.0</td>\n",
       "      <td>1</td>\n",
       "      <td>500.0</td>\n",
       "      <td>616.0</td>\n",
       "      <td>3.0</td>\n",
       "      <td>0</td>\n",
       "      <td>as new</td>\n",
       "      <td>1977.0</td>\n",
       "    </tr>\n",
       "    <tr>\n",
       "      <th>...</th>\n",
       "      <td>...</td>\n",
       "      <td>...</td>\n",
       "      <td>...</td>\n",
       "      <td>...</td>\n",
       "      <td>...</td>\n",
       "      <td>...</td>\n",
       "      <td>...</td>\n",
       "      <td>...</td>\n",
       "      <td>...</td>\n",
       "      <td>...</td>\n",
       "      <td>...</td>\n",
       "      <td>...</td>\n",
       "      <td>...</td>\n",
       "      <td>...</td>\n",
       "      <td>...</td>\n",
       "      <td>...</td>\n",
       "      <td>...</td>\n",
       "      <td>...</td>\n",
       "    </tr>\n",
       "    <tr>\n",
       "      <th>42329</th>\n",
       "      <td>52058</td>\n",
       "      <td>2310</td>\n",
       "      <td>house</td>\n",
       "      <td>house</td>\n",
       "      <td>468000.0</td>\n",
       "      <td>3</td>\n",
       "      <td>180.0</td>\n",
       "      <td>1</td>\n",
       "      <td>0</td>\n",
       "      <td>0</td>\n",
       "      <td>NaN</td>\n",
       "      <td>0</td>\n",
       "      <td>NaN</td>\n",
       "      <td>NaN</td>\n",
       "      <td>4.0</td>\n",
       "      <td>0</td>\n",
       "      <td>NaN</td>\n",
       "      <td>NaN</td>\n",
       "    </tr>\n",
       "    <tr>\n",
       "      <th>42330</th>\n",
       "      <td>52063</td>\n",
       "      <td>1800</td>\n",
       "      <td>house</td>\n",
       "      <td>house</td>\n",
       "      <td>454993.0</td>\n",
       "      <td>3</td>\n",
       "      <td>169.0</td>\n",
       "      <td>0</td>\n",
       "      <td>0</td>\n",
       "      <td>0</td>\n",
       "      <td>NaN</td>\n",
       "      <td>0</td>\n",
       "      <td>NaN</td>\n",
       "      <td>389.0</td>\n",
       "      <td>3.0</td>\n",
       "      <td>0</td>\n",
       "      <td>NaN</td>\n",
       "      <td>NaN</td>\n",
       "    </tr>\n",
       "    <tr>\n",
       "      <th>42331</th>\n",
       "      <td>52065</td>\n",
       "      <td>3530</td>\n",
       "      <td>house</td>\n",
       "      <td>villa</td>\n",
       "      <td>475000.0</td>\n",
       "      <td>3</td>\n",
       "      <td>222.0</td>\n",
       "      <td>0</td>\n",
       "      <td>0</td>\n",
       "      <td>0</td>\n",
       "      <td>NaN</td>\n",
       "      <td>0</td>\n",
       "      <td>NaN</td>\n",
       "      <td>1124.0</td>\n",
       "      <td>4.0</td>\n",
       "      <td>0</td>\n",
       "      <td>NaN</td>\n",
       "      <td>NaN</td>\n",
       "    </tr>\n",
       "    <tr>\n",
       "      <th>42332</th>\n",
       "      <td>52068</td>\n",
       "      <td>6700</td>\n",
       "      <td>house</td>\n",
       "      <td>mansion</td>\n",
       "      <td>475000.0</td>\n",
       "      <td>9</td>\n",
       "      <td>240.0</td>\n",
       "      <td>0</td>\n",
       "      <td>0</td>\n",
       "      <td>0</td>\n",
       "      <td>NaN</td>\n",
       "      <td>0</td>\n",
       "      <td>NaN</td>\n",
       "      <td>200.0</td>\n",
       "      <td>2.0</td>\n",
       "      <td>0</td>\n",
       "      <td>NaN</td>\n",
       "      <td>NaN</td>\n",
       "    </tr>\n",
       "    <tr>\n",
       "      <th>42333</th>\n",
       "      <td>52074</td>\n",
       "      <td>2018</td>\n",
       "      <td>house</td>\n",
       "      <td>house</td>\n",
       "      <td>488000.0</td>\n",
       "      <td>3</td>\n",
       "      <td>145.0</td>\n",
       "      <td>0</td>\n",
       "      <td>0</td>\n",
       "      <td>0</td>\n",
       "      <td>NaN</td>\n",
       "      <td>1</td>\n",
       "      <td>48.0</td>\n",
       "      <td>NaN</td>\n",
       "      <td>3.0</td>\n",
       "      <td>0</td>\n",
       "      <td>NaN</td>\n",
       "      <td>NaN</td>\n",
       "    </tr>\n",
       "  </tbody>\n",
       "</table>\n",
       "<p>42334 rows × 18 columns</p>\n",
       "</div>"
      ],
      "text/plain": [
       "       Unnamed: 0  locality type_of_property   subtype_of_property     price  \\\n",
       "0               0      1050            house                 house  340000.0   \n",
       "1               1      1880            house                 villa  525000.0   \n",
       "2               2      4900            house  exceptional property  550000.0   \n",
       "3               3      7912            house                 villa  550000.0   \n",
       "4               4      6032            house                 house  550000.0   \n",
       "...           ...       ...              ...                   ...       ...   \n",
       "42329       52058      2310            house                 house  468000.0   \n",
       "42330       52063      1800            house                 house  454993.0   \n",
       "42331       52065      3530            house                 villa  475000.0   \n",
       "42332       52068      6700            house               mansion  475000.0   \n",
       "42333       52074      2018            house                 house  488000.0   \n",
       "\n",
       "       number_of_rooms  house_area  fully_equipped_kitchen  open_fire  \\\n",
       "0                    6       203.0                       1          0   \n",
       "1                    6       250.0                       1          0   \n",
       "2                   11       475.0                       1          0   \n",
       "3                    4       325.0                       1          0   \n",
       "4                    5       400.0                       1          0   \n",
       "...                ...         ...                     ...        ...   \n",
       "42329                3       180.0                       1          0   \n",
       "42330                3       169.0                       0          0   \n",
       "42331                3       222.0                       0          0   \n",
       "42332                9       240.0                       0          0   \n",
       "42333                3       145.0                       0          0   \n",
       "\n",
       "       terrace  terrace_area  garden  garden_area  surface_of_the_land  \\\n",
       "0            1           NaN       0          NaN                 95.0   \n",
       "1            1          40.0       1        430.0                826.0   \n",
       "2            1           NaN       1       1400.0               1543.0   \n",
       "3            1           NaN       1       2333.0               3570.0   \n",
       "4            1          80.0       1        500.0                616.0   \n",
       "...        ...           ...     ...          ...                  ...   \n",
       "42329        0           NaN       0          NaN                  NaN   \n",
       "42330        0           NaN       0          NaN                389.0   \n",
       "42331        0           NaN       0          NaN               1124.0   \n",
       "42332        0           NaN       0          NaN                200.0   \n",
       "42333        0           NaN       1         48.0                  NaN   \n",
       "\n",
       "       number_of_facades  swimming_pool state_of_the_building  \\\n",
       "0                    2.0              0         to be done up   \n",
       "1                    4.0              0                as new   \n",
       "2                    4.0              0                  good   \n",
       "3                    4.0              0                  good   \n",
       "4                    3.0              0                as new   \n",
       "...                  ...            ...                   ...   \n",
       "42329                4.0              0                   NaN   \n",
       "42330                3.0              0                   NaN   \n",
       "42331                4.0              0                   NaN   \n",
       "42332                2.0              0                   NaN   \n",
       "42333                3.0              0                   NaN   \n",
       "\n",
       "       construction_year  \n",
       "0                 1901.0  \n",
       "1                 1992.0  \n",
       "2                 1853.0  \n",
       "3                 1918.0  \n",
       "4                 1977.0  \n",
       "...                  ...  \n",
       "42329                NaN  \n",
       "42330                NaN  \n",
       "42331                NaN  \n",
       "42332                NaN  \n",
       "42333                NaN  \n",
       "\n",
       "[42334 rows x 18 columns]"
      ]
     },
     "execution_count": 290,
     "metadata": {},
     "output_type": "execute_result"
    }
   ],
   "source": [
    "immo_data"
   ]
  },
  {
   "cell_type": "markdown",
   "metadata": {},
   "source": [
    "## Save to csv"
   ]
  },
  {
   "cell_type": "code",
   "execution_count": 291,
   "metadata": {},
   "outputs": [],
   "source": [
    "immo_data.to_csv('filtered_dataset_house_appartment.csv', index=False)"
   ]
  },
  {
   "cell_type": "code",
   "execution_count": null,
   "metadata": {},
   "outputs": [],
   "source": []
  }
 ],
 "metadata": {
  "kernelspec": {
   "display_name": "Python 3",
   "language": "python",
   "name": "python3"
  },
  "language_info": {
   "codemirror_mode": {
    "name": "ipython",
    "version": 3
   },
   "file_extension": ".py",
   "mimetype": "text/x-python",
   "name": "python",
   "nbconvert_exporter": "python",
   "pygments_lexer": "ipython3",
   "version": "3.8.3"
  }
 },
 "nbformat": 4,
 "nbformat_minor": 4
}
